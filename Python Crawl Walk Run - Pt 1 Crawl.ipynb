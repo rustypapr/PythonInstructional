{
 "cells": [
  {
   "cell_type": "markdown",
   "metadata": {},
   "source": [
    "# Python Crawl Walk Run - Part 1: Crawl"
   ]
  },
  {
   "cell_type": "markdown",
   "metadata": {},
   "source": [
    "Programming is about automating complex processes by breaking them down into finite steps. We have some tools; variables let us hold and manipulate granular pieces of information. Functions are pre-programmed operations we can use to manipulate variables. We could manually split a file header using a lot of code, but it's nice to have a `split` function. Since we work with such granular pieces of information, its often necessary to perform the same operations many times. Thats why we use loops. Finally, we often need to make decisions - if the new file showed up then start processing it otherwise just keep waiting.<br>\n",
    "There isn't a secret to good programming. It's about understanding the problems and the tools. <br>\n",
    "Ok, if there is one secret, it's understanding how the tools can work together so that you start combining them. With python it's possible to do <b>a lot</b> on a single line. That isn't the goal because it makes code that is impossible to read. But being comfortable with the tools allows a faster expression of ideas.  "
   ]
  },
  {
   "cell_type": "markdown",
   "metadata": {},
   "source": [
    "## Understanding Variables\n",
    "We use variables to hold <b>granular</b> pieces of information. The fact that we can assign and change variable values gives us a very useful tool. \n",
    "Imagine a cash register at a coffee shop. They could use a basic calculator, and it would work just fine calculating change, but wouldn't it be useful if they had a way to track how much money that had in the register? "
   ]
  },
  {
   "cell_type": "code",
   "execution_count": 3,
   "metadata": {},
   "outputs": [
    {
     "name": "stdout",
     "output_type": "stream",
     "text": [
      "403.75\n",
      "409.57\n",
      "412.51\n"
     ]
    }
   ],
   "source": [
    "#They start of the day:\n",
    "# We need to use a float because there can be change.\n",
    "registerTotal = 400.32\n",
    "\n",
    "#Some customers come in:\n",
    "registerTotal = registerTotal + 3.43\n",
    "print(registerTotal)\n",
    "registerTotal = registerTotal + 5.82\n",
    "print(registerTotal)\n",
    "registerTotal = registerTotal + 2.94\n",
    "print(registerTotal)"
   ]
  },
  {
   "cell_type": "code",
   "execution_count": 4,
   "metadata": {},
   "outputs": [
    {
     "name": "stdout",
     "output_type": "stream",
     "text": [
      "162.51\n"
     ]
    }
   ],
   "source": [
    "#They decide to take some money to the bank, \n",
    "# and they always take the same amount\n",
    "DEPOSIT_AMOUNT = 250.00\n",
    "\n",
    "registerTotal = registerTotal - DEPOSIT_AMOUNT\n",
    "print(registerTotal)"
   ]
  },
  {
   "cell_type": "markdown",
   "metadata": {},
   "source": [
    "Ok that's useful, but we just ran out of singles, so now we can't make change it would be even better if we knew how much of each denomination we had. Well that is easy enough with different variables. "
   ]
  },
  {
   "cell_type": "code",
   "execution_count": 5,
   "metadata": {},
   "outputs": [
    {
     "name": "stdout",
     "output_type": "stream",
     "text": [
      "162.51\n"
     ]
    }
   ],
   "source": [
    "# We can use integers here becuase we won't have fractional amounts of currency\n",
    "twenties = 4\n",
    "tens = 6\n",
    "fives = 4\n",
    "singles = 0 \n",
    "quarters = 8\n",
    "dimes = 4\n",
    "nickles = 2\n",
    "pennies = 1\n",
    "\n",
    "summedTotal = 20*twenties + 10*tens + 5*fives + 1*singles + .25*quarters + .10*dimes + .05*nickles + .01*pennies\n",
    "print(summedTotal)"
   ]
  },
  {
   "cell_type": "markdown",
   "metadata": {},
   "source": [
    "Now we get some change by exchanging with the bank"
   ]
  },
  {
   "cell_type": "code",
   "execution_count": 6,
   "metadata": {},
   "outputs": [
    {
     "name": "stdout",
     "output_type": "stream",
     "text": [
      "162.51\n"
     ]
    }
   ],
   "source": [
    "twenties = twenties - 2\n",
    "\n",
    "singles = singles + 30\n",
    "fives = fives + 2\n",
    "\n",
    "summedTotal = 20*twenties + 10*tens + 5*fives + 1*singles + .25*quarters + .10*dimes + .05*nickles + .01*pennies\n",
    "print(summedTotal)"
   ]
  },
  {
   "cell_type": "markdown",
   "metadata": {},
   "source": [
    "Ok, the sanity check works. The register works; it can keep track of our money, but it is a little annyonying to use. Every time we want to check how much money we have we have to do all this work. It would be better if there was a faster way to count and sum all the different denominations. "
   ]
  },
  {
   "cell_type": "markdown",
   "metadata": {},
   "source": [
    "## Functions\n",
    "Functions allow shortcuts to code to be created. Instead of telling the computer what to do, it says, \"I already told you how to do this, follow those instructions again!\" They can take arguments or parameters (variables, and values) like an `f(x)` function that performs some calculation, or they dont need to - like a function that checks for new files. Both of those might return a value - the answer to the calculation, or the alert that a new file was found. And other functions, like one that prints, doesn't return anything. We call functions all the time. If we use a word we haven't defined, but we follow it with `( )` and it does something, then it's a function. We have seen  `map()`, `zip()`, `print()`,`.keys()`, `.split()`, `.join()`, `.upper()`, `.lower()` to name a few. The last 5 are part of classes and can only be called from specific objects, which have inhereted the class properties and functions. It's fine if that doesn't make sense yet becuase we aren't creating classes, we're creating a function. <br>\n",
    "The function will multiply the value of each denomination by the number of them in the register. 4 Twenties is $80. The amounts for all denominations will be added together to get the register total. The function will know how much each denomination is worth, it just need to know how many of each the register has, and those are it's inputs. Its output will be the total of everything. "
   ]
  },
  {
   "cell_type": "code",
   "execution_count": 7,
   "metadata": {},
   "outputs": [],
   "source": [
    "def totalRegister(twenties, tens, fives, singles, quarters, dimes, nickles, pennies):\n",
    "    total = 20*twenties + 10*tens + 5*fives + 1*singles + .25*quarters + .10*dimes + .05*nickles + .01*pennies\n",
    "    return total"
   ]
  },
  {
   "cell_type": "code",
   "execution_count": 8,
   "metadata": {},
   "outputs": [
    {
     "data": {
      "text/plain": [
       "162.51"
      ]
     },
     "execution_count": 8,
     "metadata": {},
     "output_type": "execute_result"
    }
   ],
   "source": [
    "totalRegister(twenties, tens, fives, singles, quarters, dimes, nickles, pennies)"
   ]
  },
  {
   "cell_type": "markdown",
   "metadata": {},
   "source": [
    "Awesome but what about the denominations. It would be good to quickly see how much we have. "
   ]
  },
  {
   "cell_type": "code",
   "execution_count": 9,
   "metadata": {},
   "outputs": [
    {
     "name": "stdout",
     "output_type": "stream",
     "text": [
      "twenties: 2\n",
      "tens: 6\n",
      "fives: 6\n",
      "singles: 30\n",
      "quarters: 8\n",
      "dimes: 4\n",
      "nickles: 2\n",
      "pennies: 1\n"
     ]
    }
   ],
   "source": [
    "print(f\"twenties: {twenties}\")\n",
    "print(f\"tens: {tens}\")\n",
    "print(f\"fives: {fives}\")\n",
    "print(f\"singles: {singles}\")\n",
    "print(f\"quarters: {quarters}\")\n",
    "print(f\"dimes: {dimes}\")\n",
    "print(f\"nickles: {nickles}\")\n",
    "print(f\"pennies: {pennies}\")"
   ]
  },
  {
   "cell_type": "markdown",
   "metadata": {},
   "source": [
    "## Dicts\n",
    "Cool. We can keep track of our money. We know exactly how much we have, and even how much of each denomination, but its still a lot of writing. Let's see if a different variable type might work better."
   ]
  },
  {
   "cell_type": "code",
   "execution_count": 10,
   "metadata": {},
   "outputs": [
    {
     "name": "stdout",
     "output_type": "stream",
     "text": [
      "{'twenties': 2, 'tens': 6, 'fives': 6, 'singles': 30, 'quarters': 8, 'dimes': 4, 'nickles': 2, 'pennies': 1}\n"
     ]
    }
   ],
   "source": [
    "# We already have the denomination amounts \n",
    "registerDictionary = {'twenties':twenties, \n",
    "                     'tens':tens, \n",
    "                     'fives':fives, \n",
    "                     'singles':singles, \n",
    "                     'quarters':quarters, \n",
    "                     'dimes':dimes, \n",
    "                     'nickles':nickles, \n",
    "                     'pennies':pennies, \n",
    "                     }\n",
    "print(registerDictionary)"
   ]
  },
  {
   "cell_type": "markdown",
   "metadata": {},
   "source": [
    "Ok what was the point of that? We'll its easier to output all the denomination amounts, and we can read it, but it looks like it will be harder to total it up. Just to reference 20's for example, we would have to write `registerDictionary['twenties']`. <br>\n",
    "Well maybe we dont. There are some tools we can use.<br>\n",
    "The `.keys()` function that we get with `dicts` will give us the denomination names, and the values are there if we reference them the right way.<br>\n",
    "First let's copy `registerDictionary` to a variable that's easier to type: `rd`"
   ]
  },
  {
   "cell_type": "code",
   "execution_count": 14,
   "metadata": {},
   "outputs": [
    {
     "name": "stdout",
     "output_type": "stream",
     "text": [
      "{'twenties': 2, 'tens': 6, 'fives': 6, 'singles': 30, 'quarters': 8, 'dimes': 4, 'nickles': 2, 'pennies': 1}\n"
     ]
    }
   ],
   "source": [
    "rd = registerDictionary\n",
    "print(rd)"
   ]
  },
  {
   "cell_type": "code",
   "execution_count": 15,
   "metadata": {},
   "outputs": [
    {
     "data": {
      "text/plain": [
       "dict_keys(['twenties', 'tens', 'fives', 'singles', 'quarters', 'dimes', 'nickles', 'pennies'])"
      ]
     },
     "execution_count": 15,
     "metadata": {},
     "output_type": "execute_result"
    }
   ],
   "source": [
    "rd.keys()"
   ]
  },
  {
   "cell_type": "markdown",
   "metadata": {},
   "source": [
    "That looks useful. I wonder if it can be used to make the printing look better..."
   ]
  },
  {
   "cell_type": "code",
   "execution_count": 24,
   "metadata": {},
   "outputs": [
    {
     "name": "stdout",
     "output_type": "stream",
     "text": [
      "            Twenties  ||   2\n",
      "                Tens  ||   6\n",
      "               Fives  ||   6\n",
      "             Singles  ||  30\n",
      "            Quarters  ||   8\n",
      "               Dimes  ||   4\n",
      "             Nickles  ||   2\n",
      "             Pennies  ||   1\n"
     ]
    }
   ],
   "source": [
    "for denomination in rd.keys():\n",
    "    print(f\"{denomination.title():>20}  || {rd[denomination]: >3}\")"
   ]
  },
  {
   "cell_type": "markdown",
   "metadata": {},
   "source": [
    "Well thats nice, how about the thing that matters - keeping track of how much money there is?\n",
    "The `registerDictionary` is good at reporting, but we would need to keep the denomination value somewhere else or this will get even longer: `20*twenties + 10*tens + 5*fives + 1*singles + .25*quarters + .10*dimes + .05*nickles + .01*pennies`"
   ]
  },
  {
   "cell_type": "code",
   "execution_count": 53,
   "metadata": {
    "scrolled": false
   },
   "outputs": [
    {
     "name": "stdout",
     "output_type": "stream",
     "text": [
      "dict_keys(['twenties', 'tens', 'fives', 'singles', 'quarters', 'dimes', 'nickles', 'pennies'])\n",
      "\n"
     ]
    }
   ],
   "source": [
    "pointOfSaleMachine = {'twenties':{'value':20, \n",
    "                                  'inventory':twenties}, \n",
    "                     'tens':{'value':10, \n",
    "                             'inventory':tens}, \n",
    "                     'fives':{'value':5, \n",
    "                              'inventory':fives}, \n",
    "                     'singles':{'value':1, \n",
    "                                'inventory':singles}, \n",
    "                     'quarters':{'value':.25, \n",
    "                                 'inventory':quarters}, \n",
    "                     'dimes':{'value':.1, \n",
    "                              'inventory':dimes}, \n",
    "                     'nickles':{'value':.05, \n",
    "                                'inventory':nickles}, \n",
    "                     'pennies':{'value':.01, \n",
    "                                'inventory':pennies}\n",
    "                     }\n",
    "#lets use an abbreviation\n",
    "pos = pointOfSaleMachine\n",
    "#lets create a new variable to track the total amount in the register\n",
    "posTotal = 0\n",
    "print(pos.keys(), end=\"\\n\\n\")\n"
   ]
  },
  {
   "cell_type": "code",
   "execution_count": 77,
   "metadata": {},
   "outputs": [
    {
     "name": "stdout",
     "output_type": "stream",
     "text": [
      "162.51  -  [40, 60, 30, 30, 2.0, 0.4, 0.1, 0.01]\n"
     ]
    }
   ],
   "source": [
    "#First with basic syntax, d will take on each value in the list above, and will lookup values from pos, a copy of pointOfSaleMachine. \n",
    "totals = []\n",
    "for d in pos.keys():\n",
    "    totals.append(pos[d]['value']*pos[d]['inventory'])\n",
    "print(sum(totals),\" - \", totals)"
   ]
  },
  {
   "cell_type": "markdown",
   "metadata": {},
   "source": [
    "## String Formatting\n",
    "\n",
    "<b>Start by printing a header</b> <br>\n",
    "`f\"{variable} static text\"` is the general format for f-strings. <br>\n",
    "The variable in an f-string can be quickly formatted with `:` inside `{ }` following the variable:<br>\n",
    "for ex. a number with a large decimal can be shown as a float but limited to only show 3: decimal places: {number:.3f}<br>\n",
    "The width of the line they take up can be set with <n and >n<br>\n",
    "pushing the text the to left and right respectively, and filling the rest of the n spaces with blanks.<br>\n",
    "Even though `{ }` are mostly intended to allow the use of variables or code, they can also be used to format static text like the first line."
   ]
  },
  {
   "cell_type": "code",
   "execution_count": 90,
   "metadata": {},
   "outputs": [
    {
     "name": "stdout",
     "output_type": "stream",
     "text": [
      "        Denomination  || Amount * value = $Total\n",
      "==================================================\n",
      "            Twenties  ||    2   *    20 = $40\n",
      "                Tens  ||    6   *    10 = $60\n",
      "               Fives  ||    6   *     5 = $30\n",
      "             Singles  ||   30   *     1 = $30\n",
      "            Quarters  ||    8   *  0.25 = $2.0\n",
      "               Dimes  ||    4   *   0.1 = $0.4\n",
      "             Nickles  ||    2   *  0.05 = $0.1\n",
      "             Pennies  ||    1   *  0.01 = $0.01\n",
      "                There is a total of:    $162.51\n"
     ]
    }
   ],
   "source": [
    "print(f\"{'Denomination': >20}  || {'Amount': >2} * {'value': >5} = $Total\")\n",
    "#Print 50 \"=\"\n",
    "print(f\"{'='*50}\")\n",
    "posTotal=0\n",
    "# This loops through all the different denominations once,\n",
    "# and well keep adding the amount to `posTotal`\n",
    "for denomination in pos.keys():\n",
    "    denomTotal =  (pos[denomination]['inventory'] * pos[denomination]['value'])\n",
    "    posTotal = posTotal + denomTotal\n",
    "    #This prints each time the loop runs, and the formatting is a little fancy. \n",
    "    print(f\"{denomination.title(): >20}  || {pos[denomination]['inventory']: >4}   * {pos[denomination]['value']: >5} = ${denomTotal}\")\n",
    "#This is not indented under the for loop so it prints only once\n",
    "print(f\"                There is a total of:    ${posTotal}\")"
   ]
  },
  {
   "cell_type": "markdown",
   "metadata": {},
   "source": [
    "# Walk! - A preview of Part 2\n",
    "## List Comprehension"
   ]
  },
  {
   "cell_type": "markdown",
   "metadata": {},
   "source": [
    "The table above is nice, but the code is a little hard to read. Sometimes refactoring can help, other times brevity does, and generally, there's a function for most things. We'll use all of it."
   ]
  },
  {
   "cell_type": "markdown",
   "metadata": {},
   "source": [
    "Even though it's at the end of the line `pos.keys()` is sort of the first thing that matters. `for k in` says to go through the loop once <i>for each</i> value in `pos.keys()` with `k` taking on one of those values each loop."
   ]
  },
  {
   "cell_type": "code",
   "execution_count": 70,
   "metadata": {},
   "outputs": [
    {
     "data": {
      "text/plain": [
       "[40, 60, 30, 30, 2.0, 0.4, 0.1, 0.01]"
      ]
     },
     "execution_count": 70,
     "metadata": {},
     "output_type": "execute_result"
    }
   ],
   "source": [
    "[pos[k]['inventory']*pos[k]['value'] for k in pos.keys()]"
   ]
  },
  {
   "cell_type": "markdown",
   "metadata": {},
   "source": [
    "That gives us each individual total. `sum()` can total it for us."
   ]
  },
  {
   "cell_type": "code",
   "execution_count": 71,
   "metadata": {
    "scrolled": true
   },
   "outputs": [
    {
     "data": {
      "text/plain": [
       "162.51"
      ]
     },
     "execution_count": 71,
     "metadata": {},
     "output_type": "execute_result"
    }
   ],
   "source": [
    "sum([pos[k]['inventory']*pos[k]['value'] for k in pos.keys()])"
   ]
  },
  {
   "cell_type": "markdown",
   "metadata": {},
   "source": [
    "The following code will be downright confusing for now. Eventually it will be intuitive, and more importantly, <b>fun</b> to try and think about how code can be written in more interesting ways. "
   ]
  },
  {
   "cell_type": "code",
   "execution_count": 101,
   "metadata": {},
   "outputs": [
    {
     "name": "stdout",
     "output_type": "stream",
     "text": [
      "        Denomination  || Amount * value = $Total\n",
      "==================================================\n",
      "            Twenties  ||    2   *    20 = $40\n",
      "                Tens  ||    6   *    10 = $60\n",
      "               Fives  ||    6   *     5 = $30\n",
      "             Singles  ||   30   *     1 = $30\n",
      "            Quarters  ||    8   *  0.25 = $2.0\n",
      "               Dimes  ||    4   *   0.1 = $0.4\n",
      "             Nickles  ||    2   *  0.05 = $0.1\n",
      "             Pennies  ||    1   *  0.01 = $0.01\n",
      "                There is a total of:    $162.51\n"
     ]
    }
   ],
   "source": [
    "def tally(denom, moneyDict):\n",
    "    t = moneyDict['inventory']*moneyDict['value']\n",
    "    print(f\"{denom.title(): >20}  || {moneyDict['inventory']: >4}   * {moneyDict['value']: >5} = ${t}\")\n",
    "    return t\n",
    "#Same header, and then everything happens while the footer is being processed\n",
    "print(f\"{'Denomination': >20}  || {'Amount': >2} * {'value': >5} = $Total\")  \n",
    "print(f\"{'='*50}\")\n",
    "print(f\"                There is a total of:    ${sum([tally(d, pos[d]) for d in pos])}\")    "
   ]
  },
  {
   "cell_type": "code",
   "execution_count": null,
   "metadata": {},
   "outputs": [],
   "source": []
  }
 ],
 "metadata": {
  "kernelspec": {
   "display_name": "Python 3",
   "language": "python",
   "name": "python3"
  },
  "language_info": {
   "codemirror_mode": {
    "name": "ipython",
    "version": 3
   },
   "file_extension": ".py",
   "mimetype": "text/x-python",
   "name": "python",
   "nbconvert_exporter": "python",
   "pygments_lexer": "ipython3",
   "version": "3.7.3"
  }
 },
 "nbformat": 4,
 "nbformat_minor": 2
}
