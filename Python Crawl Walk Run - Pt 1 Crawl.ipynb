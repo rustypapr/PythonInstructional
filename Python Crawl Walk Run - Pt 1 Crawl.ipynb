{
 "cells": [
  {
   "cell_type": "markdown",
   "metadata": {},
   "source": [
    "# Python Crawl Walk Run - Part 1: Crawl"
   ]
  },
  {
   "cell_type": "markdown",
   "metadata": {},
   "source": [
    "Programming is about automating complex processes by breaking them down into finite steps. We have some tools; variables let us hold an manipulate granular pieces of information. Functions are pre-programmed operations we can use to manipulate variables. We could manually split a file header using a lot of code, but its nice to have a split function. Since we work with such granular pieces of information, its often necessary to perform the same operations many times. Thats why we use loops. Finally, we often need to make decisions - if the new file showed up then start processing it otherwise just keep waiting."
   ]
  },
  {
   "cell_type": "markdown",
   "metadata": {},
   "source": [
    "## Understanding Variables\n",
    "We use variables to hold granular pieces of information. The fact that we can assign and change variable values gives us a very useful tool. \n",
    "Imagine a cash register at a coffee shop. They could use a basic calculator, and it would work just fine calculating change, but wouldn't it be useful if they had a way to track how much money that had in the register? "
   ]
  },
  {
   "cell_type": "code",
   "execution_count": 1,
   "metadata": {},
   "outputs": [
    {
     "name": "stdout",
     "output_type": "stream",
     "text": [
      "403.75\n",
      "409.57\n",
      "412.51\n"
     ]
    }
   ],
   "source": [
    "#They start of the day:\n",
    "# We need to use a float because there can be change.\n",
    "registerTotal = 400.32\n",
    "\n",
    "#Some customers come in:\n",
    "registerTotal = registerTotal + 3.43\n",
    "print(registerTotal)\n",
    "registerTotal = registerTotal + 5.82\n",
    "print(registerTotal)\n",
    "registerTotal = registerTotal + 2.94\n",
    "print(registerTotal)"
   ]
  },
  {
   "cell_type": "code",
   "execution_count": 2,
   "metadata": {},
   "outputs": [
    {
     "name": "stdout",
     "output_type": "stream",
     "text": [
      "162.51\n"
     ]
    }
   ],
   "source": [
    "#They decide to take some money to the bank, \n",
    "# and they always take the same amount\n",
    "DEPOSIT_AMOUNT = 250.00\n",
    "\n",
    "registerTotal = registerTotal - DEPOSIT_AMOUNT\n",
    "print(registerTotal)"
   ]
  },
  {
   "cell_type": "markdown",
   "metadata": {},
   "source": [
    "Ok that's useful, but we just ran out of singles, so now we can't make change it would be even better if we knew how much of each denomination we had. Well that is easy enough with different variables. "
   ]
  },
  {
   "cell_type": "code",
   "execution_count": 17,
   "metadata": {},
   "outputs": [
    {
     "name": "stdout",
     "output_type": "stream",
     "text": [
      "162.51\n"
     ]
    }
   ],
   "source": [
    "# We can use integers here becuase we won't have fractional amounts of currency\n",
    "twenties = 4\n",
    "tens = 6\n",
    "fives = 4\n",
    "singles = 0 \n",
    "quarters = 8\n",
    "dimes = 4\n",
    "nickles = 2\n",
    "pennies = 1\n",
    "\n",
    "summedTotal = 20*twenties + 10*tens + 5*fives + 1*singles + .25*quarters + .10*dimes + .05*nickles + .01*pennies\n",
    "print(summedTotal)"
   ]
  },
  {
   "cell_type": "markdown",
   "metadata": {},
   "source": [
    "Now we make some change with the bank"
   ]
  },
  {
   "cell_type": "code",
   "execution_count": 9,
   "metadata": {},
   "outputs": [
    {
     "name": "stdout",
     "output_type": "stream",
     "text": [
      "162.51\n"
     ]
    }
   ],
   "source": [
    "twenties = twenties - 2\n",
    "singles = singles + 30\n",
    "fives = fives + 2\n",
    "\n",
    "summedTotal = 20*twenties + 10*tens + 5*fives + 1*singles + .25*quarters + .10*dimes + .05*nickles + .01*pennies\n",
    "print(summedTotal)"
   ]
  },
  {
   "cell_type": "markdown",
   "metadata": {},
   "source": [
    "Ok, the sanity check works. The register works; it can keep track of our money, but it is a little annyonying to use. Every time we want to check how much money we have we have to do all this work. It would be better if there was a faster way to count and sum all the different denominations. "
   ]
  },
  {
   "cell_type": "code",
   "execution_count": null,
   "metadata": {},
   "outputs": [],
   "source": []
  },
  {
   "cell_type": "code",
   "execution_count": 22,
   "metadata": {},
   "outputs": [],
   "source": [
    "def totalRegister(twenties, tens, fives, singles, quarters, dimes, nickles, pennies):\n",
    "    total = 20*twenties + 10*tens + 5*fives + 1*singles + .25*quarters + .10*dimes + .05*nickles + .01*pennies\n",
    "    return total"
   ]
  },
  {
   "cell_type": "code",
   "execution_count": 23,
   "metadata": {},
   "outputs": [
    {
     "data": {
      "text/plain": [
       "162.51"
      ]
     },
     "execution_count": 23,
     "metadata": {},
     "output_type": "execute_result"
    }
   ],
   "source": [
    "totalRegister(twenties, tens, fives, singles, quarters, dimes, nickles, pennies)"
   ]
  },
  {
   "cell_type": "code",
   "execution_count": null,
   "metadata": {},
   "outputs": [],
   "source": [
    "Awesome"
   ]
  },
  {
   "cell_type": "code",
   "execution_count": 15,
   "metadata": {},
   "outputs": [
    {
     "name": "stdout",
     "output_type": "stream",
     "text": [
      "twenties: 2\n",
      "tens: 6\n",
      "fives: 6\n",
      "singles: 30\n",
      "quarters: 8\n",
      "dimes: 4\n",
      "nickles: 2\n",
      "pennies: 1\n"
     ]
    }
   ],
   "source": [
    "print(f\"twenties: {twenties}\")\n",
    "print(f\"tens: {tens}\")\n",
    "print(f\"fives: {fives}\")\n",
    "print(f\"singles: {singles}\")\n",
    "print(f\"quarters: {quarters}\")\n",
    "print(f\"dimes: {dimes}\")\n",
    "print(f\"nickles: {nickles}\")\n",
    "print(f\"pennies: {pennies}\")"
   ]
  },
  {
   "cell_type": "markdown",
   "metadata": {},
   "source": [
    "Cool. We can keep track of our money. We know exactly how much we have, and even how much of each denomination, but using all these variables means a lot of writing. Let's see if a different variable type might work better."
   ]
  },
  {
   "cell_type": "code",
   "execution_count": 19,
   "metadata": {},
   "outputs": [
    {
     "name": "stdout",
     "output_type": "stream",
     "text": [
      "{'twenties': 4, 'tens': 6, 'fives': 4, 'singles': 0, 'quarters': 8, 'dimes': 4, 'nickles': 2, 'pennies': 1}\n"
     ]
    }
   ],
   "source": [
    "# We already have the denomination amounts \n",
    "registerDictionary = {'twenties':twenties, \n",
    "                     'tens':tens, \n",
    "                     'fives':fives, \n",
    "                     'singles':singles, \n",
    "                     'quarters':quarters, \n",
    "                     'dimes':dimes, \n",
    "                     'nickles':nickles, \n",
    "                     'pennies':pennies, \n",
    "                     }\n",
    "print(registerDictionary)"
   ]
  },
  {
   "cell_type": "markdown",
   "metadata": {},
   "source": [
    "Ok what was the point of that? "
   ]
  },
  {
   "cell_type": "code",
   "execution_count": null,
   "metadata": {},
   "outputs": [],
   "source": []
  },
  {
   "cell_type": "code",
   "execution_count": null,
   "metadata": {},
   "outputs": [],
   "source": []
  },
  {
   "cell_type": "code",
   "execution_count": null,
   "metadata": {},
   "outputs": [],
   "source": []
  },
  {
   "cell_type": "markdown",
   "metadata": {},
   "source": []
  },
  {
   "cell_type": "code",
   "execution_count": null,
   "metadata": {},
   "outputs": [],
   "source": []
  },
  {
   "cell_type": "code",
   "execution_count": 10,
   "metadata": {},
   "outputs": [
    {
     "name": "stdout",
     "output_type": "stream",
     "text": [
      "twenties: 2\n",
      "tens: 6\n",
      "fives: 6\n",
      "singles: 30\n",
      "quarters: 8\n",
      "twenties: 4\n",
      "singles: 2\n",
      "quarters: 1\n"
     ]
    }
   ],
   "source": [
    "print(f\"twenties: {twenties}\")\n",
    "print(f\"tens: {tens}\")\n",
    "print(f\"fives: {fives}\")\n",
    "print(f\"singles: {singles}\")\n",
    "print(f\"quarters: {quarters}\")\n",
    "print(f\"twenties: {dimes}\")\n",
    "print(f\"singles: {nickles}\")\n",
    "print(f\"quarters: {pennies}\")"
   ]
  },
  {
   "cell_type": "code",
   "execution_count": null,
   "metadata": {},
   "outputs": [],
   "source": []
  }
 ],
 "metadata": {
  "kernelspec": {
   "display_name": "Python 3",
   "language": "python",
   "name": "python3"
  },
  "language_info": {
   "codemirror_mode": {
    "name": "ipython",
    "version": 3
   },
   "file_extension": ".py",
   "mimetype": "text/x-python",
   "name": "python",
   "nbconvert_exporter": "python",
   "pygments_lexer": "ipython3",
   "version": "3.7.4"
  }
 },
 "nbformat": 4,
 "nbformat_minor": 2
}
