{
 "cells": [
  {
   "cell_type": "markdown",
   "metadata": {},
   "source": [
    "## Dictionaries (Dicts)"
   ]
  },
  {
   "cell_type": "code",
   "execution_count": null,
   "metadata": {},
   "outputs": [],
   "source": [
    "# Unlike lists, dictionaries store information in key-value pairs\n",
    "# ---------------------------------------------------------------\n",
    "actors = [\"Tom Cruise\",\n",
    "          \"Angelina Jolie\",\n",
    "          \"Kristen Stewart\",\n",
    "          \"Denzel Washington\"]\n",
    "\n",
    "# A dictionary of an actor\n",
    "actor = {\"name\": \"Tom Cruise\"}\n",
    "print(f'{actor[\"name\"]}')\n"
   ]
  },
  {
   "cell_type": "code",
   "execution_count": 1,
   "metadata": {},
   "outputs": [
    {
     "name": "stdout",
     "output_type": "stream",
     "text": [
      "{'name': 'Angelina Jolie', 'genre': 'Action', 'nationality': 'United States'}\n",
      "Angelina Jolie\n"
     ]
    }
   ],
   "source": [
    "# A dictionary can contain multiple pairs of information\n",
    "actress = {\n",
    "    \"name\": \"Angelina Jolie\",\n",
    "    \"genre\": \"Action\",\n",
    "    \"nationality\": \"United States\"\n",
    "}\n",
    "\n",
    "print(actress)\n",
    "print(actress['name'])"
   ]
  },
  {
   "cell_type": "code",
   "execution_count": 2,
   "metadata": {},
   "outputs": [
    {
     "name": "stdout",
     "output_type": "stream",
     "text": [
      "dict_keys(['name', 'genre', 'nationality'])\n"
     ]
    }
   ],
   "source": [
    "#Like strings, dicts have built-in functions. One is .keys(), which \n",
    "# will list all the root-level keys of the dict.\n",
    "print(actress.keys())"
   ]
  },
  {
   "cell_type": "code",
   "execution_count": 6,
   "metadata": {},
   "outputs": [
    {
     "name": "stdout",
     "output_type": "stream",
     "text": [
      "name\n",
      "genre\n",
      "nationality\n"
     ]
    }
   ],
   "source": [
    "#Combining both .keys() with key references to print all values in the dict.\n",
    "for k in actress.keys():\n",
    "    #print(k)\n",
    "    print(actress[k])"
   ]
  },
  {
   "cell_type": "code",
   "execution_count": 7,
   "metadata": {},
   "outputs": [
    {
     "name": "stdout",
     "output_type": "stream",
     "text": [
      "Sylvester Stallone was in Rocky\n"
     ]
    }
   ],
   "source": [
    "# A dictionary can contain multiple types of information\n",
    "another_actor = {\n",
    "    \"name\": \"Sylvester Stallone\",\n",
    "    \"age\": 62,\n",
    "    \"married\": True,\n",
    "    \"best movies\": [\n",
    "        \"Rocky\",\n",
    "        \"Rocky 2\",\n",
    "        \"Rocky 3\"]}\n",
    "print(f'{another_actor[\"name\"]} was in {another_actor[\"best movies\"][0]}')"
   ]
  },
  {
   "cell_type": "code",
   "execution_count": 8,
   "metadata": {},
   "outputs": [
    {
     "name": "stdout",
     "output_type": "stream",
     "text": [
      "Interstellar made 360 in the US.\n"
     ]
    }
   ],
   "source": [
    "# A dictionary can even contain another dictionary\n",
    "film = {\n",
    "    \"title\": \"Interstellar\",\n",
    "    \"revenues\": {\n",
    "        \"United States\": 360,\n",
    "        \"China\": 250,\n",
    "        \"United Kingdom\": 73\n",
    "    }\n",
    "}\n",
    "print(f'{film[\"title\"]} made {film[\"revenues\"][\"United States\"]}'\" in the US.\")"
   ]
  },
  {
   "cell_type": "code",
   "execution_count": 9,
   "metadata": {
    "scrolled": true
   },
   "outputs": [
    {
     "name": "stdout",
     "output_type": "stream",
     "text": [
      "dict_keys(['title', 'revenues'])\n"
     ]
    }
   ],
   "source": [
    "#What do you think this will print?\n",
    "print(film.keys())"
   ]
  },
  {
   "cell_type": "code",
   "execution_count": 11,
   "metadata": {},
   "outputs": [
    {
     "name": "stdout",
     "output_type": "stream",
     "text": [
      "dict_keys(['United States', 'China', 'United Kingdom'])\n"
     ]
    }
   ],
   "source": [
    "print(film['revenues'].keys())"
   ]
  },
  {
   "cell_type": "code",
   "execution_count": null,
   "metadata": {},
   "outputs": [],
   "source": []
  }
 ],
 "metadata": {
  "kernelspec": {
   "display_name": "Python 3",
   "language": "python",
   "name": "python3"
  },
  "language_info": {
   "codemirror_mode": {
    "name": "ipython",
    "version": 3
   },
   "file_extension": ".py",
   "mimetype": "text/x-python",
   "name": "python",
   "nbconvert_exporter": "python",
   "pygments_lexer": "ipython3",
   "version": "3.7.4"
  }
 },
 "nbformat": 4,
 "nbformat_minor": 2
}
