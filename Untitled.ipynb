{
 "cells": [
  {
   "cell_type": "code",
   "execution_count": 51,
   "metadata": {},
   "outputs": [],
   "source": [
    "\n",
    "def baseAdjuster(base, num):\n",
    "    baseDict = {(base ** i):i+1 for i in range(0,50)}\n",
    "    #print(baseDict)\n",
    "    if num==base or (num / base) in baseDict.keys():\n",
    "        print(baseDict[int(num/base)] or 0)\n",
    "        return baseDict[int(num/base)]\n",
    "    else:\n",
    "        return 0\n",
    "    "
   ]
  },
  {
   "cell_type": "code",
   "execution_count": 54,
   "metadata": {},
   "outputs": [],
   "source": [
    "import re"
   ]
  },
  {
   "cell_type": "code",
   "execution_count": 67,
   "metadata": {},
   "outputs": [],
   "source": [
    "def countZeros(f):\n",
    "    try:\n",
    "        m = re.search(\"0+$\", str(f))\n",
    "        return m.end(0) - m.start(0) or 0\n",
    "    except Exception as e:\n",
    "        #print(f, e, m)\n",
    "        return 0"
   ]
  },
  {
   "cell_type": "code",
   "execution_count": 68,
   "metadata": {},
   "outputs": [
    {
     "data": {
      "text/plain": [
       "0"
      ]
     },
     "execution_count": 68,
     "metadata": {},
     "output_type": "execute_result"
    }
   ],
   "source": [
    "baseAdjuster(10,362880)"
   ]
  },
  {
   "cell_type": "code",
   "execution_count": 69,
   "metadata": {},
   "outputs": [
    {
     "data": {
      "text/plain": [
       "{0: [1, 0],\n",
       " 1: [1, 0],\n",
       " 2: [2, 0],\n",
       " 3: [6, 0],\n",
       " 4: [24, 0],\n",
       " 5: [120, 1],\n",
       " 6: [720, 1],\n",
       " 7: [5040, 1],\n",
       " 8: [40320, 1],\n",
       " 9: [362880, 1],\n",
       " 10: [3628800, 2],\n",
       " 11: [39916800, 2],\n",
       " 12: [479001600, 2],\n",
       " 13: [6227020800, 2],\n",
       " 14: [87178291200, 2],\n",
       " 15: [1307674368000, 3],\n",
       " 16: [20922789888000, 3],\n",
       " 17: [355687428096000, 3],\n",
       " 18: [6402373705728000, 3],\n",
       " 19: [121645100408832000, 3],\n",
       " 20: [2432902008176640000, 4],\n",
       " 21: [51090942171709440000, 4],\n",
       " 22: [1124000727777607680000, 4],\n",
       " 23: [25852016738884976640000, 4],\n",
       " 24: [620448401733239439360000, 4],\n",
       " 25: [15511210043330985984000000, 6],\n",
       " 26: [403291461126605635584000000, 6],\n",
       " 27: [10888869450418352160768000000, 6],\n",
       " 28: [304888344611713860501504000000, 6],\n",
       " 29: [8841761993739701954543616000000, 6],\n",
       " 30: [265252859812191058636308480000000, 7],\n",
       " 31: [8222838654177922817725562880000000, 7],\n",
       " 32: [263130836933693530167218012160000000, 7],\n",
       " 33: [8683317618811886495518194401280000000, 7],\n",
       " 34: [295232799039604140847618609643520000000, 7],\n",
       " 35: [10333147966386144929666651337523200000000, 8],\n",
       " 36: [371993326789901217467999448150835200000000, 8],\n",
       " 37: [13763753091226345046315979581580902400000000, 8],\n",
       " 38: [523022617466601111760007224100074291200000000, 8],\n",
       " 39: [20397882081197443358640281739902897356800000000, 8],\n",
       " 40: [815915283247897734345611269596115894272000000000, 9],\n",
       " 41: [33452526613163807108170062053440751665152000000000, 9],\n",
       " 42: [1405006117752879898543142606244511569936384000000000, 9],\n",
       " 43: [60415263063373835637355132068513997507264512000000000, 9],\n",
       " 44: [2658271574788448768043625811014615890319638528000000000, 9],\n",
       " 45: [119622220865480194561963161495657715064383733760000000000, 10],\n",
       " 46: [5502622159812088949850305428800254892961651752960000000000, 10],\n",
       " 47: [258623241511168180642964355153611979969197632389120000000000, 10],\n",
       " 48: [12413915592536072670862289047373375038521486354677760000000000, 10],\n",
       " 49: [608281864034267560872252163321295376887552831379210240000000000, 10]}"
      ]
     },
     "execution_count": 69,
     "metadata": {},
     "output_type": "execute_result"
    }
   ],
   "source": [
    "{i:[math.factorial(i),countZeros(math.factorial(i))] for i in range(50)}"
   ]
  },
  {
   "cell_type": "code",
   "execution_count": 74,
   "metadata": {},
   "outputs": [
    {
     "data": {
      "text/plain": [
       "249998"
      ]
     },
     "execution_count": 74,
     "metadata": {},
     "output_type": "execute_result"
    }
   ],
   "source": [
    "import re, math\n",
    "\n",
    "# fixme\n",
    "def zeroes (base, number):\n",
    "    m = re.search(\"0+$\", str((math.factorial(number))))\n",
    "    return m.end(0) - m.start(0)\n",
    "\n",
    "zeroes(256,1000000)"
   ]
  },
  {
   "cell_type": "code",
   "execution_count": 78,
   "metadata": {},
   "outputs": [],
   "source": [
    "n = [list(range(10)) for l in range(10)]"
   ]
  },
  {
   "cell_type": "code",
   "execution_count": 81,
   "metadata": {},
   "outputs": [
    {
     "data": {
      "text/plain": [
       "[[0, 1, 2, 3, 4, 5, 6, 7, 8, 9],\n",
       " [0, 1, 2, 3, 4, 5, 6, 7, 8, 9],\n",
       " [0, 1, 2, 3, 4, 5, 6, 7, 8, 9],\n",
       " [0, 1, 2, 3, 4, 5, 6, 7, 8, 9],\n",
       " [0, 1, 2, 3, 4, 5, 6, 7, 8, 9],\n",
       " [0, 1, 2, 3, 4, 5, 6, 7, 8, 9],\n",
       " [0, 1, 2, 3, 4, 5, 6, 7, 8, 9],\n",
       " [0, 1, 2, 3, 4, 5, 6, 7, 8, 9],\n",
       " [0, 1, 2, 3, 4, 5, 6, 7, 8, 9],\n",
       " [0, 1, 2, 3, 4, 5, 6, 7, 8, 9]]"
      ]
     },
     "execution_count": 81,
     "metadata": {},
     "output_type": "execute_result"
    }
   ],
   "source": [
    "[[f for f in r] for r in n]"
   ]
  },
  {
   "cell_type": "code",
   "execution_count": 102,
   "metadata": {},
   "outputs": [],
   "source": [
    "a = [[1,2,3],\n",
    "     [4,5,6],\n",
    "     [7,8,9]]"
   ]
  },
  {
   "cell_type": "code",
   "execution_count": 103,
   "metadata": {},
   "outputs": [],
   "source": [
    "ap = a.copy()"
   ]
  },
  {
   "cell_type": "code",
   "execution_count": 104,
   "metadata": {},
   "outputs": [
    {
     "name": "stdout",
     "output_type": "stream",
     "text": [
      "[[4, 5, 6], [7, 8, 9]]\n",
      "[([7, 8, 9],), ([4, 5, 6],)]\n",
      "[[7, 8, 9]]\n",
      "[([7, 8, 9],)]\n",
      "[]\n",
      "[]\n"
     ]
    }
   ],
   "source": [
    "path = []\n",
    "while len(ap)>0:\n",
    "    path += ap[0]\n",
    "    ap.pop(0)\n",
    "    print(ap)\n",
    "    print([f for f in zip(ap[::-1])])"
   ]
  },
  {
   "cell_type": "code",
   "execution_count": 86,
   "metadata": {},
   "outputs": [
    {
     "ename": "SyntaxError",
     "evalue": "invalid syntax (<ipython-input-86-4c3213be6e0d>, line 1)",
     "output_type": "error",
     "traceback": [
      "\u001b[1;36m  File \u001b[1;32m\"<ipython-input-86-4c3213be6e0d>\"\u001b[1;36m, line \u001b[1;32m1\u001b[0m\n\u001b[1;33m    sum([[c for c in]for r in a])\u001b[0m\n\u001b[1;37m                    ^\u001b[0m\n\u001b[1;31mSyntaxError\u001b[0m\u001b[1;31m:\u001b[0m invalid syntax\n"
     ]
    }
   ],
   "source": [
    " sum([[c for c in]for r in a])"
   ]
  },
  {
   "cell_type": "code",
   "execution_count": null,
   "metadata": {},
   "outputs": [],
   "source": []
  }
 ],
 "metadata": {
  "kernelspec": {
   "display_name": "Python 3",
   "language": "python",
   "name": "python3"
  },
  "language_info": {
   "codemirror_mode": {
    "name": "ipython",
    "version": 3
   },
   "file_extension": ".py",
   "mimetype": "text/x-python",
   "name": "python",
   "nbconvert_exporter": "python",
   "pygments_lexer": "ipython3",
   "version": "3.7.3"
  }
 },
 "nbformat": 4,
 "nbformat_minor": 2
}
