{
 "cells": [
  {
   "cell_type": "code",
   "execution_count": 1,
   "metadata": {},
   "outputs": [],
   "source": [
    "# Import Dependencies\n",
    "import pandas as pd\n",
    "import numpy as np"
   ]
  },
  {
   "cell_type": "code",
   "execution_count": 2,
   "metadata": {},
   "outputs": [
    {
     "data": {
      "text/html": "<div>\n<style scoped>\n    .dataframe tbody tr th:only-of-type {\n        vertical-align: middle;\n    }\n\n    .dataframe tbody tr th {\n        vertical-align: top;\n    }\n\n    .dataframe thead th {\n        text-align: right;\n    }\n</style>\n<table border=\"1\" class=\"dataframe\">\n  <thead>\n    <tr style=\"text-align: right;\">\n      <th></th>\n      <th>Name</th>\n      <th>Age</th>\n      <th>Nationality</th>\n      <th>Overall</th>\n      <th>Potential</th>\n      <th>Club</th>\n      <th>Preferred Position</th>\n      <th>CAM</th>\n      <th>CB</th>\n      <th>CDM</th>\n      <th>...</th>\n      <th>RB</th>\n      <th>RCB</th>\n      <th>RCM</th>\n      <th>RDM</th>\n      <th>RF</th>\n      <th>RM</th>\n      <th>RS</th>\n      <th>RW</th>\n      <th>RWB</th>\n      <th>ST</th>\n    </tr>\n  </thead>\n  <tbody>\n    <tr>\n      <th>0</th>\n      <td>Cristiano Ronaldo</td>\n      <td>32</td>\n      <td>Portugal</td>\n      <td>94</td>\n      <td>94</td>\n      <td>Real Madrid CF</td>\n      <td>ST</td>\n      <td>89.0</td>\n      <td>53.0</td>\n      <td>62.0</td>\n      <td>...</td>\n      <td>61.0</td>\n      <td>53.0</td>\n      <td>82.0</td>\n      <td>62.0</td>\n      <td>91.0</td>\n      <td>89.0</td>\n      <td>92.0</td>\n      <td>91.0</td>\n      <td>66.0</td>\n      <td>92.0</td>\n    </tr>\n    <tr>\n      <th>1</th>\n      <td>L. Messi</td>\n      <td>30</td>\n      <td>Argentina</td>\n      <td>93</td>\n      <td>93</td>\n      <td>FC Barcelona</td>\n      <td>RW</td>\n      <td>92.0</td>\n      <td>45.0</td>\n      <td>59.0</td>\n      <td>...</td>\n      <td>57.0</td>\n      <td>45.0</td>\n      <td>84.0</td>\n      <td>59.0</td>\n      <td>92.0</td>\n      <td>90.0</td>\n      <td>88.0</td>\n      <td>91.0</td>\n      <td>62.0</td>\n      <td>88.0</td>\n    </tr>\n    <tr>\n      <th>2</th>\n      <td>Neymar</td>\n      <td>25</td>\n      <td>Brazil</td>\n      <td>92</td>\n      <td>94</td>\n      <td>Paris Saint-Germain</td>\n      <td>LW</td>\n      <td>88.0</td>\n      <td>46.0</td>\n      <td>59.0</td>\n      <td>...</td>\n      <td>59.0</td>\n      <td>46.0</td>\n      <td>79.0</td>\n      <td>59.0</td>\n      <td>88.0</td>\n      <td>87.0</td>\n      <td>84.0</td>\n      <td>89.0</td>\n      <td>64.0</td>\n      <td>84.0</td>\n    </tr>\n    <tr>\n      <th>3</th>\n      <td>L. Suárez</td>\n      <td>30</td>\n      <td>Uruguay</td>\n      <td>92</td>\n      <td>92</td>\n      <td>FC Barcelona</td>\n      <td>ST</td>\n      <td>87.0</td>\n      <td>58.0</td>\n      <td>65.0</td>\n      <td>...</td>\n      <td>64.0</td>\n      <td>58.0</td>\n      <td>80.0</td>\n      <td>65.0</td>\n      <td>88.0</td>\n      <td>85.0</td>\n      <td>88.0</td>\n      <td>87.0</td>\n      <td>68.0</td>\n      <td>88.0</td>\n    </tr>\n    <tr>\n      <th>4</th>\n      <td>M. Neuer</td>\n      <td>31</td>\n      <td>Germany</td>\n      <td>92</td>\n      <td>92</td>\n      <td>FC Bayern Munich</td>\n      <td>GK</td>\n      <td>NaN</td>\n      <td>NaN</td>\n      <td>NaN</td>\n      <td>...</td>\n      <td>NaN</td>\n      <td>NaN</td>\n      <td>NaN</td>\n      <td>NaN</td>\n      <td>NaN</td>\n      <td>NaN</td>\n      <td>NaN</td>\n      <td>NaN</td>\n      <td>NaN</td>\n      <td>NaN</td>\n    </tr>\n    <tr>\n      <th>...</th>\n      <td>...</td>\n      <td>...</td>\n      <td>...</td>\n      <td>...</td>\n      <td>...</td>\n      <td>...</td>\n      <td>...</td>\n      <td>...</td>\n      <td>...</td>\n      <td>...</td>\n      <td>...</td>\n      <td>...</td>\n      <td>...</td>\n      <td>...</td>\n      <td>...</td>\n      <td>...</td>\n      <td>...</td>\n      <td>...</td>\n      <td>...</td>\n      <td>...</td>\n      <td>...</td>\n    </tr>\n    <tr>\n      <th>17976</th>\n      <td>A. Kelsey</td>\n      <td>17</td>\n      <td>England</td>\n      <td>46</td>\n      <td>63</td>\n      <td>Scunthorpe United</td>\n      <td>GK</td>\n      <td>NaN</td>\n      <td>NaN</td>\n      <td>NaN</td>\n      <td>...</td>\n      <td>NaN</td>\n      <td>NaN</td>\n      <td>NaN</td>\n      <td>NaN</td>\n      <td>NaN</td>\n      <td>NaN</td>\n      <td>NaN</td>\n      <td>NaN</td>\n      <td>NaN</td>\n      <td>NaN</td>\n    </tr>\n    <tr>\n      <th>17977</th>\n      <td>B. Richardson</td>\n      <td>47</td>\n      <td>England</td>\n      <td>46</td>\n      <td>46</td>\n      <td>Wycombe Wanderers</td>\n      <td>GK</td>\n      <td>NaN</td>\n      <td>NaN</td>\n      <td>NaN</td>\n      <td>...</td>\n      <td>NaN</td>\n      <td>NaN</td>\n      <td>NaN</td>\n      <td>NaN</td>\n      <td>NaN</td>\n      <td>NaN</td>\n      <td>NaN</td>\n      <td>NaN</td>\n      <td>NaN</td>\n      <td>NaN</td>\n    </tr>\n    <tr>\n      <th>17978</th>\n      <td>J. Young</td>\n      <td>17</td>\n      <td>Scotland</td>\n      <td>46</td>\n      <td>61</td>\n      <td>Swindon Town</td>\n      <td>ST</td>\n      <td>44.0</td>\n      <td>28.0</td>\n      <td>29.0</td>\n      <td>...</td>\n      <td>31.0</td>\n      <td>28.0</td>\n      <td>38.0</td>\n      <td>29.0</td>\n      <td>45.0</td>\n      <td>42.0</td>\n      <td>45.0</td>\n      <td>44.0</td>\n      <td>32.0</td>\n      <td>45.0</td>\n    </tr>\n    <tr>\n      <th>17979</th>\n      <td>J. Lundstram</td>\n      <td>18</td>\n      <td>England</td>\n      <td>46</td>\n      <td>64</td>\n      <td>Crewe Alexandra</td>\n      <td>CM</td>\n      <td>45.0</td>\n      <td>46.0</td>\n      <td>47.0</td>\n      <td>...</td>\n      <td>47.0</td>\n      <td>46.0</td>\n      <td>45.0</td>\n      <td>47.0</td>\n      <td>43.0</td>\n      <td>45.0</td>\n      <td>41.0</td>\n      <td>44.0</td>\n      <td>46.0</td>\n      <td>41.0</td>\n    </tr>\n    <tr>\n      <th>17980</th>\n      <td>L. Sackey</td>\n      <td>18</td>\n      <td>Ghana</td>\n      <td>46</td>\n      <td>64</td>\n      <td>Scunthorpe United</td>\n      <td>ST</td>\n      <td>29.0</td>\n      <td>45.0</td>\n      <td>38.0</td>\n      <td>...</td>\n      <td>40.0</td>\n      <td>45.0</td>\n      <td>30.0</td>\n      <td>38.0</td>\n      <td>29.0</td>\n      <td>30.0</td>\n      <td>31.0</td>\n      <td>29.0</td>\n      <td>38.0</td>\n      <td>31.0</td>\n    </tr>\n  </tbody>\n</table>\n<p>17981 rows × 33 columns</p>\n</div>",
      "text/plain": "                    Name  Age Nationality  Overall  Potential  \\\n0      Cristiano Ronaldo   32    Portugal       94         94   \n1               L. Messi   30   Argentina       93         93   \n2                 Neymar   25      Brazil       92         94   \n3              L. Suárez   30     Uruguay       92         92   \n4               M. Neuer   31     Germany       92         92   \n...                  ...  ...         ...      ...        ...   \n17976          A. Kelsey   17     England       46         63   \n17977      B. Richardson   47     England       46         46   \n17978           J. Young   17    Scotland       46         61   \n17979       J. Lundstram   18     England       46         64   \n17980          L. Sackey   18       Ghana       46         64   \n\n                      Club Preferred Position   CAM    CB   CDM  ...    RB  \\\n0           Real Madrid CF                 ST  89.0  53.0  62.0  ...  61.0   \n1             FC Barcelona                 RW  92.0  45.0  59.0  ...  57.0   \n2      Paris Saint-Germain                 LW  88.0  46.0  59.0  ...  59.0   \n3             FC Barcelona                 ST  87.0  58.0  65.0  ...  64.0   \n4         FC Bayern Munich                 GK   NaN   NaN   NaN  ...   NaN   \n...                    ...                ...   ...   ...   ...  ...   ...   \n17976    Scunthorpe United                 GK   NaN   NaN   NaN  ...   NaN   \n17977    Wycombe Wanderers                 GK   NaN   NaN   NaN  ...   NaN   \n17978         Swindon Town                 ST  44.0  28.0  29.0  ...  31.0   \n17979      Crewe Alexandra                 CM  45.0  46.0  47.0  ...  47.0   \n17980    Scunthorpe United                 ST  29.0  45.0  38.0  ...  40.0   \n\n        RCB   RCM   RDM    RF    RM    RS    RW   RWB    ST  \n0      53.0  82.0  62.0  91.0  89.0  92.0  91.0  66.0  92.0  \n1      45.0  84.0  59.0  92.0  90.0  88.0  91.0  62.0  88.0  \n2      46.0  79.0  59.0  88.0  87.0  84.0  89.0  64.0  84.0  \n3      58.0  80.0  65.0  88.0  85.0  88.0  87.0  68.0  88.0  \n4       NaN   NaN   NaN   NaN   NaN   NaN   NaN   NaN   NaN  \n...     ...   ...   ...   ...   ...   ...   ...   ...   ...  \n17976   NaN   NaN   NaN   NaN   NaN   NaN   NaN   NaN   NaN  \n17977   NaN   NaN   NaN   NaN   NaN   NaN   NaN   NaN   NaN  \n17978  28.0  38.0  29.0  45.0  42.0  45.0  44.0  32.0  45.0  \n17979  46.0  45.0  47.0  43.0  45.0  41.0  44.0  46.0  41.0  \n17980  45.0  30.0  38.0  29.0  30.0  31.0  29.0  38.0  31.0  \n\n[17981 rows x 33 columns]"
     },
     "execution_count": 2,
     "metadata": {},
     "output_type": "execute_result"
    }
   ],
   "source": [
    "# Create reference to CSV file\n",
    "csv_path = \"Resources/Soccer2018Data.csv\"\n",
    "\n",
    "# Import the CSV into a pandas DataFrame\n",
    "soccer_2018_df = pd.read_csv(csv_path, low_memory=False)\n",
    "soccer_2018_df"
   ]
  },
  {
   "cell_type": "code",
   "execution_count": 3,
   "metadata": {},
   "outputs": [
    {
     "data": {
      "text/plain": "array(['ST', 'RW', 'LW', 'GK', 'CDM', 'CB', 'RM', 'CM', 'LM', 'LB', 'CAM',\n       'RB', 'CF', 'RWB', 'LWB'], dtype=object)"
     },
     "execution_count": 3,
     "metadata": {},
     "output_type": "execute_result"
    }
   ],
   "source": [
    "# Collect a list of all the unique values in \"Preferred Position\"\n",
    "soccer_2018_df['Preferred Position'].unique()"
   ]
  },
  {
   "cell_type": "code",
   "execution_count": 30,
   "metadata": {},
   "outputs": [],
   "source": [
    "# Looking only at strikers (ST) to start\n",
    "strikers = soccer_2018_df.loc[soccer_2018_df['Preferred Position']=='ST']"
   ]
  },
  {
   "cell_type": "code",
   "execution_count": 31,
   "metadata": {},
   "outputs": [
    {
     "data": {
      "text/html": "<div>\n<style scoped>\n    .dataframe tbody tr th:only-of-type {\n        vertical-align: middle;\n    }\n\n    .dataframe tbody tr th {\n        vertical-align: top;\n    }\n\n    .dataframe thead th {\n        text-align: right;\n    }\n</style>\n<table border=\"1\" class=\"dataframe\">\n  <thead>\n    <tr style=\"text-align: right;\">\n      <th></th>\n      <th>index</th>\n      <th>Name</th>\n      <th>Age</th>\n      <th>Nationality</th>\n      <th>Overall</th>\n      <th>Potential</th>\n      <th>Club</th>\n      <th>Preferred Position</th>\n      <th>CAM</th>\n      <th>CB</th>\n      <th>...</th>\n      <th>RB</th>\n      <th>RCB</th>\n      <th>RCM</th>\n      <th>RDM</th>\n      <th>RF</th>\n      <th>RM</th>\n      <th>RS</th>\n      <th>RW</th>\n      <th>RWB</th>\n      <th>ST</th>\n    </tr>\n  </thead>\n  <tbody>\n    <tr>\n      <th>0</th>\n      <td>0</td>\n      <td>L. Sackey</td>\n      <td>18</td>\n      <td>Ghana</td>\n      <td>46</td>\n      <td>64</td>\n      <td>Scunthorpe United</td>\n      <td>ST</td>\n      <td>29.0</td>\n      <td>45.0</td>\n      <td>...</td>\n      <td>40.0</td>\n      <td>45.0</td>\n      <td>30.0</td>\n      <td>38.0</td>\n      <td>29.0</td>\n      <td>30.0</td>\n      <td>31.0</td>\n      <td>29.0</td>\n      <td>38.0</td>\n      <td>31.0</td>\n    </tr>\n    <tr>\n      <th>1</th>\n      <td>1</td>\n      <td>M. Zettl</td>\n      <td>18</td>\n      <td>Germany</td>\n      <td>50</td>\n      <td>67</td>\n      <td>SpVgg Unterhaching</td>\n      <td>ST</td>\n      <td>47.0</td>\n      <td>32.0</td>\n      <td>...</td>\n      <td>39.0</td>\n      <td>32.0</td>\n      <td>42.0</td>\n      <td>36.0</td>\n      <td>46.0</td>\n      <td>49.0</td>\n      <td>43.0</td>\n      <td>49.0</td>\n      <td>41.0</td>\n      <td>43.0</td>\n    </tr>\n    <tr>\n      <th>2</th>\n      <td>2</td>\n      <td>O. Sowunmi</td>\n      <td>21</td>\n      <td>England</td>\n      <td>59</td>\n      <td>71</td>\n      <td>Yeovil Town</td>\n      <td>ST</td>\n      <td>35.0</td>\n      <td>58.0</td>\n      <td>...</td>\n      <td>52.0</td>\n      <td>58.0</td>\n      <td>37.0</td>\n      <td>47.0</td>\n      <td>38.0</td>\n      <td>38.0</td>\n      <td>44.0</td>\n      <td>37.0</td>\n      <td>49.0</td>\n      <td>44.0</td>\n    </tr>\n    <tr>\n      <th>3</th>\n      <td>3</td>\n      <td>E. Mason-Clark</td>\n      <td>17</td>\n      <td>England</td>\n      <td>50</td>\n      <td>63</td>\n      <td>Barnet</td>\n      <td>ST</td>\n      <td>49.0</td>\n      <td>33.0</td>\n      <td>...</td>\n      <td>39.0</td>\n      <td>33.0</td>\n      <td>42.0</td>\n      <td>35.0</td>\n      <td>49.0</td>\n      <td>50.0</td>\n      <td>45.0</td>\n      <td>51.0</td>\n      <td>40.0</td>\n      <td>45.0</td>\n    </tr>\n    <tr>\n      <th>4</th>\n      <td>4</td>\n      <td>J. Young</td>\n      <td>17</td>\n      <td>Scotland</td>\n      <td>46</td>\n      <td>61</td>\n      <td>Swindon Town</td>\n      <td>ST</td>\n      <td>44.0</td>\n      <td>28.0</td>\n      <td>...</td>\n      <td>31.0</td>\n      <td>28.0</td>\n      <td>38.0</td>\n      <td>29.0</td>\n      <td>45.0</td>\n      <td>42.0</td>\n      <td>45.0</td>\n      <td>44.0</td>\n      <td>32.0</td>\n      <td>45.0</td>\n    </tr>\n    <tr>\n      <th>...</th>\n      <td>...</td>\n      <td>...</td>\n      <td>...</td>\n      <td>...</td>\n      <td>...</td>\n      <td>...</td>\n      <td>...</td>\n      <td>...</td>\n      <td>...</td>\n      <td>...</td>\n      <td>...</td>\n      <td>...</td>\n      <td>...</td>\n      <td>...</td>\n      <td>...</td>\n      <td>...</td>\n      <td>...</td>\n      <td>...</td>\n      <td>...</td>\n      <td>...</td>\n      <td>...</td>\n    </tr>\n    <tr>\n      <th>2272</th>\n      <td>2272</td>\n      <td>S. Agüero</td>\n      <td>29</td>\n      <td>Argentina</td>\n      <td>89</td>\n      <td>89</td>\n      <td>Manchester City</td>\n      <td>ST</td>\n      <td>85.0</td>\n      <td>44.0</td>\n      <td>...</td>\n      <td>52.0</td>\n      <td>44.0</td>\n      <td>75.0</td>\n      <td>54.0</td>\n      <td>87.0</td>\n      <td>84.0</td>\n      <td>86.0</td>\n      <td>86.0</td>\n      <td>57.0</td>\n      <td>86.0</td>\n    </tr>\n    <tr>\n      <th>2273</th>\n      <td>2273</td>\n      <td>G. Higuaín</td>\n      <td>29</td>\n      <td>Argentina</td>\n      <td>90</td>\n      <td>90</td>\n      <td>Juventus</td>\n      <td>ST</td>\n      <td>81.0</td>\n      <td>46.0</td>\n      <td>...</td>\n      <td>51.0</td>\n      <td>46.0</td>\n      <td>71.0</td>\n      <td>52.0</td>\n      <td>84.0</td>\n      <td>79.0</td>\n      <td>87.0</td>\n      <td>82.0</td>\n      <td>55.0</td>\n      <td>87.0</td>\n    </tr>\n    <tr>\n      <th>2274</th>\n      <td>2274</td>\n      <td>R. Lewandowski</td>\n      <td>28</td>\n      <td>Poland</td>\n      <td>91</td>\n      <td>91</td>\n      <td>FC Bayern Munich</td>\n      <td>ST</td>\n      <td>84.0</td>\n      <td>57.0</td>\n      <td>...</td>\n      <td>58.0</td>\n      <td>57.0</td>\n      <td>78.0</td>\n      <td>62.0</td>\n      <td>87.0</td>\n      <td>82.0</td>\n      <td>88.0</td>\n      <td>84.0</td>\n      <td>61.0</td>\n      <td>88.0</td>\n    </tr>\n    <tr>\n      <th>2275</th>\n      <td>2275</td>\n      <td>L. Suárez</td>\n      <td>30</td>\n      <td>Uruguay</td>\n      <td>92</td>\n      <td>92</td>\n      <td>FC Barcelona</td>\n      <td>ST</td>\n      <td>87.0</td>\n      <td>58.0</td>\n      <td>...</td>\n      <td>64.0</td>\n      <td>58.0</td>\n      <td>80.0</td>\n      <td>65.0</td>\n      <td>88.0</td>\n      <td>85.0</td>\n      <td>88.0</td>\n      <td>87.0</td>\n      <td>68.0</td>\n      <td>88.0</td>\n    </tr>\n    <tr>\n      <th>2276</th>\n      <td>2276</td>\n      <td>Cristiano Ronaldo</td>\n      <td>32</td>\n      <td>Portugal</td>\n      <td>94</td>\n      <td>94</td>\n      <td>Real Madrid CF</td>\n      <td>ST</td>\n      <td>89.0</td>\n      <td>53.0</td>\n      <td>...</td>\n      <td>61.0</td>\n      <td>53.0</td>\n      <td>82.0</td>\n      <td>62.0</td>\n      <td>91.0</td>\n      <td>89.0</td>\n      <td>92.0</td>\n      <td>91.0</td>\n      <td>66.0</td>\n      <td>92.0</td>\n    </tr>\n  </tbody>\n</table>\n<p>2277 rows × 34 columns</p>\n</div>",
      "text/plain": "      index               Name  Age Nationality  Overall  Potential  \\\n0         0          L. Sackey   18       Ghana       46         64   \n1         1           M. Zettl   18     Germany       50         67   \n2         2         O. Sowunmi   21     England       59         71   \n3         3     E. Mason-Clark   17     England       50         63   \n4         4           J. Young   17    Scotland       46         61   \n...     ...                ...  ...         ...      ...        ...   \n2272   2272          S. Agüero   29   Argentina       89         89   \n2273   2273         G. Higuaín   29   Argentina       90         90   \n2274   2274     R. Lewandowski   28      Poland       91         91   \n2275   2275          L. Suárez   30     Uruguay       92         92   \n2276   2276  Cristiano Ronaldo   32    Portugal       94         94   \n\n                    Club Preferred Position   CAM    CB  ...    RB   RCB  \\\n0      Scunthorpe United                 ST  29.0  45.0  ...  40.0  45.0   \n1     SpVgg Unterhaching                 ST  47.0  32.0  ...  39.0  32.0   \n2            Yeovil Town                 ST  35.0  58.0  ...  52.0  58.0   \n3                 Barnet                 ST  49.0  33.0  ...  39.0  33.0   \n4           Swindon Town                 ST  44.0  28.0  ...  31.0  28.0   \n...                  ...                ...   ...   ...  ...   ...   ...   \n2272     Manchester City                 ST  85.0  44.0  ...  52.0  44.0   \n2273            Juventus                 ST  81.0  46.0  ...  51.0  46.0   \n2274    FC Bayern Munich                 ST  84.0  57.0  ...  58.0  57.0   \n2275        FC Barcelona                 ST  87.0  58.0  ...  64.0  58.0   \n2276      Real Madrid CF                 ST  89.0  53.0  ...  61.0  53.0   \n\n       RCM   RDM    RF    RM    RS    RW   RWB    ST  \n0     30.0  38.0  29.0  30.0  31.0  29.0  38.0  31.0  \n1     42.0  36.0  46.0  49.0  43.0  49.0  41.0  43.0  \n2     37.0  47.0  38.0  38.0  44.0  37.0  49.0  44.0  \n3     42.0  35.0  49.0  50.0  45.0  51.0  40.0  45.0  \n4     38.0  29.0  45.0  42.0  45.0  44.0  32.0  45.0  \n...    ...   ...   ...   ...   ...   ...   ...   ...  \n2272  75.0  54.0  87.0  84.0  86.0  86.0  57.0  86.0  \n2273  71.0  52.0  84.0  79.0  87.0  82.0  55.0  87.0  \n2274  78.0  62.0  87.0  82.0  88.0  84.0  61.0  88.0  \n2275  80.0  65.0  88.0  85.0  88.0  87.0  68.0  88.0  \n2276  82.0  62.0  91.0  89.0  92.0  91.0  66.0  92.0  \n\n[2277 rows x 34 columns]"
     },
     "execution_count": 31,
     "metadata": {},
     "output_type": "execute_result"
    }
   ],
   "source": [
    "# Sort the DataFrame by the values in the \"ST\" column to find the worst\n",
    "strikers.sort_values('ST', inplace=True)\n",
    "# Reset the index so that the index is now based on the sorting locations\n",
    "strikers = strikers.reset_index()\n",
    "strikers.loc[:, 'index'] = [i for i in strikers.index]\n",
    "strikers"
   ]
  },
  {
   "cell_type": "code",
   "execution_count": 33,
   "metadata": {},
   "outputs": [
    {
     "data": {
      "text/html": "<div>\n<style scoped>\n    .dataframe tbody tr th:only-of-type {\n        vertical-align: middle;\n    }\n\n    .dataframe tbody tr th {\n        vertical-align: top;\n    }\n\n    .dataframe thead th {\n        text-align: right;\n    }\n</style>\n<table border=\"1\" class=\"dataframe\">\n  <thead>\n    <tr style=\"text-align: right;\">\n      <th></th>\n      <th>index</th>\n      <th>Name</th>\n      <th>Age</th>\n      <th>Nationality</th>\n      <th>Overall</th>\n      <th>Potential</th>\n      <th>Club</th>\n      <th>Preferred Position</th>\n      <th>CAM</th>\n      <th>CB</th>\n      <th>...</th>\n      <th>RB</th>\n      <th>RCB</th>\n      <th>RCM</th>\n      <th>RDM</th>\n      <th>RF</th>\n      <th>RM</th>\n      <th>RS</th>\n      <th>RW</th>\n      <th>RWB</th>\n      <th>ST</th>\n    </tr>\n  </thead>\n  <tbody>\n    <tr>\n      <th>0</th>\n      <td>0</td>\n      <td>L. Sackey</td>\n      <td>18</td>\n      <td>Ghana</td>\n      <td>46</td>\n      <td>64</td>\n      <td>Scunthorpe United</td>\n      <td>ST</td>\n      <td>29.0</td>\n      <td>45.0</td>\n      <td>...</td>\n      <td>40.0</td>\n      <td>45.0</td>\n      <td>30.0</td>\n      <td>38.0</td>\n      <td>29.0</td>\n      <td>30.0</td>\n      <td>31.0</td>\n      <td>29.0</td>\n      <td>38.0</td>\n      <td>31.0</td>\n    </tr>\n  </tbody>\n</table>\n<p>1 rows × 34 columns</p>\n</div>",
      "text/plain": "   index       Name  Age Nationality  Overall  Potential               Club  \\\n0      0  L. Sackey   18       Ghana       46         64  Scunthorpe United   \n\n  Preferred Position   CAM    CB  ...    RB   RCB   RCM   RDM    RF    RM  \\\n0                 ST  29.0  45.0  ...  40.0  45.0  30.0  38.0  29.0  30.0   \n\n     RS    RW   RWB    ST  \n0  31.0  29.0  38.0  31.0  \n\n[1 rows x 34 columns]"
     },
     "execution_count": 33,
     "metadata": {},
     "output_type": "execute_result"
    }
   ],
   "source": [
    "# Save all of the information collected on the worst striker\n",
    "strikers.loc[strikers.ST == strikers.ST.min()]"
   ]
  },
  {
   "cell_type": "code",
   "execution_count": 34,
   "metadata": {},
   "outputs": [
    {
     "data": {
      "text/html": "<div>\n<style scoped>\n    .dataframe tbody tr th:only-of-type {\n        vertical-align: middle;\n    }\n\n    .dataframe tbody tr th {\n        vertical-align: top;\n    }\n\n    .dataframe thead th {\n        text-align: right;\n    }\n</style>\n<table border=\"1\" class=\"dataframe\">\n  <thead>\n    <tr style=\"text-align: right;\">\n      <th></th>\n      <th>index</th>\n      <th>Name</th>\n      <th>Age</th>\n      <th>Nationality</th>\n      <th>Overall</th>\n      <th>Potential</th>\n      <th>Club</th>\n      <th>Preferred Position</th>\n      <th>CAM</th>\n      <th>CB</th>\n      <th>...</th>\n      <th>RB</th>\n      <th>RCB</th>\n      <th>RCM</th>\n      <th>RDM</th>\n      <th>RF</th>\n      <th>RM</th>\n      <th>RS</th>\n      <th>RW</th>\n      <th>RWB</th>\n      <th>ST</th>\n    </tr>\n  </thead>\n  <tbody>\n    <tr>\n      <th>0</th>\n      <td>0</td>\n      <td>L. Sackey</td>\n      <td>18</td>\n      <td>Ghana</td>\n      <td>46</td>\n      <td>64</td>\n      <td>Scunthorpe United</td>\n      <td>ST</td>\n      <td>29.0</td>\n      <td>45.0</td>\n      <td>...</td>\n      <td>40.0</td>\n      <td>45.0</td>\n      <td>30.0</td>\n      <td>38.0</td>\n      <td>29.0</td>\n      <td>30.0</td>\n      <td>31.0</td>\n      <td>29.0</td>\n      <td>38.0</td>\n      <td>31.0</td>\n    </tr>\n  </tbody>\n</table>\n<p>1 rows × 34 columns</p>\n</div>",
      "text/plain": "   index       Name  Age Nationality  Overall  Potential               Club  \\\n0      0  L. Sackey   18       Ghana       46         64  Scunthorpe United   \n\n  Preferred Position   CAM    CB  ...    RB   RCB   RCM   RDM    RF    RM  \\\n0                 ST  29.0  45.0  ...  40.0  45.0  30.0  38.0  29.0  30.0   \n\n     RS    RW   RWB    ST  \n0  31.0  29.0  38.0  31.0  \n\n[1 rows x 34 columns]"
     },
     "execution_count": 34,
     "metadata": {},
     "output_type": "execute_result"
    }
   ],
   "source": [
    "strikers.iloc[0:1]"
   ]
  },
  {
   "cell_type": "code",
   "execution_count": null,
   "metadata": {},
   "outputs": [],
   "source": []
  }
 ],
 "metadata": {
  "kernelspec": {
   "display_name": "Python 3.7.6 64-bit",
   "language": "python",
   "name": "python37664bit6623de2ee3cc4492989d45ba87a00782"
  },
  "language_info": {
   "codemirror_mode": {
    "name": "ipython",
    "version": 3
   },
   "file_extension": ".py",
   "mimetype": "text/x-python",
   "name": "python",
   "nbconvert_exporter": "python",
   "pygments_lexer": "ipython3",
   "version": "3.7.6-final"
  }
 },
 "nbformat": 4,
 "nbformat_minor": 2
}