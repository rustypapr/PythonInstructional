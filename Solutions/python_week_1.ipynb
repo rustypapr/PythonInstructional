{
 "cells": [
  {
   "cell_type": "markdown",
   "metadata": {},
   "source": [
    "### Number Chain"
   ]
  },
  {
   "cell_type": "code",
   "execution_count": 1,
   "metadata": {},
   "outputs": [
    {
     "name": "stdout",
     "output_type": "stream",
     "text": [
      "\n"
     ]
    }
   ],
   "source": [
    "print()"
   ]
  },
  {
   "cell_type": "code",
   "execution_count": 4,
   "metadata": {
    "scrolled": true
   },
   "outputs": [
    {
     "name": "stdout",
     "output_type": "stream",
     "text": [
      "Please specify a separator or we'll use \\n||\n",
      "\n",
      "How many numbers? 9\n",
      "1: 0||2: 1||3: 2||4: 3||5: 4||6: 5||7: 6||8: 7||9: 8\n",
      "\n",
      "Do you want to continue? (y)es/(n)o y\n",
      "\n",
      "How many numbers? 8\n",
      "1: 9||2: 10||3: 11||4: 12||5: 13||6: 14||7: 15||8: 16\n",
      "\n",
      "Do you want to continue? (y)es/(n)o y\n",
      "\n",
      "How many numbers? 10\n",
      "1: 17||2: 18||3: 19||4: 20||5: 21||6: 22||7: 23||8: 24||9: 25||10: 26\n",
      "\n",
      "Do you want to continue? (y)es/(n)o n\n"
     ]
    }
   ],
   "source": [
    "last_num = 0\n",
    "sep = input(\"Please specify a separator or we'll use \\\\n\") or \"\\n\"\n",
    "\n",
    "while True:\n",
    "    try:\n",
    "        lim = int(input(\"\\nHow many numbers? \"))\n",
    "        # Use the string in sep to join all the generated strings together\n",
    "        #     Generate strings that will be <index>: <next number> by enumerating through \n",
    "        #     the range of numbers from the last number from the last loop, \n",
    "        #     until the last number from the last group + the new limit\n",
    "        print(sep.join([f\"{n+1}: {str(i)}\" for n,i in enumerate(range(last_num, last_num+lim))]))\n",
    "        last_num += lim\n",
    "        if input(\"\\nDo you want to continue? (y)es/(n)o \") not in ['y','Y']:\n",
    "            break\n",
    "    except Exception as e:\n",
    "        print(f\"Please enter valid input next time. - {e}\")"
   ]
  },
  {
   "cell_type": "markdown",
   "metadata": {},
   "source": [
    "<br><br>\n",
    "\n",
    "### Candy Store"
   ]
  },
  {
   "cell_type": "code",
   "execution_count": 6,
   "metadata": {},
   "outputs": [
    {
     "name": "stdout",
     "output_type": "stream",
     "text": [
      "How much is your allowance? 4\n",
      "[0] Snickers\n",
      "[1] Kit Kat\n",
      "[2] Sour Patch Kids\n",
      "[3] Juicy Fruit\n",
      "[4] Swedish Fish\n",
      "[5] Skittles\n",
      "[6] Hershey Bar\n",
      "[7] Starbursts\n",
      "[8] M&Ms\n",
      "\n",
      "Please pick a candy:1\n",
      "Do you want to leave the store?  (y)es / (n)o  \n",
      "Please pick a candy:3\n",
      "Do you want to leave the store?  (y)es / (n)o  \n",
      "Please pick a candy:5\n",
      "Do you want to leave the store?  (y)es / (n)o  \n",
      "Please pick a candy:2\n",
      "Do you want to leave the store?  (y)es / (n)o  \n",
      "You're out of money, and bought: \n",
      "Kit Kat\n",
      "Juicy Fruit\n",
      "Skittles\n",
      "Sour Patch Kids\n"
     ]
    }
   ],
   "source": [
    "candyList = [\"Snickers\", \"Kit Kat\", \"Sour Patch Kids\", \"Juicy Fruit\", \"Swedish Fish\", \"Skittles\", \"Hershey Bar\", \"Starbursts\", \"M&Ms\"]\n",
    "\n",
    "try: \n",
    "    allowance = int(input(\"How much is your allowance? \"))\n",
    "except Exception as e:\n",
    "    print(f\"Nice try. But with no money, theres no candy.\")\n",
    "    allowance = 0\n",
    "print(\"\".join([f\"[{i}] {c}\\n\" for i,c in enumerate(candyList)]))\n",
    "basket = []\n",
    "while len(basket)<allowance:\n",
    "    try:\n",
    "        basket += [int(input(\"Please pick a candy:\"))]\n",
    "    except Exception as e:\n",
    "        print(\"Invalid selection. {e}\")\n",
    "    if input(\"Do you want to leave the store?  (y)es / (n)o  \" ) in ['y','Y']:\n",
    "        break\n",
    "\n",
    "print(\"You're out of money, and bought: \" if len(basket)==allowance else f\"You have {allowance - len(basket)} left and bought: \")\n",
    "print(\"\\n\".join([candyList[i] for i in basket]))"
   ]
  },
  {
   "cell_type": "markdown",
   "metadata": {},
   "source": [
    "<br><br>\n",
    "\n",
    "\n",
    "### Netflix"
   ]
  },
  {
   "cell_type": "code",
   "execution_count": 1,
   "metadata": {},
   "outputs": [],
   "source": [
    "import csv"
   ]
  },
  {
   "cell_type": "code",
   "execution_count": 5,
   "metadata": {},
   "outputs": [
    {
     "name": "stdout",
     "output_type": "stream",
     "text": [
      "What show or movie are you looking for? Kubo\n",
      "Kubo and the Two Strings is rated PG with a viewer rating of 96\n"
     ]
    }
   ],
   "source": [
    "netflix_file ='netflix_ratings.csv'\n",
    "search_term = input(\"What show or movie are you looking for? \")\n",
    "with open(netflix_file, 'r') as nf:\n",
    "    csvreader = csv.reader(nf, delimiter=',')\n",
    "    for row in csvreader:\n",
    "        if search_term in row[0]:\n",
    "            print(f\"{row[0]} is rated {row[1]} with a viewer rating of {row[5]}\")\n",
    "            break\n",
    "    nf.close()"
   ]
  }
 ],
 "metadata": {
  "kernelspec": {
   "display_name": "Python 3.7.3 64-bit",
   "language": "python",
   "name": "python37364bit19f3ed314e7242a9a63c636298ec2888"
  },
  "language_info": {
   "codemirror_mode": {
    "name": "ipython",
    "version": 3
   },
   "file_extension": ".py",
   "mimetype": "text/x-python",
   "name": "python",
   "nbconvert_exporter": "python",
   "pygments_lexer": "ipython3",
   "version": "3.7.3"
  }
 },
 "nbformat": 4,
 "nbformat_minor": 2
}
