{
 "cells": [
  {
   "cell_type": "code",
   "execution_count": 1,
   "metadata": {},
   "outputs": [],
   "source": [
    "# Dependencies\n",
    "import pandas as pd"
   ]
  },
  {
   "cell_type": "code",
   "execution_count": 2,
   "metadata": {},
   "outputs": [],
   "source": [
    "# Save file path to variable\n",
    "csvPath = './Resources/Pokemon.csv'"
   ]
  },
  {
   "cell_type": "code",
   "execution_count": 3,
   "metadata": {},
   "outputs": [
    {
     "data": {
      "text/html": "<div>\n<style scoped>\n    .dataframe tbody tr th:only-of-type {\n        vertical-align: middle;\n    }\n\n    .dataframe tbody tr th {\n        vertical-align: top;\n    }\n\n    .dataframe thead th {\n        text-align: right;\n    }\n</style>\n<table border=\"1\" class=\"dataframe\">\n  <thead>\n    <tr style=\"text-align: right;\">\n      <th></th>\n      <th>#</th>\n      <th>Name</th>\n      <th>Type 1</th>\n      <th>Type 2</th>\n      <th>Total</th>\n      <th>HP</th>\n      <th>Attack</th>\n      <th>Defense</th>\n      <th>Sp. Atk</th>\n      <th>Sp. Def</th>\n      <th>Speed</th>\n      <th>Generation</th>\n      <th>Legendary</th>\n    </tr>\n  </thead>\n  <tbody>\n    <tr>\n      <th>0</th>\n      <td>1</td>\n      <td>Bulbasaur</td>\n      <td>Grass</td>\n      <td>Poison</td>\n      <td>318</td>\n      <td>45</td>\n      <td>49</td>\n      <td>49</td>\n      <td>65</td>\n      <td>65</td>\n      <td>45</td>\n      <td>1</td>\n      <td>False</td>\n    </tr>\n    <tr>\n      <th>1</th>\n      <td>2</td>\n      <td>Ivysaur</td>\n      <td>Grass</td>\n      <td>Poison</td>\n      <td>405</td>\n      <td>60</td>\n      <td>62</td>\n      <td>63</td>\n      <td>80</td>\n      <td>80</td>\n      <td>60</td>\n      <td>1</td>\n      <td>False</td>\n    </tr>\n    <tr>\n      <th>2</th>\n      <td>3</td>\n      <td>Venusaur</td>\n      <td>Grass</td>\n      <td>Poison</td>\n      <td>525</td>\n      <td>80</td>\n      <td>82</td>\n      <td>83</td>\n      <td>100</td>\n      <td>100</td>\n      <td>80</td>\n      <td>1</td>\n      <td>False</td>\n    </tr>\n    <tr>\n      <th>3</th>\n      <td>3</td>\n      <td>VenusaurMega Venusaur</td>\n      <td>Grass</td>\n      <td>Poison</td>\n      <td>625</td>\n      <td>80</td>\n      <td>100</td>\n      <td>123</td>\n      <td>122</td>\n      <td>120</td>\n      <td>80</td>\n      <td>1</td>\n      <td>False</td>\n    </tr>\n    <tr>\n      <th>4</th>\n      <td>4</td>\n      <td>Charmander</td>\n      <td>Fire</td>\n      <td>NaN</td>\n      <td>309</td>\n      <td>39</td>\n      <td>52</td>\n      <td>43</td>\n      <td>60</td>\n      <td>50</td>\n      <td>65</td>\n      <td>1</td>\n      <td>False</td>\n    </tr>\n  </tbody>\n</table>\n</div>",
      "text/plain": "   #                   Name Type 1  Type 2  Total  HP  Attack  Defense  \\\n0  1              Bulbasaur  Grass  Poison    318  45      49       49   \n1  2                Ivysaur  Grass  Poison    405  60      62       63   \n2  3               Venusaur  Grass  Poison    525  80      82       83   \n3  3  VenusaurMega Venusaur  Grass  Poison    625  80     100      123   \n4  4             Charmander   Fire     NaN    309  39      52       43   \n\n   Sp. Atk  Sp. Def  Speed  Generation  Legendary  \n0       65       65     45           1      False  \n1       80       80     60           1      False  \n2      100      100     80           1      False  \n3      122      120     80           1      False  \n4       60       50     65           1      False  "
     },
     "execution_count": 3,
     "metadata": {},
     "output_type": "execute_result"
    }
   ],
   "source": [
    "# Read with Pandas\n",
    "pokeDf = pd.read_csv(csvPath, encoding='UTF-8')\n",
    "pokeDf.head()"
   ]
  },
  {
   "cell_type": "code",
   "execution_count": 4,
   "metadata": {},
   "outputs": [
    {
     "data": {
      "text/html": "<div>\n<style scoped>\n    .dataframe tbody tr th:only-of-type {\n        vertical-align: middle;\n    }\n\n    .dataframe tbody tr th {\n        vertical-align: top;\n    }\n\n    .dataframe thead th {\n        text-align: right;\n    }\n</style>\n<table border=\"1\" class=\"dataframe\">\n  <thead>\n    <tr style=\"text-align: right;\">\n      <th></th>\n      <th>Type 1</th>\n      <th>HP</th>\n      <th>Attack</th>\n      <th>Sp. Atk</th>\n      <th>Sp. Def</th>\n      <th>Speed</th>\n    </tr>\n  </thead>\n  <tbody>\n    <tr>\n      <th>0</th>\n      <td>Grass</td>\n      <td>45</td>\n      <td>49</td>\n      <td>65</td>\n      <td>65</td>\n      <td>45</td>\n    </tr>\n    <tr>\n      <th>1</th>\n      <td>Grass</td>\n      <td>60</td>\n      <td>62</td>\n      <td>80</td>\n      <td>80</td>\n      <td>60</td>\n    </tr>\n    <tr>\n      <th>2</th>\n      <td>Grass</td>\n      <td>80</td>\n      <td>82</td>\n      <td>100</td>\n      <td>100</td>\n      <td>80</td>\n    </tr>\n    <tr>\n      <th>3</th>\n      <td>Grass</td>\n      <td>80</td>\n      <td>100</td>\n      <td>122</td>\n      <td>120</td>\n      <td>80</td>\n    </tr>\n    <tr>\n      <th>4</th>\n      <td>Fire</td>\n      <td>39</td>\n      <td>52</td>\n      <td>60</td>\n      <td>50</td>\n      <td>65</td>\n    </tr>\n    <tr>\n      <th>...</th>\n      <td>...</td>\n      <td>...</td>\n      <td>...</td>\n      <td>...</td>\n      <td>...</td>\n      <td>...</td>\n    </tr>\n    <tr>\n      <th>795</th>\n      <td>Rock</td>\n      <td>50</td>\n      <td>100</td>\n      <td>100</td>\n      <td>150</td>\n      <td>50</td>\n    </tr>\n    <tr>\n      <th>796</th>\n      <td>Rock</td>\n      <td>50</td>\n      <td>160</td>\n      <td>160</td>\n      <td>110</td>\n      <td>110</td>\n    </tr>\n    <tr>\n      <th>797</th>\n      <td>Psychic</td>\n      <td>80</td>\n      <td>110</td>\n      <td>150</td>\n      <td>130</td>\n      <td>70</td>\n    </tr>\n    <tr>\n      <th>798</th>\n      <td>Psychic</td>\n      <td>80</td>\n      <td>160</td>\n      <td>170</td>\n      <td>130</td>\n      <td>80</td>\n    </tr>\n    <tr>\n      <th>799</th>\n      <td>Fire</td>\n      <td>80</td>\n      <td>110</td>\n      <td>130</td>\n      <td>90</td>\n      <td>70</td>\n    </tr>\n  </tbody>\n</table>\n<p>800 rows × 6 columns</p>\n</div>",
      "text/plain": "      Type 1  HP  Attack  Sp. Atk  Sp. Def  Speed\n0      Grass  45      49       65       65     45\n1      Grass  60      62       80       80     60\n2      Grass  80      82      100      100     80\n3      Grass  80     100      122      120     80\n4       Fire  39      52       60       50     65\n..       ...  ..     ...      ...      ...    ...\n795     Rock  50     100      100      150     50\n796     Rock  50     160      160      110    110\n797  Psychic  80     110      150      130     70\n798  Psychic  80     160      170      130     80\n799     Fire  80     110      130       90     70\n\n[800 rows x 6 columns]"
     },
     "execution_count": 4,
     "metadata": {},
     "output_type": "execute_result"
    }
   ],
   "source": [
    "# Extract the following columns: \"Type 1\", \"HP\", \"Attack\", \"Sp. Atk\", \"Sp. Def\", and \"Speed\"\n",
    "cleanDf = pokeDf[[\"Type 1\", \"HP\", \"Attack\", \"Sp. Atk\", \"Sp. Def\", \"Speed\"]]\n",
    "cleanDf"
   ]
  },
  {
   "cell_type": "code",
   "execution_count": 5,
   "metadata": {},
   "outputs": [
    {
     "data": {
      "text/html": "<div>\n<style scoped>\n    .dataframe tbody tr th:only-of-type {\n        vertical-align: middle;\n    }\n\n    .dataframe tbody tr th {\n        vertical-align: top;\n    }\n\n    .dataframe thead th {\n        text-align: right;\n    }\n</style>\n<table border=\"1\" class=\"dataframe\">\n  <thead>\n    <tr style=\"text-align: right;\">\n      <th></th>\n      <th>HP</th>\n      <th>Attack</th>\n      <th>Sp. Atk</th>\n      <th>Sp. Def</th>\n      <th>Speed</th>\n    </tr>\n    <tr>\n      <th>Type 1</th>\n      <th></th>\n      <th></th>\n      <th></th>\n      <th></th>\n      <th></th>\n    </tr>\n  </thead>\n  <tbody>\n    <tr>\n      <th>Bug</th>\n      <td>56.884058</td>\n      <td>70.971014</td>\n      <td>53.869565</td>\n      <td>64.797101</td>\n      <td>61.681159</td>\n    </tr>\n    <tr>\n      <th>Dark</th>\n      <td>66.806452</td>\n      <td>88.387097</td>\n      <td>74.645161</td>\n      <td>69.516129</td>\n      <td>76.161290</td>\n    </tr>\n    <tr>\n      <th>Dragon</th>\n      <td>83.312500</td>\n      <td>112.125000</td>\n      <td>96.843750</td>\n      <td>88.843750</td>\n      <td>83.031250</td>\n    </tr>\n    <tr>\n      <th>Electric</th>\n      <td>59.795455</td>\n      <td>69.090909</td>\n      <td>90.022727</td>\n      <td>73.704545</td>\n      <td>84.500000</td>\n    </tr>\n    <tr>\n      <th>Fairy</th>\n      <td>74.117647</td>\n      <td>61.529412</td>\n      <td>78.529412</td>\n      <td>84.705882</td>\n      <td>48.588235</td>\n    </tr>\n    <tr>\n      <th>Fighting</th>\n      <td>69.851852</td>\n      <td>96.777778</td>\n      <td>53.111111</td>\n      <td>64.703704</td>\n      <td>66.074074</td>\n    </tr>\n    <tr>\n      <th>Fire</th>\n      <td>69.903846</td>\n      <td>84.769231</td>\n      <td>88.980769</td>\n      <td>72.211538</td>\n      <td>74.442308</td>\n    </tr>\n    <tr>\n      <th>Flying</th>\n      <td>70.750000</td>\n      <td>78.750000</td>\n      <td>94.250000</td>\n      <td>72.500000</td>\n      <td>102.500000</td>\n    </tr>\n    <tr>\n      <th>Ghost</th>\n      <td>64.437500</td>\n      <td>73.781250</td>\n      <td>79.343750</td>\n      <td>76.468750</td>\n      <td>64.343750</td>\n    </tr>\n    <tr>\n      <th>Grass</th>\n      <td>67.271429</td>\n      <td>73.214286</td>\n      <td>77.500000</td>\n      <td>70.428571</td>\n      <td>61.928571</td>\n    </tr>\n    <tr>\n      <th>Ground</th>\n      <td>73.781250</td>\n      <td>95.750000</td>\n      <td>56.468750</td>\n      <td>62.750000</td>\n      <td>63.906250</td>\n    </tr>\n    <tr>\n      <th>Ice</th>\n      <td>72.000000</td>\n      <td>72.750000</td>\n      <td>77.541667</td>\n      <td>76.291667</td>\n      <td>63.458333</td>\n    </tr>\n    <tr>\n      <th>Normal</th>\n      <td>77.275510</td>\n      <td>73.469388</td>\n      <td>55.816327</td>\n      <td>63.724490</td>\n      <td>71.551020</td>\n    </tr>\n    <tr>\n      <th>Poison</th>\n      <td>67.250000</td>\n      <td>74.678571</td>\n      <td>60.428571</td>\n      <td>64.392857</td>\n      <td>63.571429</td>\n    </tr>\n    <tr>\n      <th>Psychic</th>\n      <td>70.631579</td>\n      <td>71.456140</td>\n      <td>98.403509</td>\n      <td>86.280702</td>\n      <td>81.491228</td>\n    </tr>\n    <tr>\n      <th>Rock</th>\n      <td>65.363636</td>\n      <td>92.863636</td>\n      <td>63.340909</td>\n      <td>75.477273</td>\n      <td>55.909091</td>\n    </tr>\n    <tr>\n      <th>Steel</th>\n      <td>65.222222</td>\n      <td>92.703704</td>\n      <td>67.518519</td>\n      <td>80.629630</td>\n      <td>55.259259</td>\n    </tr>\n    <tr>\n      <th>Water</th>\n      <td>72.062500</td>\n      <td>74.151786</td>\n      <td>74.812500</td>\n      <td>70.517857</td>\n      <td>65.964286</td>\n    </tr>\n  </tbody>\n</table>\n</div>",
      "text/plain": "                 HP      Attack    Sp. Atk    Sp. Def       Speed\nType 1                                                           \nBug       56.884058   70.971014  53.869565  64.797101   61.681159\nDark      66.806452   88.387097  74.645161  69.516129   76.161290\nDragon    83.312500  112.125000  96.843750  88.843750   83.031250\nElectric  59.795455   69.090909  90.022727  73.704545   84.500000\nFairy     74.117647   61.529412  78.529412  84.705882   48.588235\nFighting  69.851852   96.777778  53.111111  64.703704   66.074074\nFire      69.903846   84.769231  88.980769  72.211538   74.442308\nFlying    70.750000   78.750000  94.250000  72.500000  102.500000\nGhost     64.437500   73.781250  79.343750  76.468750   64.343750\nGrass     67.271429   73.214286  77.500000  70.428571   61.928571\nGround    73.781250   95.750000  56.468750  62.750000   63.906250\nIce       72.000000   72.750000  77.541667  76.291667   63.458333\nNormal    77.275510   73.469388  55.816327  63.724490   71.551020\nPoison    67.250000   74.678571  60.428571  64.392857   63.571429\nPsychic   70.631579   71.456140  98.403509  86.280702   81.491228\nRock      65.363636   92.863636  63.340909  75.477273   55.909091\nSteel     65.222222   92.703704  67.518519  80.629630   55.259259\nWater     72.062500   74.151786  74.812500  70.517857   65.964286"
     },
     "execution_count": 5,
     "metadata": {},
     "output_type": "execute_result"
    }
   ],
   "source": [
    "# Create a dataframe of the average stats for each type of pokemon.\n",
    "typeAveragesDf = pd.DataFrame(cleanDf.groupby('Type 1')[['HP', 'Attack', 'Sp. Atk', 'Sp. Def','Speed']].mean())\n",
    "typeAveragesDf"
   ]
  },
  {
   "cell_type": "code",
   "execution_count": 6,
   "metadata": {},
   "outputs": [
    {
     "data": {
      "text/html": "<div>\n<style scoped>\n    .dataframe tbody tr th:only-of-type {\n        vertical-align: middle;\n    }\n\n    .dataframe tbody tr th {\n        vertical-align: top;\n    }\n\n    .dataframe thead th {\n        text-align: right;\n    }\n</style>\n<table border=\"1\" class=\"dataframe\">\n  <thead>\n    <tr style=\"text-align: right;\">\n      <th></th>\n      <th>HP</th>\n      <th>Attack</th>\n      <th>Sp. Atk</th>\n      <th>Sp. Def</th>\n      <th>Speed</th>\n      <th>totalPower</th>\n    </tr>\n    <tr>\n      <th>Type 1</th>\n      <th></th>\n      <th></th>\n      <th></th>\n      <th></th>\n      <th></th>\n      <th></th>\n    </tr>\n  </thead>\n  <tbody>\n    <tr>\n      <th>Bug</th>\n      <td>56.884058</td>\n      <td>70.971014</td>\n      <td>53.869565</td>\n      <td>64.797101</td>\n      <td>61.681159</td>\n      <td>308.202899</td>\n    </tr>\n    <tr>\n      <th>Dark</th>\n      <td>66.806452</td>\n      <td>88.387097</td>\n      <td>74.645161</td>\n      <td>69.516129</td>\n      <td>76.161290</td>\n      <td>375.516129</td>\n    </tr>\n    <tr>\n      <th>Dragon</th>\n      <td>83.312500</td>\n      <td>112.125000</td>\n      <td>96.843750</td>\n      <td>88.843750</td>\n      <td>83.031250</td>\n      <td>464.156250</td>\n    </tr>\n    <tr>\n      <th>Electric</th>\n      <td>59.795455</td>\n      <td>69.090909</td>\n      <td>90.022727</td>\n      <td>73.704545</td>\n      <td>84.500000</td>\n      <td>377.113636</td>\n    </tr>\n    <tr>\n      <th>Fairy</th>\n      <td>74.117647</td>\n      <td>61.529412</td>\n      <td>78.529412</td>\n      <td>84.705882</td>\n      <td>48.588235</td>\n      <td>347.470588</td>\n    </tr>\n    <tr>\n      <th>Fighting</th>\n      <td>69.851852</td>\n      <td>96.777778</td>\n      <td>53.111111</td>\n      <td>64.703704</td>\n      <td>66.074074</td>\n      <td>350.518519</td>\n    </tr>\n    <tr>\n      <th>Fire</th>\n      <td>69.903846</td>\n      <td>84.769231</td>\n      <td>88.980769</td>\n      <td>72.211538</td>\n      <td>74.442308</td>\n      <td>390.307692</td>\n    </tr>\n    <tr>\n      <th>Flying</th>\n      <td>70.750000</td>\n      <td>78.750000</td>\n      <td>94.250000</td>\n      <td>72.500000</td>\n      <td>102.500000</td>\n      <td>418.750000</td>\n    </tr>\n    <tr>\n      <th>Ghost</th>\n      <td>64.437500</td>\n      <td>73.781250</td>\n      <td>79.343750</td>\n      <td>76.468750</td>\n      <td>64.343750</td>\n      <td>358.375000</td>\n    </tr>\n    <tr>\n      <th>Grass</th>\n      <td>67.271429</td>\n      <td>73.214286</td>\n      <td>77.500000</td>\n      <td>70.428571</td>\n      <td>61.928571</td>\n      <td>350.342857</td>\n    </tr>\n    <tr>\n      <th>Ground</th>\n      <td>73.781250</td>\n      <td>95.750000</td>\n      <td>56.468750</td>\n      <td>62.750000</td>\n      <td>63.906250</td>\n      <td>352.656250</td>\n    </tr>\n    <tr>\n      <th>Ice</th>\n      <td>72.000000</td>\n      <td>72.750000</td>\n      <td>77.541667</td>\n      <td>76.291667</td>\n      <td>63.458333</td>\n      <td>362.041667</td>\n    </tr>\n    <tr>\n      <th>Normal</th>\n      <td>77.275510</td>\n      <td>73.469388</td>\n      <td>55.816327</td>\n      <td>63.724490</td>\n      <td>71.551020</td>\n      <td>341.836735</td>\n    </tr>\n    <tr>\n      <th>Poison</th>\n      <td>67.250000</td>\n      <td>74.678571</td>\n      <td>60.428571</td>\n      <td>64.392857</td>\n      <td>63.571429</td>\n      <td>330.321429</td>\n    </tr>\n    <tr>\n      <th>Psychic</th>\n      <td>70.631579</td>\n      <td>71.456140</td>\n      <td>98.403509</td>\n      <td>86.280702</td>\n      <td>81.491228</td>\n      <td>408.263158</td>\n    </tr>\n    <tr>\n      <th>Rock</th>\n      <td>65.363636</td>\n      <td>92.863636</td>\n      <td>63.340909</td>\n      <td>75.477273</td>\n      <td>55.909091</td>\n      <td>352.954545</td>\n    </tr>\n    <tr>\n      <th>Steel</th>\n      <td>65.222222</td>\n      <td>92.703704</td>\n      <td>67.518519</td>\n      <td>80.629630</td>\n      <td>55.259259</td>\n      <td>361.333333</td>\n    </tr>\n    <tr>\n      <th>Water</th>\n      <td>72.062500</td>\n      <td>74.151786</td>\n      <td>74.812500</td>\n      <td>70.517857</td>\n      <td>65.964286</td>\n      <td>357.508929</td>\n    </tr>\n  </tbody>\n</table>\n</div>",
      "text/plain": "                 HP      Attack    Sp. Atk    Sp. Def       Speed  totalPower\nType 1                                                                       \nBug       56.884058   70.971014  53.869565  64.797101   61.681159  308.202899\nDark      66.806452   88.387097  74.645161  69.516129   76.161290  375.516129\nDragon    83.312500  112.125000  96.843750  88.843750   83.031250  464.156250\nElectric  59.795455   69.090909  90.022727  73.704545   84.500000  377.113636\nFairy     74.117647   61.529412  78.529412  84.705882   48.588235  347.470588\nFighting  69.851852   96.777778  53.111111  64.703704   66.074074  350.518519\nFire      69.903846   84.769231  88.980769  72.211538   74.442308  390.307692\nFlying    70.750000   78.750000  94.250000  72.500000  102.500000  418.750000\nGhost     64.437500   73.781250  79.343750  76.468750   64.343750  358.375000\nGrass     67.271429   73.214286  77.500000  70.428571   61.928571  350.342857\nGround    73.781250   95.750000  56.468750  62.750000   63.906250  352.656250\nIce       72.000000   72.750000  77.541667  76.291667   63.458333  362.041667\nNormal    77.275510   73.469388  55.816327  63.724490   71.551020  341.836735\nPoison    67.250000   74.678571  60.428571  64.392857   63.571429  330.321429\nPsychic   70.631579   71.456140  98.403509  86.280702   81.491228  408.263158\nRock      65.363636   92.863636  63.340909  75.477273   55.909091  352.954545\nSteel     65.222222   92.703704  67.518519  80.629630   55.259259  361.333333\nWater     72.062500   74.151786  74.812500  70.517857   65.964286  357.508929"
     },
     "execution_count": 6,
     "metadata": {},
     "output_type": "execute_result"
    }
   ],
   "source": [
    "# Calculate the total power level of each type of pokemon by summing all of the stats together.\n",
    "# Place the results into a new column.\n",
    "# Hint: Research the sum method from pandas.\n",
    "typeAveragesDf['totalPower'] = typeAveragesDf.iloc[: ,0:5].sum(axis=1)\n",
    "typeAveragesDf"
   ]
  },
  {
   "cell_type": "code",
   "execution_count": 7,
   "metadata": {},
   "outputs": [
    {
     "data": {
      "text/html": "<div>\n<style scoped>\n    .dataframe tbody tr th:only-of-type {\n        vertical-align: middle;\n    }\n\n    .dataframe tbody tr th {\n        vertical-align: top;\n    }\n\n    .dataframe thead th {\n        text-align: right;\n    }\n</style>\n<table border=\"1\" class=\"dataframe\">\n  <thead>\n    <tr style=\"text-align: right;\">\n      <th></th>\n      <th>HP</th>\n      <th>Attack</th>\n      <th>Sp. Atk</th>\n      <th>Sp. Def</th>\n      <th>Speed</th>\n      <th>totalPower</th>\n    </tr>\n    <tr>\n      <th>Type 1</th>\n      <th></th>\n      <th></th>\n      <th></th>\n      <th></th>\n      <th></th>\n      <th></th>\n    </tr>\n  </thead>\n  <tbody>\n    <tr>\n      <th>Bug</th>\n      <td>56.884058</td>\n      <td>70.971014</td>\n      <td>53.869565</td>\n      <td>64.797101</td>\n      <td>61.681159</td>\n      <td>308.202899</td>\n    </tr>\n    <tr>\n      <th>Poison</th>\n      <td>67.250000</td>\n      <td>74.678571</td>\n      <td>60.428571</td>\n      <td>64.392857</td>\n      <td>63.571429</td>\n      <td>330.321429</td>\n    </tr>\n    <tr>\n      <th>Normal</th>\n      <td>77.275510</td>\n      <td>73.469388</td>\n      <td>55.816327</td>\n      <td>63.724490</td>\n      <td>71.551020</td>\n      <td>341.836735</td>\n    </tr>\n    <tr>\n      <th>Fairy</th>\n      <td>74.117647</td>\n      <td>61.529412</td>\n      <td>78.529412</td>\n      <td>84.705882</td>\n      <td>48.588235</td>\n      <td>347.470588</td>\n    </tr>\n    <tr>\n      <th>Grass</th>\n      <td>67.271429</td>\n      <td>73.214286</td>\n      <td>77.500000</td>\n      <td>70.428571</td>\n      <td>61.928571</td>\n      <td>350.342857</td>\n    </tr>\n    <tr>\n      <th>Fighting</th>\n      <td>69.851852</td>\n      <td>96.777778</td>\n      <td>53.111111</td>\n      <td>64.703704</td>\n      <td>66.074074</td>\n      <td>350.518519</td>\n    </tr>\n    <tr>\n      <th>Ground</th>\n      <td>73.781250</td>\n      <td>95.750000</td>\n      <td>56.468750</td>\n      <td>62.750000</td>\n      <td>63.906250</td>\n      <td>352.656250</td>\n    </tr>\n    <tr>\n      <th>Rock</th>\n      <td>65.363636</td>\n      <td>92.863636</td>\n      <td>63.340909</td>\n      <td>75.477273</td>\n      <td>55.909091</td>\n      <td>352.954545</td>\n    </tr>\n    <tr>\n      <th>Water</th>\n      <td>72.062500</td>\n      <td>74.151786</td>\n      <td>74.812500</td>\n      <td>70.517857</td>\n      <td>65.964286</td>\n      <td>357.508929</td>\n    </tr>\n    <tr>\n      <th>Ghost</th>\n      <td>64.437500</td>\n      <td>73.781250</td>\n      <td>79.343750</td>\n      <td>76.468750</td>\n      <td>64.343750</td>\n      <td>358.375000</td>\n    </tr>\n    <tr>\n      <th>Steel</th>\n      <td>65.222222</td>\n      <td>92.703704</td>\n      <td>67.518519</td>\n      <td>80.629630</td>\n      <td>55.259259</td>\n      <td>361.333333</td>\n    </tr>\n    <tr>\n      <th>Ice</th>\n      <td>72.000000</td>\n      <td>72.750000</td>\n      <td>77.541667</td>\n      <td>76.291667</td>\n      <td>63.458333</td>\n      <td>362.041667</td>\n    </tr>\n    <tr>\n      <th>Dark</th>\n      <td>66.806452</td>\n      <td>88.387097</td>\n      <td>74.645161</td>\n      <td>69.516129</td>\n      <td>76.161290</td>\n      <td>375.516129</td>\n    </tr>\n    <tr>\n      <th>Electric</th>\n      <td>59.795455</td>\n      <td>69.090909</td>\n      <td>90.022727</td>\n      <td>73.704545</td>\n      <td>84.500000</td>\n      <td>377.113636</td>\n    </tr>\n    <tr>\n      <th>Fire</th>\n      <td>69.903846</td>\n      <td>84.769231</td>\n      <td>88.980769</td>\n      <td>72.211538</td>\n      <td>74.442308</td>\n      <td>390.307692</td>\n    </tr>\n    <tr>\n      <th>Psychic</th>\n      <td>70.631579</td>\n      <td>71.456140</td>\n      <td>98.403509</td>\n      <td>86.280702</td>\n      <td>81.491228</td>\n      <td>408.263158</td>\n    </tr>\n    <tr>\n      <th>Flying</th>\n      <td>70.750000</td>\n      <td>78.750000</td>\n      <td>94.250000</td>\n      <td>72.500000</td>\n      <td>102.500000</td>\n      <td>418.750000</td>\n    </tr>\n    <tr>\n      <th>Dragon</th>\n      <td>83.312500</td>\n      <td>112.125000</td>\n      <td>96.843750</td>\n      <td>88.843750</td>\n      <td>83.031250</td>\n      <td>464.156250</td>\n    </tr>\n  </tbody>\n</table>\n</div>",
      "text/plain": "                 HP      Attack    Sp. Atk    Sp. Def       Speed  totalPower\nType 1                                                                       \nBug       56.884058   70.971014  53.869565  64.797101   61.681159  308.202899\nPoison    67.250000   74.678571  60.428571  64.392857   63.571429  330.321429\nNormal    77.275510   73.469388  55.816327  63.724490   71.551020  341.836735\nFairy     74.117647   61.529412  78.529412  84.705882   48.588235  347.470588\nGrass     67.271429   73.214286  77.500000  70.428571   61.928571  350.342857\nFighting  69.851852   96.777778  53.111111  64.703704   66.074074  350.518519\nGround    73.781250   95.750000  56.468750  62.750000   63.906250  352.656250\nRock      65.363636   92.863636  63.340909  75.477273   55.909091  352.954545\nWater     72.062500   74.151786  74.812500  70.517857   65.964286  357.508929\nGhost     64.437500   73.781250  79.343750  76.468750   64.343750  358.375000\nSteel     65.222222   92.703704  67.518519  80.629630   55.259259  361.333333\nIce       72.000000   72.750000  77.541667  76.291667   63.458333  362.041667\nDark      66.806452   88.387097  74.645161  69.516129   76.161290  375.516129\nElectric  59.795455   69.090909  90.022727  73.704545   84.500000  377.113636\nFire      69.903846   84.769231  88.980769  72.211538   74.442308  390.307692\nPsychic   70.631579   71.456140  98.403509  86.280702   81.491228  408.263158\nFlying    70.750000   78.750000  94.250000  72.500000  102.500000  418.750000\nDragon    83.312500  112.125000  96.843750  88.843750   83.031250  464.156250"
     },
     "execution_count": 7,
     "metadata": {},
     "output_type": "execute_result"
    }
   ],
   "source": [
    "# Bonus: Sort the table by strongest type and export the resulting table to a new CSV.\n",
    "typeAveragesDf.sort_values('totalPower', inplace=True)\n",
    "typeAveragesDf"
   ]
  },
  {
   "cell_type": "code",
   "execution_count": 26,
   "metadata": {},
   "outputs": [],
   "source": [
    "typeAveragesDf.to_csv('pokeSummary.csv', sep=',')"
   ]
  },
  {
   "cell_type": "code",
   "execution_count": 27,
   "metadata": {},
   "outputs": [
    {
     "name": "stdout",
     "output_type": "stream",
     "text": "Type 1,HP,Attack,Sp. Atk,Sp. Def,Speed,totalPower\nBug,56.88405797101449,70.97101449275362,53.869565217391305,64.79710144927536,61.68115942028985,308.2028985507247\nPoison,67.25,74.67857142857143,60.42857142857143,64.39285714285714,63.57142857142857,330.32142857142856\nNormal,77.27551020408163,73.46938775510205,55.816326530612244,63.724489795918366,71.55102040816327,341.83673469387753\nFairy,74.11764705882354,61.529411764705884,78.52941176470588,84.70588235294117,48.588235294117645,347.4705882352941\nGrass,67.27142857142857,73.21428571428571,77.5,70.42857142857143,61.92857142857143,350.34285714285716\nFighting,69.85185185185185,96.77777777777777,53.111111111111114,64.70370370370371,66.07407407407408,350.51851851851853\nGround,73.78125,95.75,56.46875,62.75,63.90625,352.65625\nRock,65.36363636363636,92.86363636363636,63.34090909090909,75.47727272727273,55.90909090909091,352.9545454545455\nWater,72.0625,74.15178571428571,74.8125,70.51785714285714,65.96428571428571,357.5089285714286\nGhost,64.4375,73.78125,79.34375,76.46875,64.34375,358.375\nSteel,65.22222222222223,92.70370370370371,67.51851851851852,80.62962962962963,55.25925925925926,361.3333333333333\nIce,72.0,72.75,77.54166666666667,76.29166666666667,63.458333333333336,362.0416666666667\nDark,66.80645161290323,88.38709677419355,74.64516129032258,69.51612903225806,76.16129032258064,375.51612903225805\nElectric,59.79545454545455,69.0909090909091,90.02272727272727,73.70454545454545,84.5,377.1136363636363\nFire,69.90384615384616,84.76923076923077,88.98076923076923,72.21153846153847,74.4423076923077,390.3076923076923\nPsychic,70.63157894736842,71.45614035087719,98.40350877192982,86.28070175438596,81.49122807017544,408.2631578947369\nFlying,70.75,78.75,94.25,72.5,102.5,418.75\nDragon,83.3125,112.125,96.84375,88.84375,83.03125,464.15625\n"
    }
   ],
   "source": [
    "!cat pokeSummary.csv"
   ]
  },
  {
   "cell_type": "code",
   "execution_count": 8,
   "metadata": {},
   "outputs": [],
   "source": [
    "typeAveragesDf.to_excel('pokeSummary.xlsx',sheet_name='Pokemon Types')\n"
   ]
  },
  {
   "cell_type": "code",
   "execution_count": null,
   "metadata": {},
   "outputs": [],
   "source": []
  }
 ],
 "metadata": {
  "anaconda-cloud": {},
  "kernelspec": {
   "display_name": "Python 3.7.6 64-bit",
   "language": "python",
   "name": "python37664bit0596e1f7baa446c982388678e62d0879"
  },
  "language_info": {
   "codemirror_mode": {
    "name": "ipython",
    "version": 3
   },
   "file_extension": ".py",
   "mimetype": "text/x-python",
   "name": "python",
   "nbconvert_exporter": "python",
   "pygments_lexer": "ipython3",
   "version": "3.7.6-final"
  }
 },
 "nbformat": 4,
 "nbformat_minor": 2
}