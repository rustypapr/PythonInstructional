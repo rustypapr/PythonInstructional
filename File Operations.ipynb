{
 "cells": [
  {
   "cell_type": "markdown",
   "metadata": {},
   "source": [
    "## Writing Any File Data"
   ]
  },
  {
   "cell_type": "code",
   "execution_count": 3,
   "metadata": {},
   "outputs": [],
   "source": [
    "# Save the header to a variable. \n",
    "# id<tab>animal<new line>\n",
    "header = \"id\\tanimal\\n\"\n",
    "# Save 2 records to a variable\n",
    "# 123     Cat\n",
    "# 456     Dog\n",
    "data = [[123,'Cat'],[456,'Dog']]\n",
    "with open('somedata.txt', 'w') as file_handler:\n",
    "    #First write the header\n",
    "    file_handler.write(header)\n",
    "    #Then loop through the data and write it \n",
    "    #with the same format as the header\n",
    "    #id<tab>animal<newline>\n",
    "    for record in data:\n",
    "        #The id is an integer, and we need to write out strings\n",
    "        file_handler.write(str(record[0]) + \"\\t\" + record[1] + \"\\n\")\n",
    "    #Its good practice to close files when finished with them\n",
    "    file_handler.close()\n",
    "    "
   ]
  },
  {
   "cell_type": "code",
   "execution_count": 11,
   "metadata": {},
   "outputs": [
    {
     "name": "stdout",
     "output_type": "stream",
     "text": [
      "id\tanimal\r\n",
      "123\tCat\r\n",
      "456\tDog\r\n"
     ]
    }
   ],
   "source": [
    "#bash commands can be run from jupyter with a ! at the start of the line\n",
    "#cat will output the full contents of a file\n",
    "!cat somedata.txt"
   ]
  },
  {
   "cell_type": "markdown",
   "metadata": {},
   "source": [
    "<br><br>\n",
    "## Reading Any File Data"
   ]
  },
  {
   "cell_type": "code",
   "execution_count": 12,
   "metadata": {},
   "outputs": [
    {
     "name": "stdout",
     "output_type": "stream",
     "text": [
      "id\tanimal\n",
      "123\tCat\n",
      "456\tDog\n",
      "\n"
     ]
    }
   ],
   "source": [
    "data = \"\"\n",
    "with open('somedata.txt', 'r') as file_handler:\n",
    "    #Read in ALL the data\n",
    "    data = file_handler.read()\n",
    "    #Now that `data` is holding the file data, we can close the file\n",
    "    file_handler.close()\n",
    "    \n",
    "print(data)"
   ]
  },
  {
   "cell_type": "markdown",
   "metadata": {},
   "source": [
    "### Parsing Structured Data"
   ]
  },
  {
   "cell_type": "code",
   "execution_count": 14,
   "metadata": {},
   "outputs": [
    {
     "name": "stdout",
     "output_type": "stream",
     "text": [
      "[['id', 'animal'], ['123', 'Cat'], ['456', 'Dog'], ['']]\n",
      "Header:  ['id', 'animal']\n",
      "Records:  [['123', 'Cat'], ['456', 'Dog'], ['']]\n"
     ]
    }
   ],
   "source": [
    "parsed_data = []\n",
    "#The data is one long string, and each line is separated with a \"\\n\"\n",
    "for line in data.split(\"\\n\"):\n",
    "    #Once split into lines, each line can be split into fields, \n",
    "    #and the result can be added to the parsed_data list variable\n",
    "    parsed_data.append(line.split(\"\\t\"))\n",
    "print(parsed_data)\n",
    "\n",
    "#The header is the first list in the list\n",
    "header = parsed_data[0]\n",
    "#Everything after the header are the data records\n",
    "data_records = parsed_data[1:]\n",
    "\n",
    "print(\"Header: \", header)\n",
    "print(\"Records: \", data_records)"
   ]
  },
  {
   "cell_type": "markdown",
   "metadata": {},
   "source": [
    "Why is there one extra empty record?\n",
    "Because the last line has a \"\\n\" at the end of the line, and when the split function is used it treats both sides of the thing it split as new values, even if there's nothing there. a,b.split(\",\") -> [a,b] and \"a.\".split(\",\") -> [a, None]"
   ]
  },
  {
   "cell_type": "markdown",
   "metadata": {},
   "source": [
    "<br><br>\n",
    "## Writing CSV Data"
   ]
  },
  {
   "cell_type": "code",
   "execution_count": 18,
   "metadata": {},
   "outputs": [],
   "source": [
    "import csv\n",
    "# Save the header to a variable. \n",
    "# This time its a list\n",
    "header = [\"id\",\"animal\"]\n",
    "# Save 2 records to a variable\n",
    "# 123     Cat\n",
    "# 456     Dog\n",
    "data = [[123,'Cat'],[456,'Dog']]\n",
    "with open('somedata.csv', 'w') as file_handler:\n",
    "    csv_writer = csv.writer(file_handler, delimiter=\",\")\n",
    "    #Write out a single row\n",
    "    csv_writer.writerow(header)\n",
    "    #Write out multiple rows\n",
    "    csv_writer.writerows(data)\n",
    "    #Release the file lock\n",
    "    file_handler.close()\n",
    "    "
   ]
  },
  {
   "cell_type": "code",
   "execution_count": 19,
   "metadata": {},
   "outputs": [
    {
     "name": "stdout",
     "output_type": "stream",
     "text": [
      "id,animal\r",
      "\r\n",
      "123,Cat\r",
      "\r\n",
      "456,Dog\r",
      "\r\n"
     ]
    }
   ],
   "source": [
    "!cat somedata.csv"
   ]
  },
  {
   "cell_type": "markdown",
   "metadata": {},
   "source": [
    "### Nifty Trick With Lists "
   ]
  },
  {
   "cell_type": "code",
   "execution_count": 20,
   "metadata": {},
   "outputs": [
    {
     "data": {
      "text/plain": [
       "[['id', 'animal'], [123, 'Cat'], [456, 'Dog']]"
      ]
     },
     "execution_count": 20,
     "metadata": {},
     "output_type": "execute_result"
    }
   ],
   "source": [
    "#Here is some cool syntax that will create one big list that looks like \n",
    "# [['id', 'animal'], [123, 'Cat'], [456, 'Dog']]\n",
    "# We wrapped the two terms in [ ] to say the end result will be a list\n",
    "# and the * says to dump the list of items. \n",
    "# The end result is the ability to mix a list with a list of lists.\n",
    "[header, *data]"
   ]
  },
  {
   "cell_type": "code",
   "execution_count": 23,
   "metadata": {},
   "outputs": [
    {
     "data": {
      "text/plain": [
       "[['id', 'animal'], [123, 'Cat'], [456, 'Dog'], [123, 'Cat'], [456, 'Dog']]"
      ]
     },
     "execution_count": 23,
     "metadata": {},
     "output_type": "execute_result"
    }
   ],
   "source": [
    "#Theres no limit to how much that can be done \n",
    "#(imagine data were different lists):\n",
    "[header, *data, *data]"
   ]
  },
  {
   "cell_type": "markdown",
   "metadata": {},
   "source": [
    "<br><br>\n",
    "## Reading CSV Data"
   ]
  },
  {
   "cell_type": "code",
   "execution_count": 25,
   "metadata": {},
   "outputs": [
    {
     "name": "stdout",
     "output_type": "stream",
     "text": [
      "[['id', 'animal'], ['123', 'Cat'], ['456', 'Dog']]\n"
     ]
    }
   ],
   "source": [
    "import csv\n",
    "data = []\n",
    "with open('somedata.csv', 'r') as file_handler:\n",
    "    #Read in ALL the data\n",
    "    file_iterator = csv.reader(file_handler, delimiter=\",\")\n",
    "    for row in file_iterator:\n",
    "        data.append(row)\n",
    "    #Now that `data` is holding the file data, we can close the file\n",
    "    #If this was a very large file, we would not read all the data in\n",
    "    #storing it to a single variable.\n",
    "    #Instead we would do all the work on each row we needed to before \n",
    "    #moving to the next row.\n",
    "    #The limitation is that it makes it harder to do operations across rows.\n",
    "    file_handler.close()\n",
    "\n",
    "#The result is a list of lists\n",
    "print(data)"
   ]
  },
  {
   "cell_type": "code",
   "execution_count": 26,
   "metadata": {},
   "outputs": [
    {
     "name": "stdout",
     "output_type": "stream",
     "text": [
      "Header:  ['id', 'animal']\n",
      "Records:  [['123', 'Cat'], ['456', 'Dog']]\n"
     ]
    }
   ],
   "source": [
    "#The header is the first list in the list\n",
    "header = data[0]\n",
    "#Everything after the header are the data records\n",
    "data_records = data[1:]\n",
    "\n",
    "print(\"Header: \", header)\n",
    "print(\"Records: \", data_records)"
   ]
  },
  {
   "cell_type": "markdown",
   "metadata": {},
   "source": [
    "<br><br>\n",
    "### Its python so there's always another way to write something\n",
    "#### Perpetual file lock, no with"
   ]
  },
  {
   "cell_type": "code",
   "execution_count": 4,
   "metadata": {},
   "outputs": [
    {
     "name": "stdout",
     "output_type": "stream",
     "text": [
      "<_io.TextIOWrapper name='somedata.txt' mode='r' encoding='UTF-8'>\n"
     ]
    }
   ],
   "source": [
    "file_handler = open('somedata.txt', 'r')\n",
    "print(file_handler)"
   ]
  },
  {
   "cell_type": "code",
   "execution_count": 5,
   "metadata": {},
   "outputs": [
    {
     "name": "stdout",
     "output_type": "stream",
     "text": [
      "id\tanimal\n",
      "123\tCat\n",
      "456\tDog\n",
      "\n"
     ]
    }
   ],
   "source": [
    "# Now that we have a file lock, we can do whatever we want with it,\n",
    "# but we MUST release the lock before the program terminates \n",
    "print(file_handler.read())\n",
    "file_handler.close()"
   ]
  },
  {
   "cell_type": "code",
   "execution_count": 6,
   "metadata": {},
   "outputs": [
    {
     "name": "stdout",
     "output_type": "stream",
     "text": [
      "rm: somedata.csv: No such file or directory\r\n"
     ]
    }
   ],
   "source": [
    "!rm somedata.txt somedata.csv"
   ]
  },
  {
   "cell_type": "code",
   "execution_count": null,
   "metadata": {},
   "outputs": [],
   "source": []
  }
 ],
 "metadata": {
  "kernelspec": {
   "display_name": "Python 3",
   "language": "python",
   "name": "python3"
  },
  "language_info": {
   "codemirror_mode": {
    "name": "ipython",
    "version": 3
   },
   "file_extension": ".py",
   "mimetype": "text/x-python",
   "name": "python",
   "nbconvert_exporter": "python",
   "pygments_lexer": "ipython3",
   "version": "3.7.4"
  }
 },
 "nbformat": 4,
 "nbformat_minor": 2
}
