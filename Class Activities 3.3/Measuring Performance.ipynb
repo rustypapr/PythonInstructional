{
 "cells": [
  {
   "cell_type": "markdown",
   "metadata": {},
   "source": [
    "\n",
    "# Measuring Performance in Python"
   ]
  },
  {
   "cell_type": "code",
   "execution_count": 3,
   "metadata": {},
   "outputs": [],
   "source": [
    "import time"
   ]
  },
  {
   "cell_type": "code",
   "execution_count": 4,
   "metadata": {},
   "outputs": [],
   "source": [
    "# This is a straight-forward version of FizzBuzz\n",
    "def simpleFizzBuzz(number):\n",
    "    if number % 15 == 0:\n",
    "        return \"FizzBuzz\"\n",
    "    elif  number % 5 == 0:\n",
    "        return \"Buzz\"\n",
    "    elif  number % 3 == 0:\n",
    "        return \"Fizz\"\n",
    "    else:\n",
    "        return \"--\""
   ]
  },
  {
   "cell_type": "code",
   "execution_count": 5,
   "metadata": {},
   "outputs": [],
   "source": [
    "# This is a straight-forward version of FizzBuzz\n",
    "def modBuzz(number):\n",
    "    mod = number % 15\n",
    "    if mod == 0 :\n",
    "        return \"FizzBuzz\"\n",
    "    elif mod in [3,6,9,12]:\n",
    "        return \"Fizz\"\n",
    "    elif mod in [5,10]:\n",
    "        return \"Buzz\"\n",
    "    else:\n",
    "        return \"--\""
   ]
  },
  {
   "cell_type": "code",
   "execution_count": 6,
   "metadata": {},
   "outputs": [],
   "source": [
    "# This version of FizzBuzz uses a single array of 15 values to \n",
    "# return all possible outcomes, by using the remainder of 15 as\n",
    "# the array index. This approach requires more preperation\n",
    "def hashBuzz(n):\n",
    "    return ['FizzBuzz', '--', '--', 'Fizz', '--', 'Buzz', 'Fizz', '--',\n",
    "         '--', 'Fizz', 'Buzz', '--', 'Fizz', '--', '--'][n % 15]"
   ]
  },
  {
   "cell_type": "code",
   "execution_count": 7,
   "metadata": {},
   "outputs": [],
   "source": [
    "# This is an interesting approach that relies on python syntax tricks.\n",
    "# A True value has an arithmetic value of 1, so using that its possible\n",
    "# to create a number corresponding to each possible outcomes \n",
    "# (2*(n%3==0) + (n%5==0))\n",
    "# Will always output 0,1,2,3 -\n",
    "# 0 = no match, 1 = multiple of 5, 2=multiple of 3, 3=multiple of 3 and 5\n",
    "BUZZSET = [\"--\",\"Buzz\",\"Fizz\",\"FizzBuzz\"]\n",
    "def shortHashBuzz(n):\n",
    "    return BUZZSET[(2*(n%3==0) + (n%5==0))]"
   ]
  },
  {
   "cell_type": "code",
   "execution_count": 107,
   "metadata": {},
   "outputs": [
    {
     "name": "stdout",
     "output_type": "stream",
     "text": [
      "{0: 'FizzBuzz', 1: '--', 2: '--', 3: 'Fizz', 4: '--', 5: 'Buzz', 6: 'Fizz', 7: '--', 8: '--', 9: 'Fizz', 10: 'Buzz', 11: '--', 12: 'Fizz', 13: '--', 14: '--'}\n"
     ]
    }
   ],
   "source": [
    "# Use hashBuzz to generate a dict of all possible remainders of 15\n",
    "# Then just use key-lookups\n",
    "DB = {i: hashBuzz(i) for i in range(0,15)}\n",
    "def dictBuzz(n):\n",
    "    return DB[n % 15]\n",
    "print(DB)"
   ]
  },
  {
   "cell_type": "code",
   "execution_count": 9,
   "metadata": {},
   "outputs": [
    {
     "name": "stdout",
     "output_type": "stream",
     "text": [
      "{0: '--', 1: 'Buzz', 2: 'Fizz', 3: 'FizzBuzz'}\n"
     ]
    }
   ],
   "source": [
    "# Use zip to make the dict of all possible return responses\n",
    "# Use (2*(n%3==0) + (n%5==0)) to produce a 0,1,2, or 3\n",
    "SDB = dict(zip(range(4), [\"--\",\"Buzz\",\"Fizz\",\"FizzBuzz\"]))\n",
    "def shortDictBuzz(n):\n",
    "    return SDB[(2*(n%3==0) + (n%5==0))]\n",
    "print(SDB)"
   ]
  },
  {
   "cell_type": "code",
   "execution_count": 10,
   "metadata": {},
   "outputs": [],
   "source": [
    "def dynamicFizzBuzz(n, triggerDict = {3:'Fizz', 5:'Buzz'}):\n",
    "    \"\"\"\n",
    "    Expects a dict in the format of:\n",
    "    \"\"\"\n",
    "    response = \"\"\n",
    "    for key in triggerDict.keys():\n",
    "        if n % key == 0:\n",
    "            response += triggerDict[key]\n",
    "    if response == \"\": response = \"--\"\n",
    "    return response"
   ]
  },
  {
   "cell_type": "code",
   "execution_count": 90,
   "metadata": {},
   "outputs": [],
   "source": [
    "class buzzClass:\n",
    "    def __init__(self, triggerDict = {3:'Fizz', 5:'Buzz'}):\n",
    "        self.triggerDict = triggerDict\n",
    "        self.responseDict = {0:'--', 1:'Buzz', 2:'Fizz', 3:'FizzBuzz'}\n",
    "        self.modDict = {0: 'FizzBuzz', 1: '--', 2: '--', 3: 'Fizz', 4: '--', 5: 'Buzz', 6: 'Fizz', 7: '--', 8: '--', 9: 'Fizz', 10: 'Buzz', 11: '--', 12: 'Fizz', 13: '--', 14: '--'}\n",
    "    \n",
    "    def dynamicFizzBuzz(self, n):\n",
    "        \"\"\"\n",
    "        Expects a dict in the format of:\n",
    "        \"\"\"\n",
    "        response = \"\"\n",
    "        for key in self.triggerDict.keys():\n",
    "            if n % key == 0:\n",
    "                response += self.triggerDict[key]\n",
    "        if response == \"\": response = \"--\"\n",
    "        return response\n",
    "    \n",
    "    def fizzBuzz(self, n):\n",
    "        return self.modDict[n % 15]\n",
    "    \n",
    "    def fizzBuzzCode(self, n):\n",
    "        return self.responseDict[(2*(n%3==0) + (n%5==0))]"
   ]
  },
  {
   "cell_type": "code",
   "execution_count": 93,
   "metadata": {
    "scrolled": false
   },
   "outputs": [
    {
     "name": "stdout",
     "output_type": "stream",
     "text": [
      "conditional function:          83,000\n",
      "[(1, '--'), (2, '--'), (3, 'Fizz'), (4, '--'), (5, 'Buzz'), (6, 'Fizz'), (7, '--'), (8, '--'), (9, 'Fizz'), (10, 'Buzz'), (11, '--'), (12, 'Fizz'), (13, '--'), (14, '--'), (15, 'FizzBuzz')]\n",
      "\n",
      "\n",
      "mod conditional:               113,000\n",
      "[(1, '--'), (2, '--'), (3, 'Fizz'), (4, '--'), (5, 'Buzz'), (6, 'Fizz'), (7, '--'), (8, '--'), (9, 'Fizz'), (10, 'Buzz'), (11, '--'), (12, 'Fizz'), (13, '--'), (14, '--'), (15, 'FizzBuzz')]\n",
      "\n",
      "\n",
      "list lookup:                   119,000\n",
      "[(1, '--'), (2, '--'), (3, 'Fizz'), (4, '--'), (5, 'Buzz'), (6, 'Fizz'), (7, '--'), (8, '--'), (9, 'Fizz'), (10, 'Buzz'), (11, '--'), (12, 'Fizz'), (13, '--'), (14, '--'), (15, 'FizzBuzz')]\n",
      "\n",
      "\n",
      "short list lookup:             122,000\n",
      "[(1, '--'), (2, '--'), (3, 'Fizz'), (4, '--'), (5, 'Buzz'), (6, 'Fizz'), (7, '--'), (8, '--'), (9, 'Fizz'), (10, 'Buzz'), (11, '--'), (12, 'Fizz'), (13, '--'), (14, '--'), (15, 'FizzBuzz')]\n",
      "\n",
      "\n",
      "dict lookup:                   127,000\n",
      "[(1, '--'), (2, '--'), (3, 'Fizz'), (4, '--'), (5, 'Buzz'), (6, 'Fizz'), (7, '--'), (8, '--'), (9, 'Fizz'), (10, 'Buzz'), (11, '--'), (12, 'Fizz'), (13, '--'), (14, '--'), (15, 'FizzBuzz')]\n",
      "\n",
      "\n",
      "short dict lookup:             129,000\n",
      "[(1, '--'), (2, '--'), (3, 'Fizz'), (4, '--'), (5, 'Buzz'), (6, 'Fizz'), (7, '--'), (8, '--'), (9, 'Fizz'), (10, 'Buzz'), (11, '--'), (12, 'Fizz'), (13, '--'), (14, '--'), (15, 'FizzBuzz')]\n",
      "\n",
      "\n",
      "dynamic fizzBuzz:              138,000\n",
      "[(1, '--'), (2, '--'), (3, 'Fizz'), (4, '--'), (5, 'Buzz'), (6, 'Fizz'), (7, '--'), (8, '--'), (9, 'Fizz'), (10, 'Buzz'), (11, '--'), (12, 'Fizz'), (13, '--'), (14, '--'), (15, 'FizzBuzz')]\n",
      "\n",
      "\n",
      "dynamic fizzBuzz class:        190,000\n",
      "[(1, '--'), (2, '--'), (3, 'Fizz'), (4, '--'), (5, 'Buzz'), (6, 'Fizz'), (7, '--'), (8, '--'), (9, 'Fizz'), (10, 'Buzz'), (11, '--'), (12, 'Fizz'), (13, '--'), (14, '--'), (15, 'FizzBuzz')]\n",
      "\n",
      "\n",
      "fizzBuzz class (dict lookup):  189,000\n",
      "[(1, '--'), (2, '--'), (3, 'Fizz'), (4, '--'), (5, 'Buzz'), (6, 'Fizz'), (7, '--'), (8, '--'), (9, 'Fizz'), (10, 'Buzz'), (11, '--'), (12, 'Fizz'), (13, '--'), (14, '--'), (15, 'FizzBuzz')]\n",
      "\n",
      "\n",
      "fizzBuzz class (code):         195,000\n",
      "[(1, '--'), (2, '--'), (3, 'Fizz'), (4, '--'), (5, 'Buzz'), (6, 'Fizz'), (7, '--'), (8, '--'), (9, 'Fizz'), (10, 'Buzz'), (11, '--'), (12, 'Fizz'), (13, '--'), (14, '--'), (15, 'FizzBuzz')]\n",
      "\n",
      "\n"
     ]
    }
   ],
   "source": [
    "st = time.time_ns()\n",
    "print(f\"{'conditional function:': <30} {time.time_ns()-st:,}\\n{[(i, simpleFizzBuzz(i)) for i in range(1,16)]}\\n\\n\")\n",
    "st = time.time_ns()\n",
    "print(f\"{'mod conditional:': <30} {time.time_ns()-st:,}\\n{[(i, hashBuzz(i)) for i in range(1,16)]}\\n\\n\")\n",
    "st = time.time_ns()\n",
    "print(f\"{'list lookup:': <30} {time.time_ns()-st:,}\\n{[(i, hashBuzz(i)) for i in range(1,16)]}\\n\\n\")\n",
    "st = time.time_ns()\n",
    "print(f\"{'short list lookup:': <30} {time.time_ns()-st:,}\\n{[(i, shortHashBuzz(i)) for i in range(1,16)]}\\n\\n\")\n",
    "st = time.time_ns()\n",
    "print(f\"{'dict lookup:': <30} {time.time_ns()-st:,}\\n{[(i, dictBuzz(i)) for i in range(1,16)]}\\n\\n\")\n",
    "st = time.time_ns()\n",
    "print(f\"{'short dict lookup:': <30} {time.time_ns()-st:,}\\n{[(i, shortDictBuzz(i)) for i in range(1,16)]}\\n\\n\")\n",
    "st = time.time_ns()\n",
    "print(f\"{'dynamic fizzBuzz:': <30} {time.time_ns()-st:,}\\n{[(i, dynamicFizzBuzz(i)) for i in range(1,16)]}\\n\\n\")\n",
    "st = time.time_ns()\n",
    "fbc = buzzClass()\n",
    "print(f\"{'dynamic fizzBuzz class:': <30} {time.time_ns()-st:,}\\n{[(i, fbc.dynamicFizzBuzz(i)) for i in range(1,16)]}\\n\\n\")\n",
    "st = time.time_ns()\n",
    "fbc = buzzClass()\n",
    "print(f\"{'fizzBuzz class (dict lookup):': <30} {time.time_ns()-st:,}\\n{[(i, fbc.fizzBuzz(i)) for i in range(1,16)]}\\n\\n\")\n",
    "st = time.time_ns()\n",
    "fbc = buzzClass()\n",
    "print(f\"{'fizzBuzz class (code):': <30} {time.time_ns()-st:,}\\n{[(i, fbc.fizzBuzzCode(i)) for i in range(1,16)]}\\n\\n\")"
   ]
  },
  {
   "cell_type": "markdown",
   "metadata": {},
   "source": [
    "<br>\n",
    "\n",
    "## Measuring time\n",
    "\n",
    "The `time` library uses the system clock (the CPU relies on accurate timing). To get the cpu time - the number of seconds since `1/1/1970` - the function call is `time()` - `time.time()` and the result is a float. <b>Floats</b> are not precise numbers. \n",
    "When timing very fast things it may be safer to use the `time_ns()` funciton which return a large integer - the time in nanoseconds since `1/1/1970`.\n",
    "\n",
    "\n",
    "<b>Unix Time (<i>Epoch</i> of 1/1/1970) - </b>  https://en.wikipedia.org/wiki/Unix_time<br>\n",
    "<b>Fractions of a second - </b> https://en.wikipedia.org/wiki/Second#SI_multiples<br>\n",
    "<b>time.time() - </b> https://docs.python.org/3/library/time.html#time.time"
   ]
  },
  {
   "cell_type": "code",
   "execution_count": 14,
   "metadata": {},
   "outputs": [
    {
     "name": "stdout",
     "output_type": "stream",
     "text": [
      "<class 'float'>  1582501499.662029\n",
      "<class 'int'>    1582501499662468000\n",
      "\n"
     ]
    }
   ],
   "source": [
    "import time\n",
    "\n",
    "#The two useful functions to pull the current time\n",
    "#(Display with their return value types)\n",
    "# {n: <16} will pad n with whitespace on the right, up to 16 characters\n",
    "# (simple way to align the number after it)\n",
    "print(f\"{str(type(time.time())): <16} {time.time()}\")\n",
    "print(f\"{str(type(time.time_ns())): <16} {time.time_ns()}\")\n",
    "print()"
   ]
  },
  {
   "cell_type": "code",
   "execution_count": 15,
   "metadata": {},
   "outputs": [
    {
     "name": "stdout",
     "output_type": "stream",
     "text": [
      "-1,000.0000000000000000000 nanoseconds apart\n",
      "     0.0000000000000000000 seconds apart\n"
     ]
    }
   ],
   "source": [
    "#How do they evaluate when in a single statement\n",
    "print(f\"{time.time_ns()-time.time_ns(): >26,.19f} nanoseconds apart\")\n",
    "print(f\"{time.time()-time.time(): >26,.19f} seconds apart\")"
   ]
  },
  {
   "cell_type": "code",
   "execution_count": 31,
   "metadata": {},
   "outputs": [
    {
     "name": "stdout",
     "output_type": "stream",
     "text": [
      "43,000.00 nanoseconds\n",
      "0.000092983245850 seconds\n"
     ]
    }
   ],
   "source": [
    "#How much time passes between consecutive statements\n",
    "nst = time.time_ns()\n",
    "print(f\"{time.time_ns()-nst:,.2f} nanoseconds\")\n",
    "\n",
    "st = time.time()\n",
    "print(f\"{time.time()-st:,.15f} seconds\")"
   ]
  },
  {
   "cell_type": "code",
   "execution_count": 32,
   "metadata": {},
   "outputs": [
    {
     "name": "stdout",
     "output_type": "stream",
     "text": [
      "Total: 3.52335900 seconds\n",
      "Average: 0.03523359 seconds\n"
     ]
    }
   ],
   "source": [
    "times = []\n",
    "for i in range(0,100):\n",
    "    st = time.time_ns()\n",
    "    [(i, dictBuzz(i)) for i in range(0,100001)]\n",
    "    times.append(time.time_ns()-st)\n",
    "\n",
    "print(f\"Total: {sum(times)/1000000000:,.8f} seconds\")\n",
    "print(f\"Average: {(sum(times)/len(times))/1000000000:.8f} seconds\")"
   ]
  },
  {
   "cell_type": "markdown",
   "metadata": {},
   "source": [
    "To work with precise numbers (not floats - the python default) there is a library called `decimal` which has a function `Decimal()` that will cast a number with a high level of decimal-point precision. ex. (using the `math` library) `decimal.Decimal(math.sqrt(2)))` = `1.4142135623730951454746218587388284504413604736328125`"
   ]
  },
  {
   "cell_type": "code",
   "execution_count": 33,
   "metadata": {},
   "outputs": [
    {
     "name": "stdout",
     "output_type": "stream",
     "text": [
      "1582501819808731000\n",
      "1582501819.8089339733123779296875\n",
      "1582501819.80901\n",
      "9.99999999999999954748111825886258685613938723690807819366455078125E-7\n"
     ]
    }
   ],
   "source": [
    "import decimal\n",
    "import time\n",
    "\n",
    "#This is *slow* relative to some operations\n",
    "def decTime():\n",
    "    return decimal.Decimal(time.time_ns()/1000000000)\n",
    "\n",
    "#This results in the casting only happening once\n",
    "def decTimeDelta(nsStartTime, nsEndTime):\n",
    "    return decimal.Decimal((nsEndTime - nsStartTime)/1000000000)\n",
    "\n",
    "print(time.time_ns())\n",
    "print(decTime())\n",
    "print(time.time())\n",
    "print(decTimeDelta(time.time_ns(), time.time_ns()))"
   ]
  },
  {
   "cell_type": "markdown",
   "metadata": {},
   "source": [
    "There is some weird behavior when dealing with events that are nearly simultaneous because floating numbers are not precise. \n",
    "Googling `9.99999999999999954748111825886258685613938723690807819366455078125E-7` has exact matches!\n",
    "https://github.com/marshmallow-code/marshmallow/issues/105\n",
    "<br><br>\n",
    "Ok, so the <i>roll your own</i> approach has some interesting nuances, it would be nice if there was a library that handled them for us. "
   ]
  },
  {
   "cell_type": "code",
   "execution_count": 35,
   "metadata": {},
   "outputs": [],
   "source": [
    "import timeit"
   ]
  },
  {
   "cell_type": "markdown",
   "metadata": {},
   "source": [
    "`timeit` is a python library that is useful for timing short-duration events and iterations of loops. The `timeit` function (`timeit.timeit()`) takes a function or operation as input, along with the number of times to test it, and returns the <b>total</b> duration in seconds. "
   ]
  },
  {
   "cell_type": "code",
   "execution_count": 38,
   "metadata": {},
   "outputs": [
    {
     "name": "stdout",
     "output_type": "stream",
     "text": [
      "37.01 milliseconds\n"
     ]
    }
   ],
   "source": [
    "nTimes=100\n",
    "print(f\"\"\"{(\n",
    "            timeit.timeit('[(n, [\"--\",\"Buzz\",\"Fizz\",\"FizzBuzz\"][(2*(n%3==0) + (n%5==0))]) for n in range(100001)]',\n",
    "                           number=nTimes)\n",
    "            /nTimes)*1000:.2f} milliseconds\"\"\")"
   ]
  },
  {
   "cell_type": "markdown",
   "metadata": {},
   "source": [
    "Jupyter has a built-in feature called cell-magic. (Their name, not mine.)\n",
    "There are certain keywords that are signified with `%%` that have special functions. One of them is `%%timeit` which will run the cells code 700,000 times by default, and report how long the operations averaged (and the standard deviation). The number of loops can be controlled with `-n`: `%%timeit -n 100` would do 7 runs of 100 loops each. "
   ]
  },
  {
   "cell_type": "code",
   "execution_count": 81,
   "metadata": {},
   "outputs": [
    {
     "name": "stdout",
     "output_type": "stream",
     "text": [
      "5.58 µs ± 1.8 µs per loop (mean ± std. dev. of 100 runs, 1000 loops each)\n"
     ]
    }
   ],
   "source": [
    "%%timeit -n 1000 -r 100\n",
    "[(i, simpleFizzBuzz(i)) for i in range(1,16)]"
   ]
  },
  {
   "cell_type": "code",
   "execution_count": 83,
   "metadata": {},
   "outputs": [
    {
     "name": "stdout",
     "output_type": "stream",
     "text": [
      "5.6 µs ± 2 µs per loop (mean ± std. dev. of 100 runs, 1000 loops each)\n"
     ]
    }
   ],
   "source": [
    "%%timeit -n 1000 -r 100\n",
    "[(i, hashBuzz(i)) for i in range(1,16)]"
   ]
  },
  {
   "cell_type": "code",
   "execution_count": 78,
   "metadata": {},
   "outputs": [
    {
     "name": "stdout",
     "output_type": "stream",
     "text": [
      "5.56 µs ± 1.54 µs per loop (mean ± std. dev. of 100 runs, 1000 loops each)\n"
     ]
    }
   ],
   "source": [
    "%%timeit -n 1000 -r 100\n",
    "[(i, shortHashBuzz(i)) for i in range(1,16)]"
   ]
  },
  {
   "cell_type": "code",
   "execution_count": 79,
   "metadata": {},
   "outputs": [
    {
     "name": "stdout",
     "output_type": "stream",
     "text": [
      "3.6 µs ± 752 ns per loop (mean ± std. dev. of 100 runs, 1000 loops each)\n"
     ]
    }
   ],
   "source": [
    "%%timeit -n 1000 -r 100\n",
    "[(i, dictBuzz(i)) for i in range(1,16)]"
   ]
  },
  {
   "cell_type": "code",
   "execution_count": 84,
   "metadata": {
    "scrolled": false
   },
   "outputs": [
    {
     "name": "stdout",
     "output_type": "stream",
     "text": [
      "5.67 µs ± 1.88 µs per loop (mean ± std. dev. of 100 runs, 1000 loops each)\n"
     ]
    }
   ],
   "source": [
    "%%timeit -n 1000 -r 100\n",
    "[(i, shortDictBuzz(i)) for i in range(1,16)]"
   ]
  },
  {
   "cell_type": "markdown",
   "metadata": {},
   "source": [
    "<br><br>There seems to be very little difference between the approaches when evaluating 1-15. Running it on 1-100000 should start to show the difference."
   ]
  },
  {
   "cell_type": "code",
   "execution_count": 144,
   "metadata": {},
   "outputs": [
    {
     "name": "stdout",
     "output_type": "stream",
     "text": [
      "39.1 ms ± 2.58 ms per loop (mean ± std. dev. of 7 runs, 100 loops each)\n"
     ]
    }
   ],
   "source": [
    "%%timeit -n 10\n",
    "[(i, simpleFizzBuzz(i)) for i in range(1,100001)]"
   ]
  },
  {
   "cell_type": "code",
   "execution_count": 161,
   "metadata": {},
   "outputs": [
    {
     "name": "stdout",
     "output_type": "stream",
     "text": [
      "38.6 ms ± 2.7 ms per loop (mean ± std. dev. of 7 runs, 100 loops each)\n"
     ]
    }
   ],
   "source": [
    "%%timeit -n 10\n",
    "[(i, modBuzz(i)) for i in range(1,100001)]"
   ]
  },
  {
   "cell_type": "code",
   "execution_count": 441,
   "metadata": {},
   "outputs": [
    {
     "name": "stdout",
     "output_type": "stream",
     "text": [
      "38.8 ms ± 2.71 ms per loop (mean ± std. dev. of 10 runs, 10 loops each)\n"
     ]
    }
   ],
   "source": [
    "%%timeit -n 10 -r 10\n",
    "[(i, hashBuzz(i)) for i in range(1,100001)]"
   ]
  },
  {
   "cell_type": "code",
   "execution_count": 442,
   "metadata": {},
   "outputs": [
    {
     "name": "stdout",
     "output_type": "stream",
     "text": [
      "41 ms ± 1.48 ms per loop (mean ± std. dev. of 7 runs, 100 loops each)\n"
     ]
    }
   ],
   "source": [
    "%%timeit -n 100\n",
    "[(i, shortHashBuzz(i)) for i in range(1,100001)]"
   ]
  },
  {
   "cell_type": "code",
   "execution_count": 443,
   "metadata": {
    "scrolled": true
   },
   "outputs": [
    {
     "name": "stdout",
     "output_type": "stream",
     "text": [
      "30.2 ms ± 2.35 ms per loop (mean ± std. dev. of 7 runs, 100 loops each)\n"
     ]
    }
   ],
   "source": [
    "%%timeit -n 100\n",
    "[(i, dictBuzz(i)) for i in range(1,100001)]"
   ]
  },
  {
   "cell_type": "markdown",
   "metadata": {},
   "source": [
    "## ^ This looks like the winner"
   ]
  },
  {
   "cell_type": "code",
   "execution_count": 444,
   "metadata": {},
   "outputs": [
    {
     "name": "stdout",
     "output_type": "stream",
     "text": [
      "42.3 ms ± 1.71 ms per loop (mean ± std. dev. of 7 runs, 100 loops each)\n"
     ]
    }
   ],
   "source": [
    "%%timeit -n 100\n",
    "[(i, shortDictBuzz(i)) for i in range(1,100001)]"
   ]
  },
  {
   "cell_type": "code",
   "execution_count": 171,
   "metadata": {},
   "outputs": [
    {
     "name": "stdout",
     "output_type": "stream",
     "text": [
      "68.1 ms ± 7.63 ms per loop (mean ± std. dev. of 7 runs, 100 loops each)\n"
     ]
    }
   ],
   "source": [
    "%%timeit -n 100\n",
    "[(i, dynamicFizzBuzz(i)) for i in range(1,100001)]"
   ]
  },
  {
   "cell_type": "code",
   "execution_count": 403,
   "metadata": {},
   "outputs": [
    {
     "name": "stdout",
     "output_type": "stream",
     "text": [
      "103 ms ± 19.2 ms per loop (mean ± std. dev. of 7 runs, 10 loops each)\n"
     ]
    }
   ],
   "source": [
    "%%timeit -n 10\n",
    "[(i, dynamicFizzBuzz(i,  {3:'Fizz', 5:'Buzz', 7:'Bazz'} )) for i in range(1,100001)]"
   ]
  },
  {
   "cell_type": "code",
   "execution_count": 85,
   "metadata": {},
   "outputs": [],
   "source": [
    "fbc = buzzClass()"
   ]
  },
  {
   "cell_type": "code",
   "execution_count": 86,
   "metadata": {},
   "outputs": [
    {
     "name": "stdout",
     "output_type": "stream",
     "text": [
      "62.8 ms ± 3.47 ms per loop (mean ± std. dev. of 7 runs, 10 loops each)\n"
     ]
    }
   ],
   "source": [
    "%%timeit -n 10\n",
    "[(i, fbc.dynamicFizzBuzz(i)) for i in range(1,100001)]"
   ]
  },
  {
   "cell_type": "code",
   "execution_count": 87,
   "metadata": {},
   "outputs": [],
   "source": [
    "fbc = buzzClass({3:'Fizz', 5:'Buzz', 7:'Bazz'})"
   ]
  },
  {
   "cell_type": "code",
   "execution_count": 88,
   "metadata": {},
   "outputs": [
    {
     "name": "stdout",
     "output_type": "stream",
     "text": [
      "71.8 ms ± 2.62 ms per loop (mean ± std. dev. of 7 runs, 10 loops each)\n"
     ]
    }
   ],
   "source": [
    "%%timeit -n 10\n",
    "[(i, fbc.dynamicFizzBuzz(i)) for i in range(1,100001)]"
   ]
  },
  {
   "cell_type": "code",
   "execution_count": 95,
   "metadata": {},
   "outputs": [
    {
     "name": "stdout",
     "output_type": "stream",
     "text": [
      "34.4 ms ± 4.8 ms per loop (mean ± std. dev. of 7 runs, 10 loops each)\n"
     ]
    }
   ],
   "source": [
    "%%timeit -n 10\n",
    "[(i, fbc.fizzBuzz(i)) for i in range(1,100001)]"
   ]
  },
  {
   "cell_type": "markdown",
   "metadata": {},
   "source": [
    "The class version `buzzClass.fuzzBuzz()` uses a cached version of the trigger list stored as a dict. This makes it very similar to the non-class version `dictBuzz()`.\n",
    "\n",
    "If you made it this far, you deserve a present. Here's the only kind of present I can give you, a confusing python function. <br>\n",
    "The next cell shows the benchmark for the dynamic version - that could take new trigger list. <br>{3:'Fizz', 5:'Buzz', 7:'Bazz'} is commonly used.<br>\n",
    "The benchmark time is about 75ms for 3 triggers."
   ]
  },
  {
   "cell_type": "code",
   "execution_count": 96,
   "metadata": {},
   "outputs": [
    {
     "name": "stdout",
     "output_type": "stream",
     "text": [
      "74.7 ms ± 1.34 ms per loop (mean ± std. dev. of 7 runs, 100 loops each)\n"
     ]
    }
   ],
   "source": [
    "%%timeit -n 100\n",
    "fbc = buzzClass({3:'Fizz', 5:'Buzz', 7:'Bazz'})\n",
    "[(i, fbc.dynamicFizzBuzz(i)) for i in range(0,100001)]"
   ]
  },
  {
   "cell_type": "markdown",
   "metadata": {},
   "source": [
    "When the class is initated, it caches its trigger list as a dict of all possible modulos. <br>\n",
    "`{0: 'FizzBuzzBazz',\n",
    " 1: '',\n",
    " 2: '',\n",
    " 3: 'Fizz',\n",
    " 4: '',\n",
    " 5: 'Buzz',\n",
    " 6: 'Fizz',\n",
    " 7: 'Bazz',\n",
    " 8: '', ...\n",
    " <3*5*7>: 'FizzBuzzBazz}`<br>\n",
    " Then the function can be called to reuse it: `dynamicBuzz.checkNum()`"
   ]
  },
  {
   "cell_type": "code",
   "execution_count": 367,
   "metadata": {},
   "outputs": [],
   "source": [
    "class dynamicBuzz:\n",
    "    def __init__(self, triggerDict={3:'Fizz', 5:'Buzz', 7:'Bazz'}):\n",
    "        self.maxMultiple = 1\n",
    "        for k in triggerDict:\n",
    "            self.maxMultiple *= k\n",
    "        self.dynamicDict = {n: \"\".join([triggerDict[k]*(n % k == 0) for k in triggerDict ]) for n in range(self.maxMultiple+1)}\n",
    "        self.dynamicList = [\"\".join([triggerDict[k]*(n % k == 0) for k in triggerDict ]) for n in range(self.maxMultiple+1)]\n",
    "    \n",
    "    def checkNum(self, n):\n",
    "        return self.dynamicDict[n % self.maxMultiple] or \"--\"\n",
    "    \n",
    "    def checkNumList(self, n):\n",
    "        return self.dynamicList[n % self.maxMultiple] or \"--\"\n",
    "    "
   ]
  },
  {
   "cell_type": "code",
   "execution_count": 118,
   "metadata": {},
   "outputs": [],
   "source": [
    "%%timeit\n",
    "db=dynamicBuzz()"
   ]
  },
  {
   "cell_type": "code",
   "execution_count": 119,
   "metadata": {},
   "outputs": [
    {
     "name": "stdout",
     "output_type": "stream",
     "text": [
      "40 ms ± 1.56 ms per loop (mean ± std. dev. of 10 runs, 100 loops each)\n"
     ]
    }
   ],
   "source": [
    "%%timeit -n 100 -r 10\n",
    "[(i, db.checkNum(i)) for i in range(1,100001)]"
   ]
  },
  {
   "cell_type": "markdown",
   "metadata": {},
   "source": [
    "That's <b>fast</b>, let's see how quick it is with the regular version"
   ]
  },
  {
   "cell_type": "code",
   "execution_count": 184,
   "metadata": {},
   "outputs": [],
   "source": [
    "db = dynamicBuzz({3:'Fizz', 5:'Buzz'})"
   ]
  },
  {
   "cell_type": "code",
   "execution_count": 121,
   "metadata": {},
   "outputs": [
    {
     "name": "stdout",
     "output_type": "stream",
     "text": [
      "39.5 ms ± 2.19 ms per loop (mean ± std. dev. of 10 runs, 100 loops each)\n"
     ]
    }
   ],
   "source": [
    "%%timeit -n 100 -r 10\n",
    "[(i, db.checkNum(i)) for i in range(1,100001)]"
   ]
  },
  {
   "cell_type": "markdown",
   "metadata": {},
   "source": [
    "# That's a win! \n",
    "### ~40 ms for a dynamic version compared to ~30 ms for the fastest static"
   ]
  },
  {
   "cell_type": "code",
   "execution_count": 108,
   "metadata": {},
   "outputs": [
    {
     "name": "stdout",
     "output_type": "stream",
     "text": [
      "27.9 ms ± 2.24 ms per loop (mean ± std. dev. of 10 runs, 100 loops each)\n"
     ]
    }
   ],
   "source": [
    "%%timeit -n 100 -r 10\n",
    "[(i, dictBuzz(i)) for i in range(1,100001)]"
   ]
  },
  {
   "cell_type": "markdown",
   "metadata": {},
   "source": [
    "Lets tripple the number of triggers and see what kind of penalty we take."
   ]
  },
  {
   "cell_type": "code",
   "execution_count": 430,
   "metadata": {},
   "outputs": [
    {
     "name": "stdout",
     "output_type": "stream",
     "text": [
      "52.4 ms ± 11.1 ms per loop (mean ± std. dev. of 10 runs, 10 loops each)\n"
     ]
    }
   ],
   "source": [
    "%%timeit -n 10 -r 10\n",
    "[(i, db.checkNum(i)) for i in range(1,100001)]"
   ]
  },
  {
   "cell_type": "markdown",
   "metadata": {},
   "source": [
    "Makes sense if we look at the size of the lookup dict."
   ]
  },
  {
   "cell_type": "code",
   "execution_count": 436,
   "metadata": {},
   "outputs": [
    {
     "name": "stdout",
     "output_type": "stream",
     "text": [
      "1670761\n",
      "6.48 s ± 0 ns per loop (mean ± std. dev. of 1 run, 1 loop each)\n"
     ]
    }
   ],
   "source": [
    "%%timeit -n 1 -r 1\n",
    "db = dynamicBuzz({  3: 'Fizz', \n",
    "                    5: 'Buzz', \n",
    "                    7: 'Bazz', \n",
    "                    8: 'Pop', \n",
    "                    9: 'Pow', \n",
    "                    13: 'Wow',\n",
    "                    17: 'Zoom'})\n",
    "print(len(db.dynamicDict))\n",
    "#db.dynamicDict"
   ]
  },
  {
   "cell_type": "markdown",
   "metadata": {},
   "source": [
    "Now that all the processing is cached (which was slow), the use of that data is very fast."
   ]
  },
  {
   "cell_type": "code",
   "execution_count": 439,
   "metadata": {},
   "outputs": [
    {
     "name": "stdout",
     "output_type": "stream",
     "text": [
      "55.8 ms ± 12 ms per loop (mean ± std. dev. of 10 runs, 10 loops each)\n"
     ]
    }
   ],
   "source": [
    "%%timeit -n 10 -r 10\n",
    "[(i, db.checkNum(i)) for i in range(1,100001)]"
   ]
  },
  {
   "cell_type": "markdown",
   "metadata": {},
   "source": [
    "At that size a list lookup is about the same speed."
   ]
  },
  {
   "cell_type": "code",
   "execution_count": 440,
   "metadata": {},
   "outputs": [
    {
     "name": "stdout",
     "output_type": "stream",
     "text": [
      "48.7 ms ± 9.36 ms per loop (mean ± std. dev. of 10 runs, 10 loops each)\n"
     ]
    }
   ],
   "source": [
    "%%timeit -n 10 -r 10\n",
    "[(i, db.checkNumList(i)) for i in range(1,100001)]"
   ]
  },
  {
   "cell_type": "markdown",
   "metadata": {},
   "source": [
    "## We may still be able to do better with parallel processing... "
   ]
  },
  {
   "cell_type": "code",
   "execution_count": 441,
   "metadata": {},
   "outputs": [],
   "source": [
    "from multiprocessing import Pool\n",
    "db = dynamicBuzz({3:'Fizz', 5:'Buzz'})"
   ]
  },
  {
   "cell_type": "code",
   "execution_count": 371,
   "metadata": {},
   "outputs": [
    {
     "name": "stdout",
     "output_type": "stream",
     "text": [
      "[(0, 'FizzBuzz'), (1, '--'), (2, '--'), (3, 'Fizz'), (4, '--'), (5, 'Buzz'), (6, 'Fizz'), (7, '--'), (8, '--'), (9, 'Fizz'), (10, 'Buzz'), (11, '--'), (12, 'Fizz'), (13, '--'), (14, '--')]\n"
     ]
    }
   ],
   "source": [
    "fbPool = Pool(4)\n",
    "print([r for r in enumerate(fbPool.map(db.checkNum, range(0,15)))])\n",
    "fbPool.close()"
   ]
  },
  {
   "cell_type": "code",
   "execution_count": 188,
   "metadata": {},
   "outputs": [
    {
     "name": "stdout",
     "output_type": "stream",
     "text": [
      "67.8 ms ± 5.25 ms per loop (mean ± std. dev. of 10 runs, 100 loops each)\n"
     ]
    }
   ],
   "source": [
    "%%timeit -n 100 -r 10\n",
    "fbPool = Pool(2)\n",
    "[r for r in enumerate(fbPool.map(db.checkNum, range(0,100001)))]\n",
    "fbPool.close()"
   ]
  },
  {
   "cell_type": "markdown",
   "metadata": {},
   "source": [
    "There's some overhead in allocating the pool, and converting the output. \n",
    "Let's reuse the `Pool` and take out the output formatting. "
   ]
  },
  {
   "cell_type": "code",
   "execution_count": 442,
   "metadata": {},
   "outputs": [],
   "source": [
    "fbPool = Pool(2)\n",
    "db = dynamicBuzz({3:'Fizz', 5:'Buzz'})"
   ]
  },
  {
   "cell_type": "code",
   "execution_count": 443,
   "metadata": {},
   "outputs": [
    {
     "name": "stdout",
     "output_type": "stream",
     "text": [
      "26.3 ms ± 2.16 ms per loop (mean ± std. dev. of 10 runs, 100 loops each)\n"
     ]
    }
   ],
   "source": [
    "%%timeit -n 100 -r 10\n",
    "[fbPool.map(db.checkNum, range(0,100001))]"
   ]
  },
  {
   "cell_type": "markdown",
   "metadata": {},
   "source": [
    "That's the fastest yet. The `Pool` size should be dictated by the number of physical cores in your CPU."
   ]
  },
  {
   "cell_type": "code",
   "execution_count": 444,
   "metadata": {},
   "outputs": [],
   "source": [
    "fbPool.close()"
   ]
  },
  {
   "cell_type": "code",
   "execution_count": 181,
   "metadata": {},
   "outputs": [],
   "source": [
    "fbPool = Pool(2)"
   ]
  },
  {
   "cell_type": "markdown",
   "metadata": {},
   "source": [
    "#### Now that we know we can get the dynamic version down to ~25ms, let's see how fast the static function runs"
   ]
  },
  {
   "cell_type": "code",
   "execution_count": 182,
   "metadata": {},
   "outputs": [
    {
     "name": "stdout",
     "output_type": "stream",
     "text": [
      "18.9 ms ± 1.77 ms per loop (mean ± std. dev. of 10 runs, 100 loops each)\n"
     ]
    }
   ],
   "source": [
    "%%timeit -n 100 -r 10\n",
    "[fbPool.map(dictBuzz, range(0,100001))]"
   ]
  },
  {
   "cell_type": "code",
   "execution_count": 220,
   "metadata": {},
   "outputs": [],
   "source": [
    "fbPool.close()"
   ]
  },
  {
   "cell_type": "markdown",
   "metadata": {},
   "source": [
    "Since I loved the logic beind the static version of this approach I wanted to make it dynamic. It should scale up with the number of trigger terms better. "
   ]
  },
  {
   "cell_type": "markdown",
   "metadata": {},
   "source": [
    "This scales well because no matter how many terms are added, the response list grows linerarly. \n",
    "This approach uses base 2 (binary) to flag the presence of a trigger (`complicatedBuzzing.responses` is in the format `{0:'Fizz', 1:'Buzz',2:'Bazz',...}` ordered by their multiple trigger). `complicatedBuzzing.binBuzz()` takes a single integer, and iterates through all the multiples (`complicatedBuzzing.mods`) and if the modulo is 0 then 2<sup>k</sup> will be added to the total. Here are the first 17 integers with their summed([2<sup>multiple divisor</sup>]) values. <br>\n",
    "{0: 'Fizz', 1: 'Buzz', 2: 'Bazz', 3: 'Pop', 4: 'Pow', 5: 'Wow', 6: 'Zoom'}\n",
    "-> [2<sup>0</sup>, 2<sup>1</sup>, 2<sup>2</sup>, 2<sup>3</sup>, 2<sup>4</sup>, 2<sup>5</sup>, 2<sup>6</sup>] <br>\n",
    "`Integer EncodedValue  Triggered Response`<br>\n",
    "`0       127           FizzBuzzBazzPopPowWowZoom`<br>\n",
    "`3       1             Fizz`<br>\n",
    "`5       2             Buzz`<br>\n",
    "`6       1             Fizz`<br>\n",
    "`7       4             Bazz`<br>\n",
    "`8       8             Pop`<br>\n",
    "`9       17            FizzPow`<br>\n",
    "`10      2             Buzz`<br>\n",
    "`12      1             Fizz`<br>\n",
    "`13      32            Wow`<br>\n",
    "`14      4             Bazz`<br>\n",
    "`15      3             FizzBuzz`<br>\n",
    "`16      8             Pop`<br>\n",
    "`17      64            Zoom`<br>\n",
    "If we continued this, 51, for example, a multiple of 3 (2<sup>0</sup>=1) and 17 (2<sup>6</sup>=64) -> 1 + 64 = 65.<br>\n",
    "0 and 1,670,760 both have no remainder of 3,5,7,9,13, and 17. <br>\n",
    "0 and 1,670,760 would have all <i>flags</i> set -> 2<sup>0</sup> + 2<sup>1</sup> + 2<sup>2</sup> + 2<sup>3</sup> + 2<sup>4</sup> + 2<sup>5</sup> + 2<sup>6</sup> = 127 \n",
    "\n",
    "\n",
    "Once the number's response is encoded it is converted into binary: 1= 0001, 2=0010, 127=1111111<br>\n",
    "Then it's broken apart:<br>\n",
    "127 = ['1','1','1','1','1','1','1'], <b>reversed</b>, and matched up to the responses<br>\n",
    "['Fizz', 'Buzz', 'Bazz', 'Pop', 'Pow', 'Wow', 'Zoom']<br>\n",
    "so (already reversed) ['0','1','0','1','0','1','0'] would output `['Buzz', 'Pop', 'Wow']` which is then joined together with no spaces. If the result is 0 characters in length, `--` is returned instead. "
   ]
  },
  {
   "cell_type": "code",
   "execution_count": 423,
   "metadata": {},
   "outputs": [],
   "source": [
    "class complicatedBuzzing():\n",
    "    def __init__(self, triggers={3: 'Buzz', 5: 'Fizz', 7: 'Bazz'}):\n",
    "        self.triggers = triggers\n",
    "        self.mods = list(self.triggers.keys())\n",
    "        self.mods.sort()\n",
    "        self.responses = {i:self.triggers[k] for i, k in enumerate(self.mods)}\n",
    "        \n",
    "    def lookupBits(self, i):\n",
    "        return \"\".join([self.responses[i]*int(bit) for i, bit in enumerate(bin(i)[:1:-1])]) or \"--\"\n",
    "        \n",
    "    def binBuzz(self, n):\n",
    "        return self.lookupBits(sum([(2**k)*(n%m==0) for k, m in enumerate(self.mods)]))\n",
    "\n",
    "    \n",
    "    #This is just used to print out the binary encoding of the number series\n",
    "    def buzzBits(self, lim):\n",
    "        for n in range(lim):\n",
    "            s = sum([(2**k)*(n%m==0) for k, m in enumerate(self.mods)])\n",
    "            if s>0:\n",
    "                print(n, s, self.binBuzz(n))"
   ]
  },
  {
   "cell_type": "code",
   "execution_count": 447,
   "metadata": {},
   "outputs": [
    {
     "name": "stdout",
     "output_type": "stream",
     "text": [
      "4.01 µs ± 1.13 µs per loop (mean ± std. dev. of 2 runs, 5 loops each)\n"
     ]
    }
   ],
   "source": [
    "%%timeit -n 5 -r 2\n",
    "r = complicatedBuzzing({3: 'Fizz', \n",
    "                        5: 'Buzz', \n",
    "                        7: 'Bazz', \n",
    "                        8: 'Pop', \n",
    "                        9: 'Pow', \n",
    "                        13: 'Wow',\n",
    "                        17: 'Zoom'})"
   ]
  },
  {
   "cell_type": "code",
   "execution_count": 446,
   "metadata": {},
   "outputs": [
    {
     "data": {
      "text/plain": [
       "[(1, '--'),\n",
       " (2, '--'),\n",
       " (3, 'Fizz'),\n",
       " (4, '--'),\n",
       " (5, 'Buzz'),\n",
       " (6, 'Fizz'),\n",
       " (7, 'Bazz'),\n",
       " (8, 'Pop'),\n",
       " (9, 'FizzPow'),\n",
       " (10, 'Buzz'),\n",
       " (11, '--'),\n",
       " (12, 'Fizz'),\n",
       " (13, 'Wow'),\n",
       " (14, 'Bazz'),\n",
       " (15, 'FizzBuzz'),\n",
       " (16, 'Pop'),\n",
       " (17, 'Zoom')]"
      ]
     },
     "execution_count": 446,
     "metadata": {},
     "output_type": "execute_result"
    }
   ],
   "source": [
    "[(i, r.binBuzz(i)) for i in range(1,18)]"
   ]
  },
  {
   "cell_type": "code",
   "execution_count": 399,
   "metadata": {},
   "outputs": [
    {
     "name": "stdout",
     "output_type": "stream",
     "text": [
      "618 ms ± 26.1 ms per loop (mean ± std. dev. of 5 runs, 10 loops each)\n"
     ]
    }
   ],
   "source": [
    "%%timeit -n 10 -r 5\n",
    "[(i, r.binBuzz(i)) for i in range(1,100001)]"
   ]
  },
  {
   "attachments": {
    "image.png": {
     "image/png": "[encoded data removed]"
    }
   },
   "cell_type": "markdown",
   "metadata": {},
   "source": [
    "Thats 89.5% faster than 6 seconds![image.png](attachment:image.png)"
   ]
  },
  {
   "cell_type": "markdown",
   "metadata": {},
   "source": [
    "Ok if you actually made it this far, go outside. \n",
    "\n",
    "What? You really want a summary? \n",
    "If we cache all results, and limit conversions, then simple lookups can be done very quickly. If there would be a lot of data to cache, sometimes its not worth it. It depends how much the data will be re-used. \n",
    "The takeaway is that it is important to know the requirements - if there are not many edge cases it's easier to optimize. "
   ]
  },
  {
   "cell_type": "code",
   "execution_count": null,
   "metadata": {},
   "outputs": [],
   "source": []
  }
 ],
 "metadata": {
  "kernelspec": {
   "display_name": "Python 3",
   "language": "python",
   "name": "python3"
  },
  "language_info": {
   "codemirror_mode": {
    "name": "ipython",
    "version": 3
   },
   "file_extension": ".py",
   "mimetype": "text/x-python",
   "name": "python",
   "nbconvert_exporter": "python",
   "pygments_lexer": "ipython3",
   "version": "3.7.4"
  }
 },
 "nbformat": 4,
 "nbformat_minor": 2
}
