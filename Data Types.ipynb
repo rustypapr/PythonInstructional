{
 "cells": [
  {
   "cell_type": "markdown",
   "metadata": {},
   "source": [
    "# Data Types\n",
    "\n",
    "## Lists, Dicts, and DataFrames"
   ]
  },
  {
   "cell_type": "markdown",
   "metadata": {},
   "source": [
    "#### High Level\n",
    "These three types - `list`, `dict` and `pandas.DataFrame` can all be used to hold more than one value at a time, have some overlapping functionality, but differ greatly\n",
    "\n",
    "### Lists\n",
    "Lists are collections of singular elements. They can be individually referenced by their index. They can quickly return a value based on its index, and slower based on its value since it must read each value until it finds its match. "
   ]
  },
  {
   "cell_type": "code",
   "execution_count": null,
   "metadata": {},
   "outputs": [],
   "source": []
  }
 ],
 "metadata": {
  "kernelspec": {
   "display_name": "Python 3",
   "language": "python",
   "name": "python3"
  },
  "language_info": {
   "codemirror_mode": {
    "name": "ipython",
    "version": 3
   },
   "file_extension": ".py",
   "mimetype": "text/x-python",
   "name": "python",
   "nbconvert_exporter": "python",
   "pygments_lexer": "ipython3",
   "version": "3.7.3"
  }
 },
 "nbformat": 4,
 "nbformat_minor": 2
}
