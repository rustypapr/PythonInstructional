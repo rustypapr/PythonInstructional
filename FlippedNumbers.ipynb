{
 "cells": [
  {
   "cell_type": "markdown",
   "metadata": {},
   "source": [
    "# Flipped Numbers"
   ]
  },
  {
   "cell_type": "code",
   "execution_count": 18,
   "metadata": {},
   "outputs": [],
   "source": [
    "startingPos = ['1','8','6','9']\n",
    "middlePos = ['0','1','8']\n",
    "interiorPos = ['0','1','8','6','9']\n",
    "startingOptions = 4\n",
    "middleOptions = 5\n",
    "interiorOptions = 5"
   ]
  },
  {
   "cell_type": "code",
   "execution_count": null,
   "metadata": {},
   "outputs": [],
   "source": [
    "def combineOdd"
   ]
  },
  {
   "cell_type": "code",
   "execution_count": 19,
   "metadata": {},
   "outputs": [],
   "source": [
    " def evenOptions(length):\n",
    "    options = 0\n",
    "    #Edge\n",
    "    options += 4\n",
    "    #Interior\n",
    "    for space in range((length//2) - 1):\n",
    "        options += options*interiorOptions\n",
    "    return options"
   ]
  },
  {
   "cell_type": "code",
   "execution_count": 40,
   "metadata": {},
   "outputs": [],
   "source": [
    "def countVariations(start, end):\n",
    "    lengths = {i: 0 for i in range(len(str(start)), len(str(end))+1)}\n",
    "    print(lengths)\n",
    "    for l in lengths.keys():\n",
    "        if l == 1:\n",
    "            lengths[l] = 2\n",
    "        elif l % 2 == 0:\n",
    "            lengths[l] += evenOptions(l)\n",
    "        else: \n",
    "            lengths[l] += 3*evenOptions(l-1)\n",
    "        print(lengths)\n",
    "    return sum([lengths[v] for v in lengths.keys()])\n"
   ]
  },
  {
   "cell_type": "code",
   "execution_count": 45,
   "metadata": {},
   "outputs": [
    {
     "ename": "SyntaxError",
     "evalue": "unexpected EOF while parsing (<ipython-input-45-7cb5065e4c14>, line 1)",
     "output_type": "error",
     "traceback": [
      "\u001b[0;36m  File \u001b[0;32m\"<ipython-input-45-7cb5065e4c14>\"\u001b[0;36m, line \u001b[0;32m1\u001b[0m\n\u001b[0;31m    def produceVariations(length):\u001b[0m\n\u001b[0m                                  ^\u001b[0m\n\u001b[0;31mSyntaxError\u001b[0m\u001b[0;31m:\u001b[0m unexpected EOF while parsing\n"
     ]
    }
   ],
   "source": [
    "def produceVariations(length):\n",
    "    "
   ]
  },
  {
   "cell_type": "code",
   "execution_count": 44,
   "metadata": {},
   "outputs": [
    {
     "name": "stdout",
     "output_type": "stream",
     "text": [
      "{5: 0, 6: 0, 7: 0}\n",
      "{5: 72, 6: 0, 7: 0}\n",
      "{5: 72, 6: 144, 7: 0}\n",
      "{5: 72, 6: 144, 7: 432}\n"
     ]
    },
    {
     "data": {
      "text/plain": [
       "648"
      ]
     },
     "execution_count": 44,
     "metadata": {},
     "output_type": "execute_result"
    }
   ],
   "source": [
    "countVariations(10000, 1000000)"
   ]
  },
  {
   "cell_type": "code",
   "execution_count": 6,
   "metadata": {},
   "outputs": [
    {
     "data": {
      "text/plain": [
       "120"
      ]
     },
     "execution_count": 6,
     "metadata": {},
     "output_type": "execute_result"
    }
   ],
   "source": [
    "def nCr(n, r)\n",
    "    return math.factorial(n)/math.factorial(r)"
   ]
  },
  {
   "cell_type": "code",
   "execution_count": 2,
   "metadata": {},
   "outputs": [
    {
     "ename": "SyntaxError",
     "evalue": "invalid syntax (<ipython-input-2-d71aa03aac5d>, line 1)",
     "output_type": "error",
     "traceback": [
      "\u001b[0;36m  File \u001b[0;32m\"<ipython-input-2-d71aa03aac5d>\"\u001b[0;36m, line \u001b[0;32m1\u001b[0m\n\u001b[0;31m    5!\u001b[0m\n\u001b[0m     ^\u001b[0m\n\u001b[0;31mSyntaxError\u001b[0m\u001b[0;31m:\u001b[0m invalid syntax\n"
     ]
    }
   ],
   "source": [
    "def factorial(n):\n",
    "    return multiply[]"
   ]
  },
  {
   "cell_type": "code",
   "execution_count": null,
   "metadata": {},
   "outputs": [],
   "source": [
    "def countFlipped(start, end):\n",
    "    numberRange = {i:0 for i in range(len(start), len(end)+1)}\n",
    "    for k in numberRange.keys():\n",
    "        if k % 2 != 0:\n",
    "            numberRange[k] += \n",
    "            \n",
    "        \n",
    "        "
   ]
  },
  {
   "cell_type": "code",
   "execution_count": null,
   "metadata": {},
   "outputs": [],
   "source": [
    "def makeFlipped(length):\n",
    "    options = []\n",
    "    indiv = \" \"*length\n",
    "    if length % 2 == 0:\n",
    "        half = length/2\n",
    "        for p in range(half):\n",
    "            if p % 2 == 0:\n",
    "                \n",
    "def countFlipped(start, end):\n",
    "    startArr = []"
   ]
  }
 ],
 "metadata": {
  "kernelspec": {
   "display_name": "Python 3",
   "language": "python",
   "name": "python3"
  },
  "language_info": {
   "codemirror_mode": {
    "name": "ipython",
    "version": 3
   },
   "file_extension": ".py",
   "mimetype": "text/x-python",
   "name": "python",
   "nbconvert_exporter": "python",
   "pygments_lexer": "ipython3",
   "version": "3.7.4"
  }
 },
 "nbformat": 4,
 "nbformat_minor": 2
}
