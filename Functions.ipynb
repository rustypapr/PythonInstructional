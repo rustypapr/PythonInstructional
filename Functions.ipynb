{
 "cells": [
  {
   "cell_type": "markdown",
   "metadata": {},
   "source": [
    "<br><br>\n",
    "## Functions"
   ]
  },
  {
   "cell_type": "code",
   "execution_count": null,
   "metadata": {},
   "outputs": [],
   "source": [
    "# Basic Definition\n",
    "def name(parameters):\n",
    "    # code goes here\n",
    "    return #return something or nothing"
   ]
  },
  {
   "cell_type": "code",
   "execution_count": 1,
   "metadata": {},
   "outputs": [],
   "source": [
    "def print_hello():\n",
    "    print(f\"Hello!\")\n",
    "    #If nothing is returned, no return statement is necessary "
   ]
  },
  {
   "cell_type": "code",
   "execution_count": 4,
   "metadata": {},
   "outputs": [
    {
     "name": "stdout",
     "output_type": "stream",
     "text": [
      "Hello!\n"
     ]
    }
   ],
   "source": [
    "print_hello()"
   ]
  },
  {
   "cell_type": "code",
   "execution_count": 3,
   "metadata": {},
   "outputs": [
    {
     "data": {
      "text/plain": [
       "<function __main__.print_hello()>"
      ]
     },
     "execution_count": 3,
     "metadata": {},
     "output_type": "execute_result"
    }
   ],
   "source": [
    "print_hello"
   ]
  },
  {
   "cell_type": "code",
   "execution_count": 5,
   "metadata": {},
   "outputs": [],
   "source": [
    "def print_name(name):\n",
    "    print(\"Hello \" + name + \"!\")"
   ]
  },
  {
   "cell_type": "code",
   "execution_count": 6,
   "metadata": {},
   "outputs": [
    {
     "name": "stdout",
     "output_type": "stream",
     "text": [
      "Hello Ian!\n"
     ]
    }
   ],
   "source": [
    "print_name(\"Ian\")"
   ]
  },
  {
   "cell_type": "code",
   "execution_count": 8,
   "metadata": {},
   "outputs": [],
   "source": [
    "# The prime use case for functions is in being able to run the same code for different values\n",
    "list_one = [1, 2, 3, 4, 5, 6, 7, 8, 9, 10]\n",
    "list_two = [11, 12, 13, 14, 15]"
   ]
  },
  {
   "cell_type": "code",
   "execution_count": 9,
   "metadata": {},
   "outputs": [],
   "source": [
    "def list_information(simple_list):\n",
    "    print(f\"The values within the list are...\")\n",
    "    for value in simple_list:\n",
    "        print(value)\n",
    "    print(\"The length of this list is... \" + str(len(simple_list)))"
   ]
  },
  {
   "cell_type": "code",
   "execution_count": 10,
   "metadata": {},
   "outputs": [
    {
     "name": "stdout",
     "output_type": "stream",
     "text": [
      "The values within the list are...\n",
      "1\n",
      "2\n",
      "3\n",
      "4\n",
      "5\n",
      "6\n",
      "7\n",
      "8\n",
      "9\n",
      "10\n",
      "The length of this list is... 10\n",
      "The values within the list are...\n",
      "11\n",
      "12\n",
      "13\n",
      "14\n",
      "15\n",
      "The length of this list is... 5\n"
     ]
    }
   ],
   "source": [
    "list_information(list_one)\n",
    "list_information(list_two)"
   ]
  },
  {
   "cell_type": "code",
   "execution_count": 11,
   "metadata": {},
   "outputs": [],
   "source": [
    "# Functions can have more than one parameter\n",
    "def make_quesadilla(protein, topping):\n",
    "    quesadilla = f\"Here is a {protein} quesadilla with {topping}\"\n",
    "    print(quesadilla)\n"
   ]
  },
  {
   "cell_type": "code",
   "execution_count": 12,
   "metadata": {},
   "outputs": [
    {
     "name": "stdout",
     "output_type": "stream",
     "text": [
      "Here is a beef quesadilla with guacamole\n",
      "Here is a chicken quesadilla with salsa\n"
     ]
    }
   ],
   "source": [
    "# Supply the arguments (values) when calling the function\n",
    "make_quesadilla(\"beef\", \"guacamole\")\n",
    "make_quesadilla(\"chicken\", \"salsa\")"
   ]
  },
  {
   "cell_type": "code",
   "execution_count": 13,
   "metadata": {},
   "outputs": [
    {
     "name": "stdout",
     "output_type": "stream",
     "text": [
      "Here is a sour cream quesadilla with beef\n"
     ]
    }
   ],
   "source": [
    "# @NOTE: Order is important when supplying arguments!\n",
    "make_quesadilla(\"sour cream\", \"beef\")"
   ]
  },
  {
   "cell_type": "code",
   "execution_count": 14,
   "metadata": {},
   "outputs": [],
   "source": [
    "# We can also specify default values for parameters\n",
    "def make_quesadilla(protein, topping=\"sour cream\"):\n",
    "    quesadilla = f\"Here is a {protein} quesadilla with {topping}\"\n",
    "    print(quesadilla)"
   ]
  },
  {
   "cell_type": "code",
   "execution_count": 15,
   "metadata": {},
   "outputs": [
    {
     "name": "stdout",
     "output_type": "stream",
     "text": [
      "Here is a chicken quesadilla with sour cream\n"
     ]
    }
   ],
   "source": [
    "make_quesadilla(\"chicken\")"
   ]
  },
  {
   "cell_type": "code",
   "execution_count": 16,
   "metadata": {},
   "outputs": [
    {
     "name": "stdout",
     "output_type": "stream",
     "text": [
      "Here is a beef quesadilla with guacamole\n"
     ]
    }
   ],
   "source": [
    "make_quesadilla(\"beef\", \"guacamole\")"
   ]
  },
  {
   "cell_type": "code",
   "execution_count": null,
   "metadata": {},
   "outputs": [],
   "source": [
    "# Functions can return a value\n",
    "def square(number):\n",
    "    return number * number\n"
   ]
  },
  {
   "cell_type": "code",
   "execution_count": 17,
   "metadata": {},
   "outputs": [],
   "source": [
    "# Functions can return a value\n",
    "def square(number):\n",
    "    squared = number * number\n",
    "    return squared"
   ]
  },
  {
   "cell_type": "code",
   "execution_count": 18,
   "metadata": {},
   "outputs": [
    {
     "name": "stdout",
     "output_type": "stream",
     "text": [
      "4\n"
     ]
    }
   ],
   "source": [
    "# You can save the value that is returned\n",
    "squared = square(2)\n",
    "print(squared)"
   ]
  },
  {
   "cell_type": "code",
   "execution_count": 19,
   "metadata": {},
   "outputs": [
    {
     "name": "stdout",
     "output_type": "stream",
     "text": [
      "4\n",
      "9\n"
     ]
    }
   ],
   "source": [
    "# You can also just print the return value of a function\n",
    "print(square(2))\n",
    "print(square(3))"
   ]
  },
  {
   "cell_type": "code",
   "execution_count": 20,
   "metadata": {},
   "outputs": [
    {
     "data": {
      "text/plain": [
       "16"
      ]
     },
     "execution_count": 20,
     "metadata": {},
     "output_type": "execute_result"
    }
   ],
   "source": [
    "square(4)"
   ]
  },
  {
   "cell_type": "code",
   "execution_count": 21,
   "metadata": {},
   "outputs": [
    {
     "name": "stdout",
     "output_type": "stream",
     "text": [
      "<function square at 0x104c27ef0>\n"
     ]
    }
   ],
   "source": [
    "print(square)"
   ]
  },
  {
   "cell_type": "code",
   "execution_count": 22,
   "metadata": {},
   "outputs": [
    {
     "data": {
      "text/plain": [
       "100"
      ]
     },
     "execution_count": 22,
     "metadata": {},
     "output_type": "execute_result"
    }
   ],
   "source": [
    "square_function = square\n",
    "square_function(10)"
   ]
  },
  {
   "cell_type": "code",
   "execution_count": 23,
   "metadata": {},
   "outputs": [],
   "source": [
    "#Multiple Returns with Conditionals\n",
    "def fizzBuzz(number):\n",
    "    if number % 15 == 0:\n",
    "        return \"FizzBuzz\"\n",
    "    elif  number % 5 == 0:\n",
    "        return \"Buzz\"\n",
    "    elif  number % 3 == 0:\n",
    "        return \"Fizz\"\n",
    "    else:\n",
    "        return \"--\"\n",
    "    "
   ]
  },
  {
   "cell_type": "code",
   "execution_count": 24,
   "metadata": {},
   "outputs": [
    {
     "data": {
      "text/plain": [
       "[(0, 'FizzBuzz'),\n",
       " (1, '--'),\n",
       " (2, '--'),\n",
       " (3, 'Fizz'),\n",
       " (4, '--'),\n",
       " (5, 'Buzz'),\n",
       " (6, 'Fizz'),\n",
       " (7, '--'),\n",
       " (8, '--'),\n",
       " (9, 'Fizz'),\n",
       " (10, 'Buzz'),\n",
       " (11, '--'),\n",
       " (12, 'Fizz'),\n",
       " (13, '--'),\n",
       " (14, '--'),\n",
       " (15, 'FizzBuzz')]"
      ]
     },
     "execution_count": 24,
     "metadata": {},
     "output_type": "execute_result"
    }
   ],
   "source": [
    "[(i, fizzBuzz(i)) for i in range(16)]"
   ]
  },
  {
   "cell_type": "code",
   "execution_count": 25,
   "metadata": {},
   "outputs": [],
   "source": [
    "def hashBuzz(n):\n",
    "    return ['FizzBuzz', '--', '--', 'Fizz', '--', 'Buzz', 'Fizz', '--',\n",
    "         '--', 'Fizz', 'Buzz', '--', 'Fizz', '--', '--'][n % 15]"
   ]
  },
  {
   "cell_type": "code",
   "execution_count": 26,
   "metadata": {},
   "outputs": [
    {
     "data": {
      "text/plain": [
       "[(1, '--'),\n",
       " (2, '--'),\n",
       " (3, 'Fizz'),\n",
       " (4, '--'),\n",
       " (5, 'Buzz'),\n",
       " (6, 'Fizz'),\n",
       " (7, '--'),\n",
       " (8, '--'),\n",
       " (9, 'Fizz'),\n",
       " (10, 'Buzz'),\n",
       " (11, '--'),\n",
       " (12, 'Fizz'),\n",
       " (13, '--'),\n",
       " (14, '--'),\n",
       " (15, 'FizzBuzz')]"
      ]
     },
     "execution_count": 26,
     "metadata": {},
     "output_type": "execute_result"
    }
   ],
   "source": [
    "[(i, hashBuzz(i)) for i in range(1,16)]"
   ]
  },
  {
   "cell_type": "code",
   "execution_count": null,
   "metadata": {},
   "outputs": [],
   "source": [
    "LFB = lambda n: ['FizzBuzz', '--', '--', 'Fizz', '--', 'Buzz', 'Fizz', '--',\n",
    "         '--', 'Fizz', 'Buzz', '--', 'Fizz', '--', '--'][n % 15] "
   ]
  },
  {
   "cell_type": "code",
   "execution_count": null,
   "metadata": {},
   "outputs": [],
   "source": [
    "[(i, LFB(i)) for i in range(1,10001)]"
   ]
  },
  {
   "cell_type": "code",
   "execution_count": null,
   "metadata": {},
   "outputs": [],
   "source": [
    "import time"
   ]
  },
  {
   "cell_type": "code",
   "execution_count": null,
   "metadata": {},
   "outputs": [],
   "source": [
    "times = []\n",
    "for i in range(0,100001):\n",
    "    st = time.time_ns()\n",
    "    [(i, fizzBuzz(i)) for i in range(1,10001)]\n",
    "    times.append(time.time_ns()-st)\n",
    "\n",
    "print(f\"Total: {sum(times)/1000000000:,.8f} seconds\")\n",
    "print(f\"Average: {(sum(times)/len(times))/1000000000:.8f} seconds\")"
   ]
  },
  {
   "cell_type": "code",
   "execution_count": null,
   "metadata": {},
   "outputs": [],
   "source": [
    "%%timeit -n 1000\n",
    "[(i, fizzBuzz(i)) for i in range(1,10001)]"
   ]
  },
  {
   "cell_type": "code",
   "execution_count": null,
   "metadata": {},
   "outputs": [],
   "source": [
    "%%timeit -n 1000\n",
    "fbHash = ['FizzBuzz', '--', '--', 'Fizz', '--', 'Buzz', 'Fizz', '--',\n",
    "         '--', 'Fizz', 'Buzz', '--', 'Fizz', '--', '--']\n",
    "\n",
    "[(i, fbHash[i % 15]) for i in range(1,10001)]"
   ]
  },
  {
   "cell_type": "code",
   "execution_count": null,
   "metadata": {},
   "outputs": [],
   "source": [
    "fbHash = ['FizzBuzz', '--', '--', 'Fizz', '--', 'Buzz', 'Fizz', '--',\n",
    "         '--', 'Fizz', 'Buzz', '--', 'Fizz', '--', '--']"
   ]
  },
  {
   "cell_type": "code",
   "execution_count": null,
   "metadata": {},
   "outputs": [],
   "source": [
    "%%timeit -n 1000\n",
    "[(i, fbHash[i % 15]) for i in range(1,10001)]"
   ]
  },
  {
   "cell_type": "code",
   "execution_count": null,
   "metadata": {},
   "outputs": [],
   "source": []
  },
  {
   "cell_type": "code",
   "execution_count": null,
   "metadata": {},
   "outputs": [],
   "source": [
    "%%timeit -n 10000\n",
    "[(i, hashBuzz(i)) for i in range(1,1001)]"
   ]
  },
  {
   "cell_type": "code",
   "execution_count": null,
   "metadata": {},
   "outputs": [],
   "source": [
    "dictBuzz = {i: hashBuzz(i) for i in range(0,15)}"
   ]
  },
  {
   "cell_type": "code",
   "execution_count": null,
   "metadata": {},
   "outputs": [],
   "source": [
    "%%timeit -n 1000\n",
    "[(i, dictBuzz[i % 15]) for i in range(1,1001)]"
   ]
  },
  {
   "cell_type": "code",
   "execution_count": null,
   "metadata": {},
   "outputs": [],
   "source": [
    "class fizzy:\n",
    "    def __init__(self):\n",
    "        self.bl = ['FizzBuzz', '--', '--', 'Fizz', '--', 'Buzz', 'Fizz', '--',\n",
    "         '--', 'Fizz', 'Buzz', '--', 'Fizz', '--', '--']\n",
    "        \n",
    "    def buzzit(self,n):\n",
    "        return n % 15\n",
    "    \n",
    "    def buzz(self, n):\n",
    "        return self.bl[self.buzzit(n)]\n",
    "        \n",
    "fb = fizzy()"
   ]
  },
  {
   "cell_type": "code",
   "execution_count": null,
   "metadata": {},
   "outputs": [],
   "source": [
    "%%timeit -n 1000\n",
    "\n",
    "[(i, fb.buzz(i)) for i in range(1,1001)]"
   ]
  },
  {
   "cell_type": "code",
   "execution_count": 27,
   "metadata": {},
   "outputs": [
    {
     "name": "stdout",
     "output_type": "stream",
     "text": [
      "5.22 ms ± 1.87 ms per loop (mean ± std. dev. of 5 runs, 10 loops each)\n"
     ]
    }
   ],
   "source": [
    "%%timeit -n 10 -r 5\n",
    "[(i, [\"--\",\"Buzz\",\"Fizz\",\"FizzBuzz\"][(2*(i%3==0) + (i%5==0))]) for i in range(1,10001)]"
   ]
  },
  {
   "cell_type": "code",
   "execution_count": null,
   "metadata": {},
   "outputs": [],
   "source": [
    "BUZZSET = [\"--\",\"Buzz\",\"Fizz\",\"FizzBuzz\"]\n",
    "def FIZZBUZZ(n):\n",
    "    return BUZZSET[(2*(n%3==0) + (n%5==0))]"
   ]
  },
  {
   "cell_type": "code",
   "execution_count": null,
   "metadata": {},
   "outputs": [],
   "source": [
    "%%timeit -n 1000\n",
    "[(i, FIZZBUZZ(i)) for i in range(1,1001)]"
   ]
  },
  {
   "cell_type": "code",
   "execution_count": null,
   "metadata": {},
   "outputs": [],
   "source": [
    "LFB"
   ]
  }
 ],
 "metadata": {
  "kernelspec": {
   "display_name": "Python 3",
   "language": "python",
   "name": "python3"
  },
  "language_info": {
   "codemirror_mode": {
    "name": "ipython",
    "version": 3
   },
   "file_extension": ".py",
   "mimetype": "text/x-python",
   "name": "python",
   "nbconvert_exporter": "python",
   "pygments_lexer": "ipython3",
   "version": "3.7.4"
  }
 },
 "nbformat": 4,
 "nbformat_minor": 2
}
