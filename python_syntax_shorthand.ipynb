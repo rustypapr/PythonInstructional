{
 "cells": [
  {
   "cell_type": "code",
   "execution_count": 29,
   "metadata": {},
   "outputs": [
    {
     "name": "stdout",
     "output_type": "stream",
     "text": [
      "Truncated: [1, 2, 3, 4]\n",
      "Beginning Truncated: [3, 4, 5, 6, 7, 8, 9]\n",
      "Fixed Length: [0, 1, 2]\n",
      "With Jumps: [0, 2, 4, 6, 8]\n",
      "With Jumps (even): [1, 3, 5, 7, 9]\n",
      "Reversed: [9, 8, 7, 6, 5, 4, 3, 2, 1, 0]\n",
      "Truncated, Reversed: [7, 5, 3]\n",
      "Fixed Length Truncated: [9, 8, 7, 6, 5, 4]\n"
     ]
    }
   ],
   "source": [
    "\"\"\"\n",
    "Lists are objects that allow you to reference individual objects it contains by index: x[n]\n",
    "It is also possible to specify slices of the list you would like returned: x[start_pos:end_position:direction_and_distance]\n",
    "x[n:] - references everything from position n onward\n",
    "x[n:m] - references the items between the positions n and m\n",
    "x[n:m:d] - references the span n-m, but counts by d\n",
    "\"\"\"\n",
    "\n",
    "simpleList = [0,1,2,3,4,5,6,7,8,9]\n",
    "print(f\"Truncated: {simpleList[1:5]}\")\n",
    "print(f\"Beginning Truncated: {simpleList[3:]}\")\n",
    "print(f\"Fixed Length: {simpleList[:3]}\")\n",
    "print(f\"With Jumps: {simpleList[::2]}\")\n",
    "print(f\"With Jumps (even): {simpleList[1::2]}\")\n",
    "print(f\"Reversed: {simpleList[::-1]}\")\n",
    "print(f\"Truncated, Reversed: {simpleList[7:2:-2]}\")\n",
    "print(f\"Fixed Length Truncated: {simpleList[:3:-1]}\")"
   ]
  },
  {
   "cell_type": "code",
   "execution_count": 33,
   "metadata": {},
   "outputs": [
    {
     "name": "stdout",
     "output_type": "stream",
     "text": [
      "\n",
      "Basic Range (iterable): 0 1 2 3 4 5 6 7 8 9 \n",
      "Passing in an array: 0 1 2 3 4 5 6 7 8 9 \n",
      "Reversing an array as we pass it in: 9 8 7 6 5 4 3 2 1 0 \n",
      "Slicing an array as we pass it in: 8 6 4 "
     ]
    }
   ],
   "source": [
    "\"\"\"\n",
    "A for loop is defined by a start and an end, or can take any iterable object. \n",
    "The format is:\n",
    "    for unique_item in someIterable:\n",
    "        some_work()\n",
    "\"\"\"\n",
    "\n",
    "print(\"\\nBasic Range (iterable): \", end=\"\") \n",
    "for i in range(10):\n",
    "    print(f\"{i}\", end=\" \")\n",
    "\n",
    "print(\"\\nPassing in an array: \", end = \"\") \n",
    "for i in simpleList:\n",
    "    print(f\"{i}\", end=\" \")\n",
    "\n",
    "print(\"\\nReversing an array as we pass it in: \", end=\"\") \n",
    "for i in simpleList[::-1]:\n",
    "    print(f\"{i}\", end=\" \")\n",
    "    \n",
    "print(\"\\nSlicing an array as we pass it in: \", end=\"\") \n",
    "for i in simpleList[8:2:-2]:\n",
    "    print(f\"{i}\", end=\" \")\n",
    "    \n"
   ]
  },
  {
   "cell_type": "code",
   "execution_count": 42,
   "metadata": {},
   "outputs": [
    {
     "name": "stdout",
     "output_type": "stream",
     "text": [
      "The default result is an iterable <generator object <genexpr> at 0x00000204214C7DE0>\n",
      "Ok, WTF is that?! \n",
      "\n",
      "Lets wrap it in brackets!\n",
      "The new result is a list [0, 1, 2, 3, 4, 5, 6, 7, 8, 9] \n",
      "\n",
      "We can even add conditionals (like only even)! [0, 2, 4, 6, 8]\n",
      "\n",
      "This is a powerful approach to working with iterables.\n",
      "Anything you can iterate through in a for loop can be iterated through here.\n"
     ]
    }
   ],
   "source": [
    "\"\"\"\n",
    "In python there are a lot of abbreviations. These are more than just that, but there is a way to create\n",
    "iterables with a single line of code:\n",
    "\"\"\"\n",
    "\n",
    "print(f\"The default result is an iterable {i for i in simpleList}\")\n",
    "print(f\"Ok, WTF is that?! \\n\\nLets wrap it in brackets!\")\n",
    "print(f\"The new result is a list {[i for i in simpleList]} \\n\")\n",
    "print(f\"We can even add conditionals (like only even)! {[i for i in simpleList if i % 2 == 0]}\\n\")\n",
    "print(f\"This is a powerful approach to working with iterables.\\nAnything you can iterate through in a for loop can be iterated through here.\")"
   ]
  },
  {
   "cell_type": "code",
   "execution_count": 54,
   "metadata": {},
   "outputs": [
    {
     "name": "stdout",
     "output_type": "stream",
     "text": [
      "a is less than b\n",
      "Sample of or with None:  9\n",
      "Sample of or with False:  9\n"
     ]
    }
   ],
   "source": [
    "\"\"\"\n",
    "Conditionals are common. It would be nice if there was a way to shorten them in some cases. \n",
    "This is python so of course there is.\n",
    "<true action> if <test> else <false action> \n",
    "That doesnt allow as much flexibility.\n",
    "\n",
    "There is also a neat trick; you can bypass if entirely in some cases using or\n",
    "<item if it isnt None> or <item if it is none>\n",
    "This is python so these could be functions. \n",
    "\"\"\"\n",
    "a=7\n",
    "b=10\n",
    "\n",
    "print(f\"{'a is less than b' if a<b else 'a is not less than b'}\")\n",
    "\n",
    "a=None\n",
    "\n",
    "print(f\"Sample of or with None:  {a or 9}\")     \n",
    "\n",
    "a=False\n",
    "print(f\"Sample of or with False:  {False or 9}\")"
   ]
  },
  {
   "cell_type": "code",
   "execution_count": null,
   "metadata": {},
   "outputs": [],
   "source": []
  }
 ],
 "metadata": {
  "kernelspec": {
   "display_name": "Python 3.7.3 64-bit",
   "language": "python",
   "name": "python37364bit19f3ed314e7242a9a63c636298ec2888"
  },
  "language_info": {
   "codemirror_mode": {
    "name": "ipython",
    "version": 3
   },
   "file_extension": ".py",
   "mimetype": "text/x-python",
   "name": "python",
   "nbconvert_exporter": "python",
   "pygments_lexer": "ipython3",
   "version": "3.7.3"
  }
 },
 "nbformat": 4,
 "nbformat_minor": 2
}
