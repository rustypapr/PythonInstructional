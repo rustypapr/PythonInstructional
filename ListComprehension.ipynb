{
 "cells": [
  {
   "cell_type": "markdown",
   "metadata": {},
   "source": [
    "## List Comprehension"
   ]
  },
  {
   "cell_type": "code",
   "execution_count": null,
   "metadata": {},
   "outputs": [],
   "source": [
    "mylist = [1,2,3,\"Fun\"]"
   ]
  },
  {
   "cell_type": "code",
   "execution_count": 1,
   "metadata": {},
   "outputs": [
    {
     "name": "stdout",
     "output_type": "stream",
     "text": [
      "['h', 'a', 'l', 'i', 'b', 'u', 't']\n"
     ]
    }
   ],
   "source": [
    "fish = \"halibut\"\n",
    "\n",
    "# Create an array\n",
    "# append items into it\n",
    "letters = []  \n",
    "for letter in fish:\n",
    "    letters.append(letter)\n",
    "print(letters)"
   ]
  },
  {
   "cell_type": "code",
   "execution_count": 2,
   "metadata": {},
   "outputs": [
    {
     "name": "stdout",
     "output_type": "stream",
     "text": [
      "['h', 'a', 'l', 'i', 'b', 'u', 't']\n"
     ]
    }
   ],
   "source": [
    "letters = [letter for letter in fish]\n",
    "print(letters)"
   ]
  },
  {
   "cell_type": "code",
   "execution_count": 3,
   "metadata": {},
   "outputs": [
    {
     "data": {
      "text/plain": [
       "range(0, 10)"
      ]
     },
     "execution_count": 3,
     "metadata": {},
     "output_type": "execute_result"
    }
   ],
   "source": [
    "range(10)"
   ]
  },
  {
   "cell_type": "code",
   "execution_count": 4,
   "metadata": {},
   "outputs": [
    {
     "name": "stdout",
     "output_type": "stream",
     "text": [
      "[0, 1, 2, 3, 4, 5, 6, 7, 8, 9]\n"
     ]
    }
   ],
   "source": [
    "numbers = [] \n",
    "for number in range(10):\n",
    "    numbers.append(number)\n",
    "    \n",
    "print(numbers)"
   ]
  },
  {
   "cell_type": "code",
   "execution_count": 5,
   "metadata": {},
   "outputs": [
    {
     "data": {
      "text/plain": [
       "[0, 1, 2, 3, 4, 5, 6, 7, 8, 9]"
      ]
     },
     "execution_count": 5,
     "metadata": {},
     "output_type": "execute_result"
    }
   ],
   "source": [
    "[n for n in range(10)]"
   ]
  },
  {
   "cell_type": "code",
   "execution_count": 6,
   "metadata": {},
   "outputs": [
    {
     "data": {
      "text/plain": [
       "[37, 38, 39, 40, 41, 42, 43, 44, 45, 46]"
      ]
     },
     "execution_count": 6,
     "metadata": {},
     "output_type": "execute_result"
    }
   ],
   "source": [
    " [n+37 for n in range(10)]"
   ]
  },
  {
   "cell_type": "code",
   "execution_count": 7,
   "metadata": {},
   "outputs": [
    {
     "data": {
      "text/plain": [
       "[{'number': 100},\n",
       " {'number': 101},\n",
       " {'number': 102},\n",
       " {'number': 103},\n",
       " {'number': 104},\n",
       " {'number': 105},\n",
       " {'number': 106},\n",
       " {'number': 107},\n",
       " {'number': 108},\n",
       " {'number': 109}]"
      ]
     },
     "execution_count": 7,
     "metadata": {},
     "output_type": "execute_result"
    }
   ],
   "source": [
    "[{'number':n} for n in range(100,110)]"
   ]
  },
  {
   "cell_type": "code",
   "execution_count": 14,
   "metadata": {},
   "outputs": [
    {
     "data": {
      "text/plain": [
       "[(0, 1),\n",
       " (1, 2),\n",
       " (2, 4),\n",
       " (3, 8),\n",
       " (4, 16),\n",
       " (5, 32),\n",
       " (6, 64),\n",
       " (7, 128),\n",
       " (8, 256),\n",
       " (9, 512)]"
      ]
     },
     "execution_count": 14,
     "metadata": {},
     "output_type": "execute_result"
    }
   ],
   "source": [
    "[(n, 2**n)  for n in range(10)]"
   ]
  },
  {
   "cell_type": "code",
   "execution_count": 15,
   "metadata": {},
   "outputs": [
    {
     "data": {
      "text/plain": [
       "['E', 'X', 'C', 'I', 'T', 'E', 'M', 'E', 'N', 'T']"
      ]
     },
     "execution_count": 15,
     "metadata": {},
     "output_type": "execute_result"
    }
   ],
   "source": [
    "[letter.upper() for letter in 'excitement']"
   ]
  },
  {
   "cell_type": "code",
   "execution_count": 16,
   "metadata": {},
   "outputs": [
    {
     "data": {
      "text/plain": [
       "'EXCITEMENT'"
      ]
     },
     "execution_count": 16,
     "metadata": {},
     "output_type": "execute_result"
    }
   ],
   "source": [
    "\"\".join([letter.upper() for letter in 'excitement'])"
   ]
  },
  {
   "cell_type": "code",
   "execution_count": 17,
   "metadata": {},
   "outputs": [
    {
     "data": {
      "text/plain": [
       "'E|||X|||C|||I|||T|||E|||M|||E|||N|||T'"
      ]
     },
     "execution_count": 17,
     "metadata": {},
     "output_type": "execute_result"
    }
   ],
   "source": [
    "\"|||\".join([letter.upper() for letter in 'excitement'])"
   ]
  },
  {
   "cell_type": "code",
   "execution_count": 18,
   "metadata": {},
   "outputs": [
    {
     "name": "stdout",
     "output_type": "stream",
     "text": [
      "[92, 106]\n"
     ]
    }
   ],
   "source": [
    "# We can also add conditional logic (if statements) to a list comprehension\n",
    "july_temperatures = [87, 85, 92, 79, 106]\n",
    "hot_days = []\n",
    "for temperature in july_temperatures:\n",
    "    if temperature > 90:\n",
    "        hot_days.append(temperature)\n",
    "print(hot_days)\n"
   ]
  },
  {
   "cell_type": "code",
   "execution_count": 21,
   "metadata": {},
   "outputs": [
    {
     "name": "stdout",
     "output_type": "stream",
     "text": [
      "[92, 106]\n"
     ]
    }
   ],
   "source": [
    "# List Comprehension with conditional\n",
    "hot_days = [temperature for temperature in july_temperatures if temperature > 90]\n",
    "\n",
    "print(hot_days)"
   ]
  },
  {
   "cell_type": "code",
   "execution_count": 20,
   "metadata": {},
   "outputs": [
    {
     "name": "stdout",
     "output_type": "stream",
     "text": [
      "['Cold!', 'Cold!', 92, 'Cold!', 106]\n"
     ]
    }
   ],
   "source": [
    "# List Comprehension with conditional\n",
    "hot_days = [temperature  if temperature > 90 else 'Cold!' for temperature in july_temperatures]\n",
    "\n",
    "print(hot_days)"
   ]
  },
  {
   "cell_type": "code",
   "execution_count": 22,
   "metadata": {},
   "outputs": [
    {
     "data": {
      "text/plain": [
       "[[7, 7, 4, 8, 2, 0, 4, 8, 5, 3],\n",
       " [2, 1, 0, 3, 8, 6, 3, 3, 0, 4],\n",
       " [2, 6, 5, 6, 0, 1, 1, 9, 6, 3],\n",
       " [5, 0, 2, 7, 4, 4, 1, 8, 2, 3],\n",
       " [3, 4, 5, 3, 8, 6, 0, 2, 2, 5],\n",
       " [2, 4, 7, 4, 7, 1, 4, 6, 5, 4],\n",
       " [3, 4, 9, 9, 1, 5, 2, 6, 6, 6],\n",
       " [1, 0, 0, 7, 7, 8, 8, 5, 3, 3],\n",
       " [6, 0, 6, 7, 7, 3, 1, 4, 2, 3],\n",
       " [9, 5, 3, 1, 9, 3, 2, 9, 4, 9]]"
      ]
     },
     "execution_count": 22,
     "metadata": {},
     "output_type": "execute_result"
    }
   ],
   "source": [
    "import random\n",
    "\n",
    "def randArray(length):\n",
    "    return [random.randint(0,9) for n in range(length)]\n",
    "\n",
    "nums = [randArray(10) for r in range(10)]\n",
    "nums"
   ]
  },
  {
   "cell_type": "code",
   "execution_count": 25,
   "metadata": {},
   "outputs": [
    {
     "data": {
      "text/plain": [
       "[[6, 3, 2, 0, 3, 4, 0, 1, 1, 3],\n",
       " [0, 4, 3, 4, 4, 2, 1, 3, 8, 4],\n",
       " [8, 6, 0, 8, 1, 3, 2, 6, 1, 9],\n",
       " [7, 4, 3, 3, 9, 7, 7, 0, 6, 4],\n",
       " [9, 3, 7, 2, 8, 4, 3, 6, 9, 7],\n",
       " [0, 7, 1, 4, 6, 2, 5, 9, 6, 5],\n",
       " [6, 8, 4, 4, 8, 4, 2, 4, 3, 3],\n",
       " [6, 6, 9, 6, 3, 9, 1, 1, 6, 5],\n",
       " [0, 7, 9, 5, 6, 4, 7, 1, 6, 4],\n",
       " [9, 9, 7, 2, 7, 2, 6, 9, 2, 6]]"
      ]
     },
     "execution_count": 25,
     "metadata": {},
     "output_type": "execute_result"
    }
   ],
   "source": [
    "[ [random.randint(0,9) for n in range(10)] for r in range(10)]"
   ]
  },
  {
   "cell_type": "code",
   "execution_count": 26,
   "metadata": {},
   "outputs": [
    {
     "data": {
      "text/plain": [
       "['id', 'name', 'birthday']"
      ]
     },
     "execution_count": 26,
     "metadata": {},
     "output_type": "execute_result"
    }
   ],
   "source": [
    "\"id,name,birthday\".split(\",\")"
   ]
  },
  {
   "cell_type": "code",
   "execution_count": 28,
   "metadata": {},
   "outputs": [
    {
     "data": {
      "text/plain": [
       "'id,name,birthday'"
      ]
     },
     "execution_count": 28,
     "metadata": {},
     "output_type": "execute_result"
    }
   ],
   "source": [
    "\",\".join(['id', 'name', 'birthday'])"
   ]
  },
  {
   "cell_type": "code",
   "execution_count": null,
   "metadata": {},
   "outputs": [],
   "source": [
    "str."
   ]
  }
 ],
 "metadata": {
  "kernelspec": {
   "display_name": "Python 3",
   "language": "python",
   "name": "python3"
  },
  "language_info": {
   "codemirror_mode": {
    "name": "ipython",
    "version": 3
   },
   "file_extension": ".py",
   "mimetype": "text/x-python",
   "name": "python",
   "nbconvert_exporter": "python",
   "pygments_lexer": "ipython3",
   "version": "3.7.3"
  }
 },
 "nbformat": 4,
 "nbformat_minor": 2
}
